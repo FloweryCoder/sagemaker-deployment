{
 "cells": [
  {
   "cell_type": "markdown",
   "metadata": {},
   "source": [
    "# Creating a Sentiment Analysis Web App\n",
    "## Using PyTorch and SageMaker\n",
    "\n",
    "_Deep Learning Nanodegree Program | Deployment_\n",
    "\n",
    "---\n",
    "\n",
    "Now that we have a basic understanding of how SageMaker works we will try to use it to construct a complete project from end to end. Our goal will be to have a simple web page which a user can use to enter a movie review. The web page will then send the review off to our deployed model which will predict the sentiment of the entered review.\n",
    "\n",
    "## Instructions\n",
    "\n",
    "Some template code has already been provided for you, and you will need to implement additional functionality to successfully complete this notebook. You will not need to modify the included code beyond what is requested. Sections that begin with '**TODO**' in the header indicate that you need to complete or implement some portion within them. Instructions will be provided for each section and the specifics of the implementation are marked in the code block with a `# TODO: ...` comment. Please be sure to read the instructions carefully!\n",
    "\n",
    "In addition to implementing code, there will be questions for you to answer which relate to the task and your implementation. Each section where you will answer a question is preceded by a '**Question:**' header. Carefully read each question and provide your answer below the '**Answer:**' header by editing the Markdown cell.\n",
    "\n",
    "> **Note**: Code and Markdown cells can be executed using the **Shift+Enter** keyboard shortcut. In addition, a cell can be edited by typically clicking it (double-click for Markdown cells) or by pressing **Enter** while it is highlighted.\n",
    "\n",
    "## General Outline\n",
    "\n",
    "Recall the general outline for SageMaker projects using a notebook instance.\n",
    "\n",
    "1. Download or otherwise retrieve the data.\n",
    "2. Process / Prepare the data.\n",
    "3. Upload the processed data to S3.\n",
    "4. Train a chosen model.\n",
    "5. Test the trained model (typically using a batch transform job).\n",
    "6. Deploy the trained model.\n",
    "7. Use the deployed model.\n",
    "\n",
    "For this project, you will be following the steps in the general outline with some modifications. \n",
    "\n",
    "First, you will not be testing the model in its own step. You will still be testing the model, however, you will do it by deploying your model and then using the deployed model by sending the test data to it. One of the reasons for doing this is so that you can make sure that your deployed model is working correctly before moving forward.\n",
    "\n",
    "In addition, you will deploy and use your trained model a second time. In the second iteration you will customize the way that your trained model is deployed by including some of your own code. In addition, your newly deployed model will be used in the sentiment analysis web app."
   ]
  },
  {
   "cell_type": "code",
   "execution_count": 45,
   "metadata": {},
   "outputs": [
    {
     "name": "stdout",
     "output_type": "stream",
     "text": [
      "Requirement already satisfied: sagemaker==1.72.0 in /home/ec2-user/anaconda3/envs/pytorch_p36/lib/python3.6/site-packages (1.72.0)\n",
      "Requirement already satisfied: scipy>=0.19.0 in /home/ec2-user/anaconda3/envs/pytorch_p36/lib/python3.6/site-packages (from sagemaker==1.72.0) (1.5.3)\n",
      "Requirement already satisfied: protobuf>=3.1 in /home/ec2-user/anaconda3/envs/pytorch_p36/lib/python3.6/site-packages (from sagemaker==1.72.0) (3.15.2)\n",
      "Requirement already satisfied: smdebug-rulesconfig==0.1.4 in /home/ec2-user/anaconda3/envs/pytorch_p36/lib/python3.6/site-packages (from sagemaker==1.72.0) (0.1.4)\n",
      "Requirement already satisfied: boto3>=1.14.12 in /home/ec2-user/anaconda3/envs/pytorch_p36/lib/python3.6/site-packages (from sagemaker==1.72.0) (1.17.22)\n",
      "Requirement already satisfied: packaging>=20.0 in /home/ec2-user/anaconda3/envs/pytorch_p36/lib/python3.6/site-packages (from sagemaker==1.72.0) (20.9)\n",
      "Requirement already satisfied: protobuf3-to-dict>=0.1.5 in /home/ec2-user/anaconda3/envs/pytorch_p36/lib/python3.6/site-packages (from sagemaker==1.72.0) (0.1.5)\n",
      "Requirement already satisfied: numpy>=1.9.0 in /home/ec2-user/anaconda3/envs/pytorch_p36/lib/python3.6/site-packages (from sagemaker==1.72.0) (1.19.5)\n",
      "Requirement already satisfied: importlib-metadata>=1.4.0 in /home/ec2-user/anaconda3/envs/pytorch_p36/lib/python3.6/site-packages (from sagemaker==1.72.0) (3.7.0)\n",
      "Requirement already satisfied: s3transfer<0.4.0,>=0.3.0 in /home/ec2-user/anaconda3/envs/pytorch_p36/lib/python3.6/site-packages (from boto3>=1.14.12->sagemaker==1.72.0) (0.3.4)\n",
      "Requirement already satisfied: botocore<1.21.0,>=1.20.22 in /home/ec2-user/anaconda3/envs/pytorch_p36/lib/python3.6/site-packages (from boto3>=1.14.12->sagemaker==1.72.0) (1.20.22)\n",
      "Requirement already satisfied: jmespath<1.0.0,>=0.7.1 in /home/ec2-user/anaconda3/envs/pytorch_p36/lib/python3.6/site-packages (from boto3>=1.14.12->sagemaker==1.72.0) (0.10.0)\n",
      "Requirement already satisfied: urllib3<1.27,>=1.25.4 in /home/ec2-user/anaconda3/envs/pytorch_p36/lib/python3.6/site-packages (from botocore<1.21.0,>=1.20.22->boto3>=1.14.12->sagemaker==1.72.0) (1.26.3)\n",
      "Requirement already satisfied: python-dateutil<3.0.0,>=2.1 in /home/ec2-user/anaconda3/envs/pytorch_p36/lib/python3.6/site-packages (from botocore<1.21.0,>=1.20.22->boto3>=1.14.12->sagemaker==1.72.0) (2.8.1)\n",
      "Requirement already satisfied: zipp>=0.5 in /home/ec2-user/anaconda3/envs/pytorch_p36/lib/python3.6/site-packages (from importlib-metadata>=1.4.0->sagemaker==1.72.0) (3.4.0)\n",
      "Requirement already satisfied: typing-extensions>=3.6.4 in /home/ec2-user/anaconda3/envs/pytorch_p36/lib/python3.6/site-packages (from importlib-metadata>=1.4.0->sagemaker==1.72.0) (3.7.4.3)\n",
      "Requirement already satisfied: pyparsing>=2.0.2 in /home/ec2-user/anaconda3/envs/pytorch_p36/lib/python3.6/site-packages (from packaging>=20.0->sagemaker==1.72.0) (2.4.7)\n",
      "Requirement already satisfied: six>=1.9 in /home/ec2-user/anaconda3/envs/pytorch_p36/lib/python3.6/site-packages (from protobuf>=3.1->sagemaker==1.72.0) (1.15.0)\n"
     ]
    }
   ],
   "source": [
    "# Make sure that we use SageMaker 1.x\n",
    "!pip install sagemaker==1.72.0"
   ]
  },
  {
   "cell_type": "markdown",
   "metadata": {},
   "source": [
    "## Step 1: Downloading the data\n",
    "\n",
    "As in the XGBoost in SageMaker notebook, we will be using the [IMDb dataset](http://ai.stanford.edu/~amaas/data/sentiment/)\n",
    "\n",
    "> Maas, Andrew L., et al. [Learning Word Vectors for Sentiment Analysis](http://ai.stanford.edu/~amaas/data/sentiment/). In _Proceedings of the 49th Annual Meeting of the Association for Computational Linguistics: Human Language Technologies_. Association for Computational Linguistics, 2011."
   ]
  },
  {
   "cell_type": "code",
   "execution_count": 46,
   "metadata": {},
   "outputs": [
    {
     "name": "stdout",
     "output_type": "stream",
     "text": [
      "mkdir: cannot create directory ‘../data’: File exists\n",
      "--2021-03-17 11:37:00--  http://ai.stanford.edu/~amaas/data/sentiment/aclImdb_v1.tar.gz\n",
      "Resolving ai.stanford.edu (ai.stanford.edu)... 171.64.68.10\n",
      "Connecting to ai.stanford.edu (ai.stanford.edu)|171.64.68.10|:80... connected.\n",
      "HTTP request sent, awaiting response... 200 OK\n",
      "Length: 84125825 (80M) [application/x-gzip]\n",
      "Saving to: ‘../data/aclImdb_v1.tar.gz’\n",
      "\n",
      "../data/aclImdb_v1. 100%[===================>]  80.23M  19.9MB/s    in 7.3s    \n",
      "\n",
      "2021-03-17 11:37:07 (11.0 MB/s) - ‘../data/aclImdb_v1.tar.gz’ saved [84125825/84125825]\n",
      "\n"
     ]
    }
   ],
   "source": [
    "%mkdir ../data\n",
    "!wget -O ../data/aclImdb_v1.tar.gz http://ai.stanford.edu/~amaas/data/sentiment/aclImdb_v1.tar.gz\n",
    "!tar -zxf ../data/aclImdb_v1.tar.gz -C ../data"
   ]
  },
  {
   "cell_type": "markdown",
   "metadata": {},
   "source": [
    "## Step 2: Preparing and Processing the data\n",
    "\n",
    "Also, as in the XGBoost notebook, we will be doing some initial data processing. The first few steps are the same as in the XGBoost example. To begin with, we will read in each of the reviews and combine them into a single input structure. Then, we will split the dataset into a training set and a testing set."
   ]
  },
  {
   "cell_type": "code",
   "execution_count": 47,
   "metadata": {},
   "outputs": [],
   "source": [
    "import os\n",
    "import glob\n",
    "\n",
    "def read_imdb_data(data_dir='../data/aclImdb'):\n",
    "    data = {}\n",
    "    labels = {}\n",
    "    \n",
    "    for data_type in ['train', 'test']:\n",
    "        data[data_type] = {}\n",
    "        labels[data_type] = {}\n",
    "        \n",
    "        for sentiment in ['pos', 'neg']:\n",
    "            data[data_type][sentiment] = []\n",
    "            labels[data_type][sentiment] = []\n",
    "            \n",
    "            path = os.path.join(data_dir, data_type, sentiment, '*.txt')\n",
    "            files = glob.glob(path)\n",
    "            \n",
    "            for f in files:\n",
    "                with open(f) as review:\n",
    "                    data[data_type][sentiment].append(review.read())\n",
    "                    # Here we represent a positive review by '1' and a negative review by '0'\n",
    "                    labels[data_type][sentiment].append(1 if sentiment == 'pos' else 0)\n",
    "                    \n",
    "            assert len(data[data_type][sentiment]) == len(labels[data_type][sentiment]), \\\n",
    "                    \"{}/{} data size does not match labels size\".format(data_type, sentiment)\n",
    "                \n",
    "    return data, labels"
   ]
  },
  {
   "cell_type": "code",
   "execution_count": 48,
   "metadata": {},
   "outputs": [
    {
     "name": "stdout",
     "output_type": "stream",
     "text": [
      "IMDB reviews: train = 12500 pos / 12500 neg, test = 12500 pos / 12500 neg\n"
     ]
    }
   ],
   "source": [
    "data, labels = read_imdb_data()\n",
    "print(\"IMDB reviews: train = {} pos / {} neg, test = {} pos / {} neg\".format(\n",
    "            len(data['train']['pos']), len(data['train']['neg']),\n",
    "            len(data['test']['pos']), len(data['test']['neg'])))"
   ]
  },
  {
   "cell_type": "markdown",
   "metadata": {},
   "source": [
    "Now that we've read the raw training and testing data from the downloaded dataset, we will combine the positive and negative reviews and shuffle the resulting records."
   ]
  },
  {
   "cell_type": "code",
   "execution_count": 49,
   "metadata": {},
   "outputs": [],
   "source": [
    "from sklearn.utils import shuffle\n",
    "\n",
    "def prepare_imdb_data(data, labels):\n",
    "    \"\"\"Prepare training and test sets from IMDb movie reviews.\"\"\"\n",
    "    \n",
    "    #Combine positive and negative reviews and labels\n",
    "    data_train = data['train']['pos'] + data['train']['neg']\n",
    "    data_test = data['test']['pos'] + data['test']['neg']\n",
    "    labels_train = labels['train']['pos'] + labels['train']['neg']\n",
    "    labels_test = labels['test']['pos'] + labels['test']['neg']\n",
    "    \n",
    "    #Shuffle reviews and corresponding labels within training and test sets\n",
    "    data_train, labels_train = shuffle(data_train, labels_train)\n",
    "    data_test, labels_test = shuffle(data_test, labels_test)\n",
    "    \n",
    "    # Return a unified training data, test data, training labels, test labets\n",
    "    return data_train, data_test, labels_train, labels_test"
   ]
  },
  {
   "cell_type": "code",
   "execution_count": 50,
   "metadata": {},
   "outputs": [
    {
     "name": "stdout",
     "output_type": "stream",
     "text": [
      "IMDb reviews (combined): train = 25000, test = 25000\n"
     ]
    }
   ],
   "source": [
    "train_X, test_X, train_y, test_y = prepare_imdb_data(data, labels)\n",
    "print(\"IMDb reviews (combined): train = {}, test = {}\".format(len(train_X), len(test_X)))"
   ]
  },
  {
   "cell_type": "markdown",
   "metadata": {},
   "source": [
    "Now that we have our training and testing sets unified and prepared, we should do a quick check and see an example of the data our model will be trained on. This is generally a good idea as it allows you to see how each of the further processing steps affects the reviews and it also ensures that the data has been loaded correctly."
   ]
  },
  {
   "cell_type": "code",
   "execution_count": 51,
   "metadata": {},
   "outputs": [
    {
     "name": "stdout",
     "output_type": "stream",
     "text": [
      "This movie rivals \"Plan 9\" as one of the dumbest movie ever made. Always be concerned when the same person is the:<br /><br />1. Star 2. Director 3. Producer 4. Writer 5. Stuntman, and 6. Editor. Unfortunately, Justin Kreinbrink did all 6 jobs! IMDb shows that he and his father were western 'stunt men'. So maybe that was the problem. <br /><br />Here's just ONE example from the film: in the film the sheriff has to take a witness to another town for protection. Of course, the bad guys find out and are waiting for them. But, what happens? The good guys are riding along and a shot rings out and hits a tree near them. When the camera shows us the bad guys they're all just sitting on a log, chatting. What's wrong with this picture!<br /><br />I could go on. Perhaps this film was meant as a comedy. If so, it didn't do that well either.\n",
      "0\n"
     ]
    }
   ],
   "source": [
    "print(train_X[100])\n",
    "print(train_y[100])"
   ]
  },
  {
   "cell_type": "markdown",
   "metadata": {},
   "source": [
    "The first step in processing the reviews is to make sure that any html tags that appear should be removed. In addition we wish to tokenize our input, that way words such as *entertained* and *entertaining* are considered the same with regard to sentiment analysis."
   ]
  },
  {
   "cell_type": "code",
   "execution_count": 52,
   "metadata": {},
   "outputs": [],
   "source": [
    "import nltk\n",
    "from nltk.corpus import stopwords\n",
    "from nltk.stem.porter import *\n",
    "\n",
    "import re\n",
    "from bs4 import BeautifulSoup\n",
    "\n",
    "def review_to_words(review):\n",
    "    nltk.download(\"stopwords\", quiet=True)\n",
    "    stemmer = PorterStemmer()\n",
    "    \n",
    "    text = BeautifulSoup(review, \"html.parser\").get_text() # Remove HTML tags\n",
    "    text = re.sub(r\"[^a-zA-Z0-9]\", \" \", text.lower()) # Convert to lower case\n",
    "    words = text.split() # Split string into words\n",
    "    words = [w for w in words if w not in stopwords.words(\"english\")] # Remove stopwords\n",
    "    words = [PorterStemmer().stem(w) for w in words] # stem\n",
    "    \n",
    "    return words"
   ]
  },
  {
   "cell_type": "markdown",
   "metadata": {},
   "source": [
    "The `review_to_words` method defined above uses `BeautifulSoup` to remove any html tags that appear and uses the `nltk` package to tokenize the reviews. As a check to ensure we know how everything is working, try applying `review_to_words` to one of the reviews in the training set."
   ]
  },
  {
   "cell_type": "code",
   "execution_count": 53,
   "metadata": {},
   "outputs": [
    {
     "name": "stdout",
     "output_type": "stream",
     "text": [
      "['movi', 'rival', 'plan', '9', 'one', 'dumbest', 'movi', 'ever', 'made', 'alway', 'concern', 'person', '1', 'star', '2', 'director', '3', 'produc', '4', 'writer', '5', 'stuntman', '6', 'editor', 'unfortun', 'justin', 'kreinbrink', '6', 'job', 'imdb', 'show', 'father', 'western', 'stunt', 'men', 'mayb', 'problem', 'one', 'exampl', 'film', 'film', 'sheriff', 'take', 'wit', 'anoth', 'town', 'protect', 'cours', 'bad', 'guy', 'find', 'wait', 'happen', 'good', 'guy', 'ride', 'along', 'shot', 'ring', 'hit', 'tree', 'near', 'camera', 'show', 'us', 'bad', 'guy', 'sit', 'log', 'chat', 'wrong', 'pictur', 'could', 'go', 'perhap', 'film', 'meant', 'comedi', 'well', 'either']\n"
     ]
    }
   ],
   "source": [
    "# TODO: Apply review_to_words to a review (train_X[100] or any other review)\n",
    "words = review_to_words(train_X[100])\n",
    "print(words)"
   ]
  },
  {
   "cell_type": "markdown",
   "metadata": {},
   "source": [
    "**Question:** Above we mentioned that `review_to_words` method removes html formatting and allows us to tokenize the words found in a review, for example, converting *entertained* and *entertaining* into *entertain* so that they are treated as though they are the same word. What else, if anything, does this method do to the input?"
   ]
  },
  {
   "cell_type": "markdown",
   "metadata": {},
   "source": [
    "**Answer:** In addition to the above, the function review_to_words convert all words to lower case and remove the stop words such as: a, an, the, etc. The returned result is an array of tokens. "
   ]
  },
  {
   "cell_type": "markdown",
   "metadata": {},
   "source": [
    "The method below applies the `review_to_words` method to each of the reviews in the training and testing datasets. In addition it caches the results. This is because performing this processing step can take a long time. This way if you are unable to complete the notebook in the current session, you can come back without needing to process the data a second time."
   ]
  },
  {
   "cell_type": "code",
   "execution_count": 54,
   "metadata": {},
   "outputs": [],
   "source": [
    "import pickle\n",
    "\n",
    "cache_dir = os.path.join(\"../cache\", \"sentiment_analysis\")  # where to store cache files\n",
    "os.makedirs(cache_dir, exist_ok=True)  # ensure cache directory exists\n",
    "\n",
    "def preprocess_data(data_train, data_test, labels_train, labels_test,\n",
    "                    cache_dir=cache_dir, cache_file=\"preprocessed_data.pkl\"):\n",
    "    \"\"\"Convert each review to words; read from cache if available.\"\"\"\n",
    "\n",
    "    # If cache_file is not None, try to read from it first\n",
    "    cache_data = None\n",
    "    if cache_file is not None:\n",
    "        try:\n",
    "            with open(os.path.join(cache_dir, cache_file), \"rb\") as f:\n",
    "                cache_data = pickle.load(f)\n",
    "            print(\"Read preprocessed data from cache file:\", cache_file)\n",
    "        except:\n",
    "            pass  # unable to read from cache, but that's okay\n",
    "    \n",
    "    # If cache is missing, then do the heavy lifting\n",
    "    if cache_data is None:\n",
    "        # Preprocess training and test data to obtain words for each review\n",
    "        #words_train = list(map(review_to_words, data_train))\n",
    "        #words_test = list(map(review_to_words, data_test))\n",
    "        words_train = [review_to_words(review) for review in data_train]\n",
    "        words_test = [review_to_words(review) for review in data_test]\n",
    "        \n",
    "        # Write to cache file for future runs\n",
    "        if cache_file is not None:\n",
    "            cache_data = dict(words_train=words_train, words_test=words_test,\n",
    "                              labels_train=labels_train, labels_test=labels_test)\n",
    "            with open(os.path.join(cache_dir, cache_file), \"wb\") as f:\n",
    "                pickle.dump(cache_data, f)\n",
    "            print(\"Wrote preprocessed data to cache file:\", cache_file)\n",
    "    else:\n",
    "        # Unpack data loaded from cache file\n",
    "        words_train, words_test, labels_train, labels_test = (cache_data['words_train'],\n",
    "                cache_data['words_test'], cache_data['labels_train'], cache_data['labels_test'])\n",
    "    \n",
    "    return words_train, words_test, labels_train, labels_test"
   ]
  },
  {
   "cell_type": "code",
   "execution_count": 55,
   "metadata": {},
   "outputs": [
    {
     "name": "stdout",
     "output_type": "stream",
     "text": [
      "Read preprocessed data from cache file: preprocessed_data.pkl\n"
     ]
    }
   ],
   "source": [
    "# Preprocess data\n",
    "train_X, test_X, train_y, test_y = preprocess_data(train_X, test_X, train_y, test_y)"
   ]
  },
  {
   "cell_type": "markdown",
   "metadata": {},
   "source": [
    "## Transform the data\n",
    "\n",
    "In the XGBoost notebook we transformed the data from its word representation to a bag-of-words feature representation. For the model we are going to construct in this notebook we will construct a feature representation which is very similar. To start, we will represent each word as an integer. Of course, some of the words that appear in the reviews occur very infrequently and so likely don't contain much information for the purposes of sentiment analysis. The way we will deal with this problem is that we will fix the size of our working vocabulary and we will only include the words that appear most frequently. We will then combine all of the infrequent words into a single category and, in our case, we will label it as `1`.\n",
    "\n",
    "Since we will be using a recurrent neural network, it will be convenient if the length of each review is the same. To do this, we will fix a size for our reviews and then pad short reviews with the category 'no word' (which we will label `0`) and truncate long reviews."
   ]
  },
  {
   "cell_type": "markdown",
   "metadata": {},
   "source": [
    "### (TODO) Create a word dictionary\n",
    "\n",
    "To begin with, we need to construct a way to map words that appear in the reviews to integers. Here we fix the size of our vocabulary (including the 'no word' and 'infrequent' categories) to be `5000` but you may wish to change this to see how it affects the model.\n",
    "\n",
    "> **TODO:** Complete the implementation for the `build_dict()` method below. Note that even though the vocab_size is set to `5000`, we only want to construct a mapping for the most frequently appearing `4998` words. This is because we want to reserve the special labels `0` for 'no word' and `1` for 'infrequent word'."
   ]
  },
  {
   "cell_type": "code",
   "execution_count": 56,
   "metadata": {},
   "outputs": [],
   "source": [
    "import numpy as np\n",
    "from sklearn.feature_extraction.text import CountVectorizer\n",
    "import operator\n",
    "\n",
    "def extract_topn_from_vector(feature_names, sorted_items, topn=5):\n",
    "    \"\"\"return n-gram counts in descending order of counts\"\"\"\n",
    "    \n",
    "    \n",
    "    sorted_items = sorted_items[:topn]\n",
    "\n",
    "    results=[]\n",
    "    \n",
    "    # word index, count i\n",
    "    for idx, count in sorted_items:\n",
    "        \n",
    "        # get the ngram name\n",
    "        n_gram=feature_names[idx]\n",
    "        \n",
    "        # collect as a list of tuples\n",
    "        results.append((n_gram,count))\n",
    "\n",
    "    return results\n",
    "\n",
    "def build_dict(data, vocab_size = 5000):\n",
    "    \"\"\"Construct and return a dictionary mapping each of the most frequently appearing words to a unique integer.\"\"\"\n",
    "    \n",
    "    # TODO: Determine how often each word appears in `data`. Note that `data` is a list of sentences and that a\n",
    "    #       sentence is a list of words.\n",
    "    \n",
    "    word_count = {} \n",
    "    for sentences in data:\n",
    "        for word in sentences:\n",
    "            if word not in word_count:\n",
    "                word_count[word] = 1\n",
    "            else:\n",
    "                word_count[word] += 1\n",
    "    \n",
    "    # TODO: Sort the words found in `data` so that sorted_words[0] is the most frequently appearing word and\n",
    "    #       sorted_words[-1] is the least frequently appearing word.\n",
    "    \n",
    "    sorted_words = list({i: j for i, j in sorted(word_count.items(), key=lambda item: item[1], reverse=True)}.keys())\n",
    "    \n",
    "    word_dict = {} # This is what we are building, a dictionary that translates words into integers\n",
    "    for idx, word in enumerate(sorted_words[:(vocab_size - 2)]): # The -2 is so that we save room for the 'no word'\n",
    "        word_dict[word] = idx + 2                              # 'infrequent' labels\n",
    "        \n",
    "    return word_dict"
   ]
  },
  {
   "cell_type": "code",
   "execution_count": 57,
   "metadata": {},
   "outputs": [
    {
     "name": "stdout",
     "output_type": "stream",
     "text": [
      "{'movi': 2, 'film': 3, 'one': 4, 'like': 5, 'time': 6, 'good': 7, 'make': 8, 'charact': 9, 'get': 10, 'see': 11, 'watch': 12, 'stori': 13, 'even': 14, 'would': 15, 'realli': 16, 'well': 17, 'scene': 18, 'look': 19, 'show': 20, 'much': 21, 'end': 22, 'peopl': 23, 'bad': 24, 'go': 25, 'great': 26, 'also': 27, 'first': 28, 'love': 29, 'think': 30, 'way': 31, 'act': 32, 'play': 33, 'made': 34, 'thing': 35, 'could': 36, 'know': 37, 'say': 38, 'seem': 39, 'work': 40, 'plot': 41, 'two': 42, 'actor': 43, 'year': 44, 'come': 45, 'mani': 46, 'seen': 47, 'take': 48, 'want': 49, 'life': 50, 'never': 51, 'littl': 52, 'best': 53, 'tri': 54, 'man': 55, 'ever': 56, 'give': 57, 'better': 58, 'still': 59, 'perform': 60, 'find': 61, 'feel': 62, 'part': 63, 'back': 64, 'use': 65, 'someth': 66, 'director': 67, 'actual': 68, 'interest': 69, 'lot': 70, 'real': 71, 'old': 72, 'cast': 73, 'though': 74, 'live': 75, 'star': 76, 'enjoy': 77, 'guy': 78, 'anoth': 79, 'new': 80, 'role': 81, 'noth': 82, '10': 83, 'funni': 84, 'music': 85, 'point': 86, 'start': 87, 'set': 88, 'girl': 89, 'origin': 90, 'day': 91, 'world': 92, 'everi': 93, 'believ': 94, 'turn': 95, 'quit': 96, 'direct': 97, 'us': 98, 'thought': 99, 'fact': 100, 'minut': 101, 'horror': 102, 'kill': 103, 'action': 104, 'comedi': 105, 'pretti': 106, 'young': 107, 'wonder': 108, 'happen': 109, 'around': 110, 'got': 111, 'effect': 112, 'right': 113, 'long': 114, 'howev': 115, 'big': 116, 'line': 117, 'famili': 118, 'enough': 119, 'seri': 120, 'may': 121, 'need': 122, 'fan': 123, 'bit': 124, 'script': 125, 'beauti': 126, 'person': 127, 'becom': 128, 'without': 129, 'must': 130, 'alway': 131, 'friend': 132, 'tell': 133, 'reason': 134, 'saw': 135, 'last': 136, 'final': 137, 'kid': 138, 'almost': 139, 'put': 140, 'least': 141, 'sure': 142, 'done': 143, 'whole': 144, 'place': 145, 'complet': 146, 'kind': 147, 'expect': 148, 'differ': 149, 'shot': 150, 'far': 151, 'mean': 152, 'anyth': 153, 'book': 154, 'laugh': 155, 'might': 156, 'name': 157, 'sinc': 158, 'begin': 159, '2': 160, 'probabl': 161, 'woman': 162, 'help': 163, 'entertain': 164, 'let': 165, 'screen': 166, 'call': 167, 'tv': 168, 'moment': 169, 'away': 170, 'read': 171, 'yet': 172, 'rather': 173, 'worst': 174, 'run': 175, 'fun': 176, 'lead': 177, 'hard': 178, 'audienc': 179, 'idea': 180, 'anyon': 181, 'episod': 182, 'american': 183, 'found': 184, 'appear': 185, 'bore': 186, 'especi': 187, 'although': 188, 'hope': 189, 'cours': 190, 'keep': 191, 'anim': 192, 'job': 193, 'goe': 194, 'move': 195, 'sens': 196, 'dvd': 197, 'version': 198, 'war': 199, 'money': 200, 'someon': 201, 'mind': 202, 'mayb': 203, 'problem': 204, 'true': 205, 'hous': 206, 'everyth': 207, 'nice': 208, 'second': 209, 'rate': 210, 'three': 211, 'night': 212, 'face': 213, 'follow': 214, 'recommend': 215, 'product': 216, 'main': 217, 'worth': 218, 'leav': 219, 'human': 220, 'special': 221, 'excel': 222, 'togeth': 223, 'wast': 224, 'everyon': 225, 'sound': 226, 'john': 227, 'hand': 228, '1': 229, 'father': 230, 'later': 231, 'eye': 232, 'said': 233, 'view': 234, 'instead': 235, 'review': 236, 'boy': 237, 'high': 238, 'hour': 239, 'miss': 240, 'classic': 241, 'talk': 242, 'wife': 243, 'understand': 244, 'left': 245, 'care': 246, 'black': 247, 'death': 248, 'open': 249, 'murder': 250, 'write': 251, 'half': 252, 'head': 253, 'rememb': 254, 'chang': 255, 'viewer': 256, 'fight': 257, 'gener': 258, 'surpris': 259, 'short': 260, 'includ': 261, 'die': 262, 'fall': 263, 'less': 264, 'els': 265, 'entir': 266, 'piec': 267, 'involv': 268, 'pictur': 269, 'simpli': 270, 'top': 271, 'power': 272, 'home': 273, 'total': 274, 'usual': 275, 'budget': 276, 'attempt': 277, 'suppos': 278, 'releas': 279, 'hollywood': 280, 'terribl': 281, 'song': 282, 'men': 283, 'possibl': 284, 'featur': 285, 'portray': 286, 'disappoint': 287, '3': 288, 'poor': 289, 'coupl': 290, 'camera': 291, 'stupid': 292, 'dead': 293, 'wrong': 294, 'low': 295, 'produc': 296, 'either': 297, 'video': 298, 'aw': 299, 'definit': 300, 'except': 301, 'rest': 302, 'given': 303, 'absolut': 304, 'women': 305, 'lack': 306, 'word': 307, 'writer': 308, 'titl': 309, 'talent': 310, 'decid': 311, 'full': 312, 'perfect': 313, 'along': 314, 'style': 315, 'close': 316, 'truli': 317, 'school': 318, 'save': 319, 'emot': 320, 'sex': 321, 'age': 322, 'next': 323, 'bring': 324, 'mr': 325, 'case': 326, 'killer': 327, 'heart': 328, 'comment': 329, 'sort': 330, 'creat': 331, 'perhap': 332, 'came': 333, 'brother': 334, 'sever': 335, 'joke': 336, 'art': 337, 'dialogu': 338, 'game': 339, 'small': 340, 'base': 341, 'flick': 342, 'written': 343, 'sequenc': 344, 'meet': 345, 'earli': 346, 'often': 347, 'other': 348, 'mother': 349, 'develop': 350, 'humor': 351, 'actress': 352, 'consid': 353, 'dark': 354, 'guess': 355, 'amaz': 356, 'unfortun': 357, 'lost': 358, 'light': 359, 'exampl': 360, 'cinema': 361, 'drama': 362, 'ye': 363, 'white': 364, 'experi': 365, 'imagin': 366, 'mention': 367, 'stop': 368, 'natur': 369, 'forc': 370, 'manag': 371, 'felt': 372, 'present': 373, 'cut': 374, 'children': 375, 'fail': 376, 'son': 377, 'qualiti': 378, 'support': 379, 'car': 380, 'ask': 381, 'hit': 382, 'side': 383, 'voic': 384, 'extrem': 385, 'impress': 386, 'wors': 387, 'evil': 388, 'went': 389, 'stand': 390, 'certainli': 391, 'basic': 392, 'oh': 393, 'overal': 394, 'favorit': 395, 'horribl': 396, 'mysteri': 397, 'number': 398, 'type': 399, 'danc': 400, 'wait': 401, 'hero': 402, 'alreadi': 403, '5': 404, 'learn': 405, 'matter': 406, '4': 407, 'michael': 408, 'genr': 409, 'fine': 410, 'despit': 411, 'throughout': 412, 'walk': 413, 'success': 414, 'histori': 415, 'question': 416, 'zombi': 417, 'town': 418, 'relationship': 419, 'realiz': 420, 'past': 421, 'child': 422, 'daughter': 423, 'late': 424, 'b': 425, 'wish': 426, 'hate': 427, 'credit': 428, 'event': 429, 'theme': 430, 'touch': 431, 'citi': 432, 'today': 433, 'sometim': 434, 'behind': 435, 'god': 436, 'twist': 437, 'sit': 438, 'stay': 439, 'annoy': 440, 'deal': 441, 'abl': 442, 'rent': 443, 'pleas': 444, 'edit': 445, 'blood': 446, 'deserv': 447, 'anyway': 448, 'comic': 449, 'appar': 450, 'soon': 451, 'gave': 452, 'etc': 453, 'level': 454, 'slow': 455, 'chanc': 456, 'score': 457, 'bodi': 458, 'brilliant': 459, 'incred': 460, 'figur': 461, 'situat': 462, 'major': 463, 'self': 464, 'stuff': 465, 'decent': 466, 'element': 467, 'dream': 468, 'return': 469, 'obvious': 470, 'continu': 471, 'order': 472, 'pace': 473, 'ridicul': 474, 'happi': 475, 'add': 476, 'group': 477, 'highli': 478, 'thank': 479, 'ladi': 480, 'novel': 481, 'speak': 482, 'pain': 483, 'career': 484, 'shoot': 485, 'strang': 486, 'heard': 487, 'sad': 488, 'husband': 489, 'polic': 490, 'import': 491, 'break': 492, 'took': 493, 'cannot': 494, 'strong': 495, 'predict': 496, 'robert': 497, 'violenc': 498, 'hilari': 499, 'recent': 500, 'countri': 501, 'known': 502, 'particularli': 503, 'pick': 504, 'documentari': 505, 'season': 506, 'critic': 507, 'jame': 508, 'compar': 509, 'obviou': 510, 'alon': 511, 'told': 512, 'state': 513, 'visual': 514, 'rock': 515, 'exist': 516, 'theater': 517, 'offer': 518, 'opinion': 519, 'gore': 520, 'hold': 521, 'crap': 522, 'result': 523, 'hear': 524, 'room': 525, 'realiti': 526, 'clich': 527, 'effort': 528, 'thriller': 529, 'caus': 530, 'explain': 531, 'sequel': 532, 'serious': 533, 'king': 534, 'local': 535, 'ago': 536, 'none': 537, 'hell': 538, 'note': 539, 'allow': 540, 'david': 541, 'sister': 542, 'simpl': 543, 'femal': 544, 'deliv': 545, 'ok': 546, 'convinc': 547, 'class': 548, 'check': 549, 'suspens': 550, 'win': 551, 'buy': 552, 'oscar': 553, 'huge': 554, 'valu': 555, 'sexual': 556, 'cool': 557, 'scari': 558, 'similar': 559, 'excit': 560, 'exactli': 561, 'apart': 562, 'provid': 563, 'shown': 564, 'avoid': 565, 'seriou': 566, 'english': 567, 'whose': 568, 'taken': 569, 'cinematographi': 570, 'shock': 571, 'polit': 572, 'spoiler': 573, 'offic': 574, 'across': 575, 'middl': 576, 'pass': 577, 'street': 578, 'messag': 579, 'silli': 580, 'somewhat': 581, 'charm': 582, 'modern': 583, 'filmmak': 584, 'confus': 585, 'form': 586, 'tale': 587, 'singl': 588, 'jack': 589, 'mostli': 590, 'carri': 591, 'william': 592, 'attent': 593, 'sing': 594, 'five': 595, 'subject': 596, 'richard': 597, 'prove': 598, 'team': 599, 'stage': 600, 'unlik': 601, 'cop': 602, 'georg': 603, 'televis': 604, 'monster': 605, 'earth': 606, 'cover': 607, 'villain': 608, 'pay': 609, 'marri': 610, 'toward': 611, 'build': 612, 'pull': 613, 'parent': 614, 'due': 615, 'fill': 616, 'respect': 617, 'four': 618, 'dialog': 619, 'remind': 620, 'futur': 621, 'weak': 622, 'typic': 623, '7': 624, 'cheap': 625, 'intellig': 626, 'british': 627, 'atmospher': 628, '80': 629, 'clearli': 630, 'paul': 631, 'non': 632, 'dog': 633, 'knew': 634, '8': 635, 'artist': 636, 'fast': 637, 'crime': 638, 'easili': 639, 'escap': 640, 'doubt': 641, 'adult': 642, 'detail': 643, 'date': 644, 'romant': 645, 'fire': 646, 'member': 647, 'drive': 648, 'gun': 649, 'straight': 650, 'beyond': 651, 'fit': 652, 'attack': 653, 'imag': 654, 'upon': 655, 'posit': 656, 'whether': 657, 'peter': 658, 'fantast': 659, 'captur': 660, 'aspect': 661, 'appreci': 662, 'ten': 663, 'plan': 664, 'discov': 665, 'remain': 666, 'near': 667, 'period': 668, 'air': 669, 'realist': 670, 'mark': 671, 'red': 672, 'dull': 673, 'adapt': 674, 'within': 675, 'lose': 676, 'spend': 677, 'materi': 678, 'color': 679, 'chase': 680, 'mari': 681, 'storylin': 682, 'forget': 683, 'bunch': 684, 'clear': 685, 'lee': 686, 'victim': 687, 'nearli': 688, 'box': 689, 'york': 690, 'inspir': 691, 'match': 692, 'mess': 693, 'finish': 694, 'standard': 695, 'easi': 696, 'truth': 697, 'suffer': 698, 'busi': 699, 'dramat': 700, 'space': 701, 'bill': 702, 'western': 703, 'e': 704, 'list': 705, 'battl': 706, 'notic': 707, 'de': 708, 'french': 709, 'ad': 710, '9': 711, 'tom': 712, 'larg': 713, 'among': 714, 'eventu': 715, 'train': 716, 'accept': 717, 'agre': 718, 'spirit': 719, 'soundtrack': 720, 'third': 721, 'teenag': 722, 'soldier': 723, 'adventur': 724, 'famou': 725, 'suggest': 726, 'sorri': 727, 'drug': 728, 'babi': 729, 'normal': 730, 'cri': 731, 'troubl': 732, 'ultim': 733, 'contain': 734, 'certain': 735, 'cultur': 736, 'romanc': 737, 'rare': 738, 'lame': 739, 'somehow': 740, 'disney': 741, 'mix': 742, 'gone': 743, 'cartoon': 744, 'student': 745, 'fear': 746, 'reveal': 747, 'kept': 748, 'suck': 749, 'attract': 750, 'appeal': 751, 'premis': 752, 'secret': 753, 'design': 754, 'greatest': 755, 'shame': 756, 'throw': 757, 'scare': 758, 'copi': 759, 'wit': 760, 'admit': 761, 'america': 762, 'particular': 763, 'brought': 764, 'relat': 765, 'screenplay': 766, 'whatev': 767, 'pure': 768, '70': 769, 'averag': 770, 'harri': 771, 'master': 772, 'describ': 773, 'treat': 774, 'male': 775, '20': 776, 'issu': 777, 'fantasi': 778, 'warn': 779, 'inde': 780, 'background': 781, 'forward': 782, 'project': 783, 'free': 784, 'memor': 785, 'japanes': 786, 'poorli': 787, 'award': 788, 'locat': 789, 'amus': 790, 'potenti': 791, 'struggl': 792, 'weird': 793, 'magic': 794, 'societi': 795, 'okay': 796, 'imdb': 797, 'accent': 798, 'doctor': 799, 'hot': 800, 'water': 801, 'dr': 802, 'alien': 803, '30': 804, 'express': 805, 'odd': 806, 'crazi': 807, 'choic': 808, 'studio': 809, 'fiction': 810, 'becam': 811, 'control': 812, 'masterpiec': 813, 'fli': 814, 'difficult': 815, 'joe': 816, 'scream': 817, 'costum': 818, 'lover': 819, 'refer': 820, 'uniqu': 821, 'remak': 822, 'girlfriend': 823, 'vampir': 824, 'prison': 825, 'execut': 826, 'wear': 827, 'jump': 828, 'unless': 829, 'wood': 830, 'creepi': 831, 'cheesi': 832, 'superb': 833, 'otherwis': 834, 'parti': 835, 'roll': 836, 'ghost': 837, 'mad': 838, 'public': 839, 'depict': 840, 'earlier': 841, 'badli': 842, 'jane': 843, 'week': 844, 'moral': 845, 'fi': 846, 'dumb': 847, 'flaw': 848, 'grow': 849, 'deep': 850, 'sci': 851, 'maker': 852, 'cat': 853, 'footag': 854, 'older': 855, 'connect': 856, 'plenti': 857, 'bother': 858, 'outsid': 859, 'stick': 860, 'gay': 861, 'catch': 862, 'plu': 863, 'co': 864, 'popular': 865, 'equal': 866, 'social': 867, 'disturb': 868, 'quickli': 869, 'perfectli': 870, 'dress': 871, '90': 872, 'era': 873, 'mistak': 874, 'lie': 875, 'previou': 876, 'ride': 877, 'combin': 878, 'concept': 879, 'band': 880, 'answer': 881, 'rich': 882, 'surviv': 883, 'front': 884, 'christma': 885, 'sweet': 886, 'insid': 887, 'bare': 888, 'concern': 889, 'eat': 890, 'beat': 891, 'ben': 892, 'listen': 893, 'c': 894, 'serv': 895, 'term': 896, 'la': 897, 'meant': 898, 'german': 899, 'hardli': 900, 'stereotyp': 901, 'innoc': 902, 'law': 903, 'desper': 904, 'memori': 905, 'promis': 906, 'intent': 907, 'cute': 908, 'variou': 909, 'steal': 910, 'inform': 911, 'brain': 912, 'post': 913, 'tone': 914, 'island': 915, 'amount': 916, 'track': 917, 'nuditi': 918, 'compani': 919, 'store': 920, 'claim': 921, '50': 922, 'hair': 923, 'flat': 924, 'univers': 925, 'land': 926, 'danger': 927, 'kick': 928, 'fairli': 929, 'scott': 930, 'player': 931, 'plain': 932, 'step': 933, 'crew': 934, 'toni': 935, 'share': 936, 'tast': 937, 'centuri': 938, 'achiev': 939, 'engag': 940, 'travel': 941, 'cold': 942, 'suit': 943, 'record': 944, 'rip': 945, 'sadli': 946, 'manner': 947, 'wrote': 948, 'tension': 949, 'spot': 950, 'intens': 951, 'fascin': 952, 'familiar': 953, 'burn': 954, 'remark': 955, 'depth': 956, 'histor': 957, 'destroy': 958, 'sleep': 959, 'purpos': 960, 'languag': 961, 'ignor': 962, 'ruin': 963, 'delight': 964, 'unbeliev': 965, 'italian': 966, 'abil': 967, 'collect': 968, 'soul': 969, 'detect': 970, 'clever': 971, 'violent': 972, 'rape': 973, 'reach': 974, 'door': 975, 'trash': 976, 'scienc': 977, 'liter': 978, 'commun': 979, 'reveng': 980, 'caught': 981, 'creatur': 982, 'approach': 983, 'trip': 984, 'intrigu': 985, 'fashion': 986, 'paint': 987, 'skill': 988, 'introduc': 989, 'channel': 990, 'complex': 991, 'camp': 992, 'christian': 993, 'hole': 994, 'extra': 995, 'mental': 996, 'ann': 997, 'immedi': 998, 'limit': 999, '6': 1000, 'slightli': 1001, 'mere': 1002, 'million': 1003, 'comput': 1004, 'conclus': 1005, 'slasher': 1006, 'imposs': 1007, 'suddenli': 1008, 'teen': 1009, 'crimin': 1010, 'neither': 1011, 'physic': 1012, 'spent': 1013, 'nation': 1014, 'respons': 1015, 'planet': 1016, 'receiv': 1017, 'fake': 1018, 'sick': 1019, 'blue': 1020, 'bizarr': 1021, 'embarrass': 1022, 'indian': 1023, '15': 1024, 'ring': 1025, 'drop': 1026, 'pop': 1027, 'drag': 1028, 'haunt': 1029, 'suspect': 1030, 'pointless': 1031, 'edg': 1032, 'search': 1033, 'handl': 1034, 'biggest': 1035, 'common': 1036, 'faith': 1037, 'hurt': 1038, 'arriv': 1039, 'technic': 1040, 'angel': 1041, 'genuin': 1042, 'dad': 1043, 'solid': 1044, 'f': 1045, 'awesom': 1046, 'van': 1047, 'former': 1048, 'focu': 1049, 'colleg': 1050, 'count': 1051, 'heavi': 1052, 'tear': 1053, 'wall': 1054, 'rais': 1055, 'laughabl': 1056, 'visit': 1057, 'younger': 1058, 'fair': 1059, 'sign': 1060, 'excus': 1061, 'cult': 1062, 'motion': 1063, 'key': 1064, 'tough': 1065, 'desir': 1066, 'super': 1067, 'addit': 1068, 'stun': 1069, 'cloth': 1070, 'exploit': 1071, 'tortur': 1072, 'smith': 1073, 'race': 1074, 'davi': 1075, 'author': 1076, 'cross': 1077, 'jim': 1078, 'focus': 1079, 'compel': 1080, 'minor': 1081, 'consist': 1082, 'pathet': 1083, 'commit': 1084, 'chemistri': 1085, 'park': 1086, 'obsess': 1087, 'tradit': 1088, 'frank': 1089, 'grade': 1090, 'asid': 1091, '60': 1092, 'brutal': 1093, 'steve': 1094, 'somewher': 1095, 'u': 1096, 'depress': 1097, 'opportun': 1098, 'explor': 1099, 'rule': 1100, 'grant': 1101, 'honest': 1102, 'besid': 1103, 'dub': 1104, 'anti': 1105, 'intend': 1106, 'trailer': 1107, 'bar': 1108, 'longer': 1109, 'west': 1110, 'scientist': 1111, 'regard': 1112, 'decad': 1113, 'judg': 1114, 'silent': 1115, 'creativ': 1116, 'armi': 1117, 'wild': 1118, 'g': 1119, 'south': 1120, 'stewart': 1121, 'draw': 1122, 'road': 1123, 'govern': 1124, 'boss': 1125, 'ex': 1126, 'practic': 1127, 'gang': 1128, 'surprisingli': 1129, 'festiv': 1130, 'club': 1131, 'motiv': 1132, 'redeem': 1133, 'london': 1134, 'page': 1135, 'green': 1136, 'militari': 1137, 'machin': 1138, 'idiot': 1139, 'aliv': 1140, 'display': 1141, 'thrill': 1142, 'repeat': 1143, '100': 1144, 'yeah': 1145, 'folk': 1146, 'nobodi': 1147, '40': 1148, 'garbag': 1149, 'journey': 1150, 'smile': 1151, 'tire': 1152, 'ground': 1153, 'bought': 1154, 'mood': 1155, 'stone': 1156, 'cost': 1157, 'sam': 1158, 'mouth': 1159, 'noir': 1160, 'terrif': 1161, 'agent': 1162, 'requir': 1163, 'utterli': 1164, 'honestli': 1165, 'sexi': 1166, 'area': 1167, 'report': 1168, 'geniu': 1169, 'glad': 1170, 'enter': 1171, 'humour': 1172, 'investig': 1173, 'serial': 1174, 'narr': 1175, 'occasion': 1176, 'passion': 1177, 'climax': 1178, 'marriag': 1179, 'studi': 1180, 'industri': 1181, 'nowher': 1182, 'center': 1183, 'demon': 1184, 'charli': 1185, 'ship': 1186, 'loos': 1187, 'hors': 1188, 'bear': 1189, 'wow': 1190, 'hang': 1191, 'graphic': 1192, 'giant': 1193, 'admir': 1194, 'send': 1195, 'damn': 1196, 'loud': 1197, 'rel': 1198, 'nake': 1199, 'subtl': 1200, 'profession': 1201, 'blow': 1202, 'bottom': 1203, 'insult': 1204, 'batman': 1205, 'boyfriend': 1206, 'r': 1207, 'kelli': 1208, 'doubl': 1209, 'initi': 1210, 'frame': 1211, 'opera': 1212, 'gem': 1213, 'challeng': 1214, 'affect': 1215, 'cinemat': 1216, 'church': 1217, 'drawn': 1218, 'j': 1219, 'fulli': 1220, 'evid': 1221, 'nightmar': 1222, 'seek': 1223, 'l': 1224, 'conflict': 1225, 'arm': 1226, 'essenti': 1227, 'wind': 1228, 'grace': 1229, 'henri': 1230, 'christoph': 1231, 'narrat': 1232, 'assum': 1233, 'witch': 1234, 'push': 1235, 'hunt': 1236, 'wise': 1237, 'chri': 1238, 'nomin': 1239, 'repres': 1240, 'month': 1241, 'hide': 1242, 'avail': 1243, 'sceneri': 1244, 'affair': 1245, 'bond': 1246, 'justic': 1247, 'thu': 1248, 'smart': 1249, 'interview': 1250, 'flashback': 1251, 'outstand': 1252, 'presenc': 1253, 'satisfi': 1254, 'constantli': 1255, 'central': 1256, 'bed': 1257, 'sell': 1258, 'iron': 1259, 'content': 1260, 'gag': 1261, 'everybodi': 1262, 'slowli': 1263, 'hotel': 1264, 'hire': 1265, 'system': 1266, 'hey': 1267, 'thrown': 1268, 'individu': 1269, 'charl': 1270, 'adam': 1271, 'mediocr': 1272, 'jone': 1273, 'allen': 1274, 'ray': 1275, 'billi': 1276, 'lesson': 1277, 'cameo': 1278, 'photographi': 1279, 'fellow': 1280, 'pari': 1281, 'strike': 1282, 'absurd': 1283, 'rise': 1284, 'brief': 1285, 'independ': 1286, 'neg': 1287, 'phone': 1288, 'impact': 1289, 'ill': 1290, 'model': 1291, 'born': 1292, 'spoil': 1293, 'fresh': 1294, 'angl': 1295, 'likabl': 1296, 'abus': 1297, 'hill': 1298, 'discuss': 1299, 'sight': 1300, 'ahead': 1301, 'sent': 1302, 'photograph': 1303, 'blame': 1304, 'occur': 1305, 'logic': 1306, 'shine': 1307, 'bruce': 1308, 'mainli': 1309, 'commerci': 1310, 'skip': 1311, 'forev': 1312, 'held': 1313, 'teacher': 1314, 'surround': 1315, 'segment': 1316, 'blond': 1317, 'zero': 1318, 'resembl': 1319, 'summer': 1320, 'satir': 1321, 'trap': 1322, 'fool': 1323, 'queen': 1324, 'ball': 1325, 'six': 1326, 'sub': 1327, 'tragedi': 1328, 'twice': 1329, 'reaction': 1330, 'pack': 1331, 'bomb': 1332, 'hospit': 1333, 'will': 1334, 'protagonist': 1335, 'sport': 1336, 'mile': 1337, 'jerri': 1338, 'drink': 1339, 'vote': 1340, 'mom': 1341, 'trust': 1342, 'encount': 1343, 'plane': 1344, 'current': 1345, 'program': 1346, 'al': 1347, 'station': 1348, 'martin': 1349, 'choos': 1350, 'celebr': 1351, 'join': 1352, 'round': 1353, 'favourit': 1354, 'tragic': 1355, 'lord': 1356, 'field': 1357, 'vision': 1358, 'robot': 1359, 'jean': 1360, 'arthur': 1361, 'tie': 1362, 'fortun': 1363, 'roger': 1364, 'random': 1365, 'psycholog': 1366, 'intern': 1367, 'dread': 1368, 'epic': 1369, 'improv': 1370, 'prefer': 1371, 'nonsens': 1372, 'highlight': 1373, 'formula': 1374, 'legend': 1375, 'pleasur': 1376, 'tape': 1377, 'dollar': 1378, '11': 1379, 'wide': 1380, 'gorgeou': 1381, 'porn': 1382, 'thin': 1383, 'object': 1384, 'fox': 1385, 'buddi': 1386, 'influenc': 1387, 'ugli': 1388, 'nasti': 1389, 'ii': 1390, 'prepar': 1391, 'warm': 1392, 'reflect': 1393, 'supposedli': 1394, 'progress': 1395, 'youth': 1396, 'worthi': 1397, 'length': 1398, 'latter': 1399, 'unusu': 1400, 'crash': 1401, 'superior': 1402, 'childhood': 1403, 'shop': 1404, 'seven': 1405, 'theatr': 1406, 'remot': 1407, 'paid': 1408, 'disgust': 1409, 'pilot': 1410, 'funniest': 1411, 'fell': 1412, 'trick': 1413, 'convers': 1414, 'castl': 1415, 'establish': 1416, 'rob': 1417, 'disast': 1418, 'gangster': 1419, 'heaven': 1420, 'mine': 1421, 'ident': 1422, 'suicid': 1423, 'disappear': 1424, 'singer': 1425, 'mask': 1426, 'forgotten': 1427, 'tend': 1428, 'decis': 1429, 'heroin': 1430, 'partner': 1431, 'brian': 1432, 'desert': 1433, 'recogn': 1434, 'alan': 1435, 'p': 1436, 'ms': 1437, 'thoroughli': 1438, 'stuck': 1439, 'sky': 1440, 'accur': 1441, 'replac': 1442, 'market': 1443, 'seemingli': 1444, 'uncl': 1445, 'andi': 1446, 'clue': 1447, 'commentari': 1448, 'danni': 1449, 'eddi': 1450, 'devil': 1451, 'jackson': 1452, 'that': 1453, 'pair': 1454, 'refus': 1455, 'therefor': 1456, 'fault': 1457, 'accid': 1458, 'river': 1459, 'fate': 1460, 'ed': 1461, 'unit': 1462, 'tune': 1463, 'afraid': 1464, 'stephen': 1465, 'hidden': 1466, 'russian': 1467, 'clean': 1468, 'captain': 1469, 'convey': 1470, 'readi': 1471, 'irrit': 1472, 'test': 1473, 'quick': 1474, 'instanc': 1475, 'european': 1476, 'insan': 1477, 'daniel': 1478, 'frustrat': 1479, 'wed': 1480, 'food': 1481, 'rescu': 1482, 'chines': 1483, '1950': 1484, 'angri': 1485, 'dirti': 1486, 'lock': 1487, 'joy': 1488, 'price': 1489, 'steven': 1490, 'bland': 1491, 'cage': 1492, 'rang': 1493, 'anymor': 1494, 'wooden': 1495, 'rush': 1496, 'news': 1497, 'n': 1498, 'jason': 1499, 'led': 1500, 'twenti': 1501, '12': 1502, 'worri': 1503, 'board': 1504, 'martial': 1505, 'hunter': 1506, 'transform': 1507, 'symbol': 1508, 'cgi': 1509, 'piti': 1510, 'onto': 1511, 'invent': 1512, 'sentiment': 1513, 'x': 1514, 'johnni': 1515, 'attitud': 1516, 'process': 1517, 'explan': 1518, 'awar': 1519, 'owner': 1520, 'aim': 1521, 'target': 1522, 'energi': 1523, 'floor': 1524, 'necessari': 1525, 'favor': 1526, 'opposit': 1527, 'religi': 1528, 'window': 1529, 'insight': 1530, 'chick': 1531, 'blind': 1532, 'movement': 1533, 'comparison': 1534, 'possess': 1535, 'deepli': 1536, 'research': 1537, 'mountain': 1538, 'comed': 1539, 'grand': 1540, 'whatsoev': 1541, 'rain': 1542, 'began': 1543, 'shadow': 1544, 'bank': 1545, 'mid': 1546, 'princ': 1547, 'parodi': 1548, 'weapon': 1549, 'pre': 1550, 'taylor': 1551, 'friendship': 1552, 'credibl': 1553, 'flesh': 1554, 'teach': 1555, 'dougla': 1556, 'protect': 1557, 'hint': 1558, 'bloodi': 1559, 'terror': 1560, 'marvel': 1561, 'drunk': 1562, 'leader': 1563, 'accord': 1564, 'watchabl': 1565, 'load': 1566, 'superman': 1567, 'anybodi': 1568, 'brown': 1569, 'freddi': 1570, 'seat': 1571, 'tim': 1572, 'appropri': 1573, 'jeff': 1574, 'hitler': 1575, 'knock': 1576, 'charg': 1577, 'unknown': 1578, 'keaton': 1579, 'villag': 1580, 'media': 1581, 'enemi': 1582, 'unnecessari': 1583, 'england': 1584, 'empti': 1585, 'dare': 1586, 'utter': 1587, 'perspect': 1588, 'craft': 1589, 'buck': 1590, 'wave': 1591, 'strength': 1592, 'contrast': 1593, 'nativ': 1594, 'ford': 1595, 'correct': 1596, 'kiss': 1597, 'soap': 1598, 'nazi': 1599, 'chill': 1600, 'distract': 1601, 'anywher': 1602, 'magnific': 1603, 'knowledg': 1604, 'speed': 1605, '1980': 1606, 'breath': 1607, 'fred': 1608, 'mission': 1609, 'ice': 1610, 'jr': 1611, 'crowd': 1612, 'moon': 1613, 'joan': 1614, 'kate': 1615, '000': 1616, 'soft': 1617, 'frighten': 1618, 'dick': 1619, 'hundr': 1620, 'dan': 1621, 'nick': 1622, 'dozen': 1623, 'somebodi': 1624, 'radio': 1625, 'simon': 1626, 'andrew': 1627, 'shakespear': 1628, 'thousand': 1629, 'loss': 1630, 'academi': 1631, 'quot': 1632, 'root': 1633, 'vehicl': 1634, 'sum': 1635, 'account': 1636, 'leg': 1637, 'convent': 1638, 'behavior': 1639, '1970': 1640, 'regular': 1641, 'gold': 1642, 'compet': 1643, 'demand': 1644, 'worker': 1645, 'pretenti': 1646, 'japan': 1647, 'notabl': 1648, 'explos': 1649, 'candi': 1650, 'stretch': 1651, 'interpret': 1652, 'privat': 1653, 'lynch': 1654, 'constant': 1655, 'debut': 1656, 'tarzan': 1657, 'sea': 1658, 'translat': 1659, 'prais': 1660, 'spi': 1661, 'revolv': 1662, 'sat': 1663, 'failur': 1664, 'threaten': 1665, 'technolog': 1666, 'jesu': 1667, 'franc': 1668, 'quiet': 1669, 'ass': 1670, 'higher': 1671, 'met': 1672, 'punch': 1673, 'toy': 1674, 'aid': 1675, 'kevin': 1676, 'interact': 1677, 'vh': 1678, 'mike': 1679, 'abandon': 1680, 'command': 1681, 'bet': 1682, 'confront': 1683, 'separ': 1684, 'gotten': 1685, 'stunt': 1686, 'servic': 1687, 'recal': 1688, 'belong': 1689, 'site': 1690, 'techniqu': 1691, 'bug': 1692, 'freak': 1693, 'foot': 1694, 'cabl': 1695, 'fu': 1696, 'bright': 1697, 'capabl': 1698, 'african': 1699, 'jimmi': 1700, 'stock': 1701, 'succeed': 1702, 'presid': 1703, 'boat': 1704, 'clark': 1705, 'fat': 1706, 'spanish': 1707, 'structur': 1708, 'gene': 1709, 'kidnap': 1710, 'paper': 1711, 'factor': 1712, 'whilst': 1713, 'belief': 1714, 'tree': 1715, 'realis': 1716, 'attend': 1717, 'bob': 1718, 'witti': 1719, 'educ': 1720, 'complic': 1721, 'realism': 1722, 'assist': 1723, 'santa': 1724, 'broken': 1725, 'finest': 1726, 'v': 1727, 'up': 1728, 'determin': 1729, 'depart': 1730, 'observ': 1731, 'smoke': 1732, 'domin': 1733, 'lewi': 1734, 'fame': 1735, 'routin': 1736, 'hat': 1737, 'oper': 1738, 'rubbish': 1739, 'morgan': 1740, 'lone': 1741, 'kinda': 1742, 'advanc': 1743, 'hook': 1744, 'safe': 1745, 'foreign': 1746, 'rank': 1747, 'numer': 1748, 'civil': 1749, 'shape': 1750, 'vs': 1751, 'werewolf': 1752, 'shallow': 1753, 'washington': 1754, 'rose': 1755, 'morn': 1756, 'gari': 1757, 'winner': 1758, 'ordinari': 1759, 'kong': 1760, 'accomplish': 1761, 'peac': 1762, 'grab': 1763, 'whenev': 1764, 'virtual': 1765, 'luck': 1766, 'h': 1767, 'offens': 1768, 'patient': 1769, 'contriv': 1770, 'unfunni': 1771, 'complain': 1772, 'activ': 1773, 'bigger': 1774, 'welcom': 1775, 'dimension': 1776, 'pretend': 1777, 'trek': 1778, 'con': 1779, 'dri': 1780, 'code': 1781, 'flash': 1782, 'eric': 1783, 'lesbian': 1784, 'wake': 1785, 'cain': 1786, 'manipul': 1787, 'albert': 1788, 'corrupt': 1789, 'statu': 1790, 'dancer': 1791, 'guard': 1792, 'awkward': 1793, 'sourc': 1794, 'context': 1795, 'speech': 1796, 'signific': 1797, 'gain': 1798, 'anthoni': 1799, 'corni': 1800, '13': 1801, 'clip': 1802, 'psycho': 1803, 'sean': 1804, 'reli': 1805, 'religion': 1806, 'w': 1807, 'advic': 1808, 'curiou': 1809, 'theatric': 1810, 'priest': 1811, 'flow': 1812, 'addict': 1813, 'asian': 1814, 'specif': 1815, 'howard': 1816, 'secur': 1817, 'skin': 1818, 'jennif': 1819, 'golden': 1820, 'promot': 1821, 'core': 1822, 'comfort': 1823, 'luke': 1824, 'organ': 1825, 'cheat': 1826, 'cash': 1827, 'lucki': 1828, 'dislik': 1829, 'lower': 1830, 'associ': 1831, 'devic': 1832, 'contribut': 1833, 'frankli': 1834, 'wing': 1835, 'balanc': 1836, 'spell': 1837, 'frequent': 1838, 'degre': 1839, 'regret': 1840, 'forgiv': 1841, 'lake': 1842, 'sake': 1843, 'print': 1844, 'thoma': 1845, 'betti': 1846, 'mass': 1847, 'gordon': 1848, 'unexpect': 1849, 'crack': 1850, 'unfold': 1851, 'construct': 1852, 'categori': 1853, 'grown': 1854, 'amateur': 1855, 'depend': 1856, 'invit': 1857, 'matur': 1858, 'walter': 1859, 'honor': 1860, 'grew': 1861, 'condit': 1862, 'anna': 1863, 'intellectu': 1864, 'mirror': 1865, 'spectacular': 1866, 'sole': 1867, 'veteran': 1868, 'sudden': 1869, 'liner': 1870, 'demonstr': 1871, 'meanwhil': 1872, 'gift': 1873, 'card': 1874, 'freedom': 1875, 'robin': 1876, 'experienc': 1877, 'overli': 1878, 'grip': 1879, 'theori': 1880, 'circumst': 1881, 'unabl': 1882, 'section': 1883, 'crappi': 1884, 'colour': 1885, 'brilliantli': 1886, 'drew': 1887, 'oliv': 1888, 'subtitl': 1889, 'sheriff': 1890, 'matt': 1891, 'sheer': 1892, 'cook': 1893, 'pile': 1894, 'altern': 1895, 'path': 1896, 'laughter': 1897, 'parker': 1898, 'treatment': 1899, 'defin': 1900, 'hall': 1901, 'accident': 1902, 'wander': 1903, 'relief': 1904, 'sinatra': 1905, 'lawyer': 1906, 'hank': 1907, 'captiv': 1908, 'dragon': 1909, 'moor': 1910, 'gratuit': 1911, 'halloween': 1912, 'wound': 1913, 'kung': 1914, 'broadway': 1915, 'k': 1916, 'cowboy': 1917, 'wayn': 1918, 'barbara': 1919, 'unintent': 1920, 'jacki': 1921, 'surreal': 1922, 'canadian': 1923, 'spoof': 1924, 'statement': 1925, 'winter': 1926, 'fish': 1927, 'cheer': 1928, 'compos': 1929, 'gonna': 1930, 'fare': 1931, 'treasur': 1932, 'sensit': 1933, 'emerg': 1934, 'woodi': 1935, 'victor': 1936, 'unrealist': 1937, 'neighbor': 1938, 'sympathet': 1939, 'driven': 1940, 'ran': 1941, 'topic': 1942, 'expos': 1943, 'menac': 1944, 'overlook': 1945, 'glass': 1946, 'authent': 1947, 'handsom': 1948, 'ancient': 1949, 'gross': 1950, 'michel': 1951, 'chief': 1952, 'comedian': 1953, 'built': 1954, 'nevertheless': 1955, 'contemporari': 1956, 'pleasant': 1957, 'cinderella': 1958, 'network': 1959, 'stranger': 1960, 'feet': 1961, 'russel': 1962, 'gori': 1963, 'endless': 1964, 'miser': 1965, 'consider': 1966, 'letter': 1967, 'underr': 1968, 'blockbust': 1969, 'earn': 1970, 'solv': 1971, 'brook': 1972, 'switch': 1973, 'bullet': 1974, 'edward': 1975, 'victoria': 1976, 'convict': 1977, 'virgin': 1978, 'joseph': 1979, 'chosen': 1980, 'cynic': 1981, 'alex': 1982, '0': 1983, 'scale': 1984, 'scenario': 1985, 'com': 1986, 'gut': 1987, 'curs': 1988, 'sword': 1989, 'outrag': 1990, 'juli': 1991, 'driver': 1992, 'screenwrit': 1993, 'uk': 1994, 'monkey': 1995, 'proper': 1996, 'wrap': 1997, 'substanc': 1998, 'indic': 1999, 'par': 2000, 'bird': 2001, 'court': 2002, 'remov': 2003, 'advertis': 2004, 'grave': 2005, 'roy': 2006, 'inevit': 2007, 'consequ': 2008, 'nanci': 2009, 'rental': 2010, 'loser': 2011, 'naiv': 2012, 'invis': 2013, 'fatal': 2014, 'brave': 2015, 'germani': 2016, 'slap': 2017, 'le': 2018, 'bridg': 2019, 'footbal': 2020, 'anger': 2021, 'ador': 2022, 'provok': 2023, 'loui': 2024, 'anderson': 2025, 'alcohol': 2026, 'chan': 2027, 'willi': 2028, 'stumbl': 2029, 'ryan': 2030, 'professor': 2031, '1930': 2032, 'australian': 2033, 'patrick': 2034, 'sharp': 2035, 'assassin': 2036, 'bat': 2037, 'lousi': 2038, 'eight': 2039, 'liber': 2040, 'saturday': 2041, 'cell': 2042, 'amateurish': 2043, 'refresh': 2044, 'trilog': 2045, 'strongli': 2046, 'ape': 2047, 'deni': 2048, 'heck': 2049, 'sin': 2050, 'resid': 2051, 'justifi': 2052, 'vagu': 2053, 'san': 2054, 'creator': 2055, 'reput': 2056, 'defeat': 2057, 'indi': 2058, 'terrifi': 2059, 'sympathi': 2060, 'mini': 2061, 'tediou': 2062, 'expert': 2063, 'prevent': 2064, 'tabl': 2065, 'endur': 2066, 'task': 2067, 'trial': 2068, 'rival': 2069, 'offend': 2070, 'employ': 2071, 'imit': 2072, 'basebal': 2073, 'che': 2074, 'max': 2075, 'dig': 2076, 'weekend': 2077, 'beach': 2078, 'pitch': 2079, 'fairi': 2080, 'complaint': 2081, 'europ': 2082, 'format': 2083, 'risk': 2084, 'purchas': 2085, 'murphi': 2086, 'nois': 2087, 'tini': 2088, 'glimps': 2089, 'powel': 2090, 'harsh': 2091, 'hype': 2092, 'titan': 2093, 'bite': 2094, 'reminisc': 2095, 'strip': 2096, 'asleep': 2097, '14': 2098, 'prime': 2099, 'north': 2100, 'till': 2101, 'fals': 2102, 'revel': 2103, 'descript': 2104, 'texa': 2105, 'africa': 2106, 'destruct': 2107, 'spin': 2108, 'sitcom': 2109, 'arrest': 2110, 'uninterest': 2111, 'excess': 2112, 'inner': 2113, 'surfac': 2114, 'semi': 2115, 'makeup': 2116, 'hitchcock': 2117, 'dinosaur': 2118, 'twin': 2119, 'maintain': 2120, 'controversi': 2121, 'argu': 2122, 'massiv': 2123, 'ideal': 2124, 'ludicr': 2125, 'reject': 2126, 'melodrama': 2127, 'insist': 2128, 'expens': 2129, 'stare': 2130, 'kim': 2131, 'supernatur': 2132, 'nail': 2133, 'subplot': 2134, 'ala': 2135, 'host': 2136, 'press': 2137, 'ga': 2138, 'columbo': 2139, 'forest': 2140, 'atroci': 2141, 'erot': 2142, 'notch': 2143, 'presum': 2144, 'dude': 2145, 'cant': 2146, 'identifi': 2147, 'forgett': 2148, 'closer': 2149, 'guest': 2150, 'plagu': 2151, 'method': 2152, 'character': 2153, 'crude': 2154, 'princess': 2155, 'landscap': 2156, 'foster': 2157, 'border': 2158, 'ear': 2159, 'beast': 2160, 'lion': 2161, 'aunt': 2162, 'pacino': 2163, 'accus': 2164, 'damag': 2165, 'urban': 2166, 'previous': 2167, 'birth': 2168, 'storytel': 2169, 'bound': 2170, 'jungl': 2171, 'thirti': 2172, 'chose': 2173, 'nude': 2174, 'guid': 2175, 'jess': 2176, 'doll': 2177, 'emma': 2178, 'propaganda': 2179, 'mate': 2180, 'whoever': 2181, 'warrior': 2182, 'mainstream': 2183, '25': 2184, 'pet': 2185, 'friday': 2186, 'cooper': 2187, 'merit': 2188, 'upset': 2189, 'deadli': 2190, 'poster': 2191, 'latest': 2192, 'exact': 2193, 'size': 2194, 'gritti': 2195, '1990': 2196, 'settl': 2197, 'wilson': 2198, 'rough': 2199, 'buff': 2200, 'citizen': 2201, 'blend': 2202, 'corps': 2203, 'contest': 2204, 'contact': 2205, 'warner': 2206, 'sun': 2207, 'ton': 2208, 'popul': 2209, 'alic': 2210, 'overcom': 2211, 'pitt': 2212, 'metal': 2213, 'widow': 2214, 'mgm': 2215, 'bu': 2216, 'select': 2217, 'rat': 2218, 'environ': 2219, 'ted': 2220, 'lift': 2221, 'revolut': 2222, 'guilti': 2223, 'particip': 2224, 'link': 2225, 'johnson': 2226, 'afternoon': 2227, 'corner': 2228, 'accompani': 2229, '1960': 2230, 'exagger': 2231, 'corpor': 2232, 'matrix': 2233, 'prostitut': 2234, 'moron': 2235, 'instal': 2236, 'doom': 2237, 'clair': 2238, 'holm': 2239, 'hood': 2240, 'multipl': 2241, 'friendli': 2242, 'leagu': 2243, 'sincer': 2244, 'blah': 2245, 'junk': 2246, 'irish': 2247, 'advis': 2248, 'defend': 2249, 'sunday': 2250, 'aka': 2251, 'string': 2252, 'campi': 2253, 'examin': 2254, 'hip': 2255, 'grim': 2256, 'lugosi': 2257, 'shut': 2258, 'pro': 2259, 'rachel': 2260, 'icon': 2261, 'confid': 2262, 'shake': 2263, 'tight': 2264, 'varieti': 2265, 'directli': 2266, 'jaw': 2267, 'denni': 2268, 'medic': 2269, 'mexican': 2270, 'goal': 2271, 'attach': 2272, 'sullivan': 2273, 'sentenc': 2274, 'truck': 2275, 'courag': 2276, 'terrorist': 2277, 'sarah': 2278, 'legendari': 2279, 'duke': 2280, 'breast': 2281, 'prior': 2282, 'bourn': 2283, 'dean': 2284, 'vietnam': 2285, 'entri': 2286, 'yell': 2287, 'nose': 2288, 'proceed': 2289, 'behav': 2290, 'hong': 2291, 'donald': 2292, 'split': 2293, 'un': 2294, 'swim': 2295, 'jerk': 2296, 'borrow': 2297, 'unconvinc': 2298, 'lifetim': 2299, 'gather': 2300, 'forth': 2301, 'everywher': 2302, 'confess': 2303, 'buri': 2304, 'stolen': 2305, 'concentr': 2306, 'crush': 2307, 'turkey': 2308, 'california': 2309, 'pan': 2310, 'lip': 2311, 'spite': 2312, 'deliveri': 2313, 'julia': 2314, 'downright': 2315, 'proud': 2316, 'quest': 2317, 'offici': 2318, 'china': 2319, 'reward': 2320, 'hoffman': 2321, 'freeman': 2322, 'flight': 2323, 'notori': 2324, 'sir': 2325, 'sink': 2326, 'fade': 2327, 'jail': 2328, 'inept': 2329, 'betray': 2330, 'worthwhil': 2331, 'lazi': 2332, 'fabul': 2333, 'encourag': 2334, 'jon': 2335, 'susan': 2336, 'bell': 2337, 'relev': 2338, 'teeth': 2339, 'shower': 2340, 'survivor': 2341, 'retard': 2342, 'bag': 2343, 'cousin': 2344, 'storm': 2345, 'lisa': 2346, 'branagh': 2347, 'imageri': 2348, 'finger': 2349, 'trade': 2350, 'bride': 2351, 'stab': 2352, 'quirki': 2353, 'alright': 2354, 'summari': 2355, 'shark': 2356, 'tremend': 2357, 'toler': 2358, 'mexico': 2359, 'hugh': 2360, 'facial': 2361, 'bitter': 2362, 'hyster': 2363, 'blown': 2364, 'pose': 2365, 'von': 2366, 'ha': 2367, 'christ': 2368, 'ron': 2369, 'scheme': 2370, 'afterward': 2371, 'larri': 2372, 'ned': 2373, 'address': 2374, 'cruel': 2375, 'bone': 2376, 'thumb': 2377, 'swear': 2378, 'screw': 2379, 'traci': 2380, 'pursu': 2381, 'beg': 2382, 'snake': 2383, 'feed': 2384, 'distinct': 2385, 'tour': 2386, 'chair': 2387, 'obscur': 2388, 'mechan': 2389, 'photo': 2390, 'stomach': 2391, 'raw': 2392, 'occas': 2393, 'gruesom': 2394, 'holiday': 2395, 'heavili': 2396, 'resist': 2397, 'necessarili': 2398, 'argument': 2399, 'chain': 2400, 'hardi': 2401, 'southern': 2402, 'sidney': 2403, 'cabin': 2404, 'render': 2405, 'philip': 2406, 'satan': 2407, 'indulg': 2408, 'india': 2409, 'understood': 2410, 'racist': 2411, 'belov': 2412, 'stalk': 2413, 'pregnant': 2414, 'forgot': 2415, 'fourth': 2416, 'tongu': 2417, 'outfit': 2418, 'lay': 2419, 'obnoxi': 2420, 'midnight': 2421, 'integr': 2422, 'restor': 2423, 'ticket': 2424, 'garden': 2425, 'slapstick': 2426, 'magazin': 2427, 'inhabit': 2428, 'carol': 2429, '17': 2430, 'deeper': 2431, 'brad': 2432, 'shoe': 2433, 'incid': 2434, 'devot': 2435, 'lincoln': 2436, 'underground': 2437, 'guarante': 2438, 'disbelief': 2439, 'lili': 2440, 'sandler': 2441, 'maria': 2442, 'anticip': 2443, 'divorc': 2444, 'elizabeth': 2445, 'benefit': 2446, 'cring': 2447, 'capit': 2448, 'princip': 2449, 'explod': 2450, 'creation': 2451, 'mildli': 2452, 'greater': 2453, 'slave': 2454, 'amazingli': 2455, 'bbc': 2456, 'funnier': 2457, 'extraordinari': 2458, 'introduct': 2459, 'lesli': 2460, 'halfway': 2461, 'text': 2462, 'enhanc': 2463, 'overwhelm': 2464, 'wreck': 2465, 'advantag': 2466, 'tap': 2467, 'transfer': 2468, 'punish': 2469, 'extent': 2470, 'dynam': 2471, 'error': 2472, 'lane': 2473, 'jessica': 2474, 'preview': 2475, 'horrif': 2476, 'lo': 2477, 'plant': 2478, 'east': 2479, 'deliber': 2480, 'ensu': 2481, 'vacat': 2482, 'homosexu': 2483, 'sophist': 2484, 'vincent': 2485, 'miller': 2486, '2000': 2487, 'appli': 2488, 'basi': 2489, 'miscast': 2490, 'spoken': 2491, 'mansion': 2492, 'uncomfort': 2493, 'measur': 2494, 'bollywood': 2495, 'steel': 2496, 'extend': 2497, 'via': 2498, 'reed': 2499, 'elev': 2500, 'sleazi': 2501, 'conceiv': 2502, 'savag': 2503, 'stanley': 2504, 'hippi': 2505, 'melt': 2506, 'fix': 2507, 'beer': 2508, 'daili': 2509, 'breathtak': 2510, 'blair': 2511, 'mous': 2512, 'dentist': 2513, 'alter': 2514, 'goofi': 2515, 'overact': 2516, 'assign': 2517, 'cathol': 2518, 'oppos': 2519, 'burt': 2520, 'carpent': 2521, 'nowaday': 2522, 'properli': 2523, 'sacrific': 2524, 'inspector': 2525, 'subsequ': 2526, 'succe': 2527, 'everyday': 2528, 'circl': 2529, 'block': 2530, 'neck': 2531, 'laura': 2532, 'massacr': 2533, 'mob': 2534, 'fallen': 2535, 'grey': 2536, 'portrait': 2537, 'lesser': 2538, 'concert': 2539, 'seagal': 2540, 'pool': 2541, 'christi': 2542, 'access': 2543, 'fay': 2544, 'jewish': 2545, 'competit': 2546, 'relax': 2547, 'sinist': 2548, 'isol': 2549, 'usa': 2550, 'jake': 2551, 'react': 2552, 'chees': 2553, 'stink': 2554, 'suitabl': 2555, 'spiritu': 2556, 'nine': 2557, 'immens': 2558, 'lyric': 2559, 'nonetheless': 2560, 'appal': 2561, 'chop': 2562, 'ironi': 2563, 'creep': 2564, '2006': 2565, 'adopt': 2566, 'user': 2567, 'rage': 2568, 'shirt': 2569, 'showcas': 2570, 'sold': 2571, 'spring': 2572, 'franchis': 2573, 'nut': 2574, 'retir': 2575, 'reduc': 2576, 'needless': 2577, 'navi': 2578, 'luci': 2579, 'bath': 2580, 'uninspir': 2581, 'jay': 2582, 'digit': 2583, 'bulli': 2584, 'per': 2585, 'asham': 2586, 'zone': 2587, 'nurs': 2588, 'stanwyck': 2589, '2001': 2590, 'oddli': 2591, '1940': 2592, 'amongst': 2593, 'sutherland': 2594, 'illustr': 2595, 'laid': 2596, 'broadcast': 2597, 'upper': 2598, 'fulfil': 2599, 'disguis': 2600, 'brando': 2601, 'aspir': 2602, 'stylish': 2603, 'throat': 2604, 'baker': 2605, 'em': 2606, 'pride': 2607, 'thief': 2608, 'nobl': 2609, 'neighborhood': 2610, 'impli': 2611, 'endear': 2612, 'pound': 2613, 'wanna': 2614, '18': 2615, 'wwii': 2616, 'tens': 2617, 'prop': 2618, 'dinner': 2619, 'rochest': 2620, 'distribut': 2621, 'dawn': 2622, 'bett': 2623, 'bo': 2624, 'albeit': 2625, 'diseas': 2626, 'coher': 2627, '16': 2628, 'shoulder': 2629, 'shift': 2630, 'cinematograph': 2631, 'function': 2632, 'knife': 2633, 'contract': 2634, 'shout': 2635, 'forti': 2636, 'matthau': 2637, 'poignant': 2638, 'surf': 2639, 'wash': 2640, 'rebel': 2641, 'snow': 2642, 'silenc': 2643, 'horrend': 2644, 'elvira': 2645, 'eeri': 2646, 'duti': 2647, 'instinct': 2648, 'mindless': 2649, 'silver': 2650, 'derek': 2651, 'proof': 2652, 'heat': 2653, 'reunion': 2654, 'cannib': 2655, 'widmark': 2656, 'height': 2657, 'chuck': 2658, 'internet': 2659, 'henc': 2660, 'cancel': 2661, 'elvi': 2662, 'greatli': 2663, 'musician': 2664, 'etern': 2665, 'torn': 2666, 'premier': 2667, 'mill': 2668, 'neat': 2669, 'spielberg': 2670, 'repetit': 2671, 'incoher': 2672, 'absorb': 2673, 'pie': 2674, 'glori': 2675, 'innov': 2676, 'alik': 2677, 'bang': 2678, 'announc': 2679, 'britain': 2680, 'fbi': 2681, 'horrifi': 2682, 'burton': 2683, 'infam': 2684, 'wealthi': 2685, 'diamond': 2686, 'nelson': 2687, 'trite': 2688, 'crisi': 2689, 'redempt': 2690, 'itali': 2691, 'precis': 2692, 'blank': 2693, 'lovabl': 2694, 'racism': 2695, 'homag': 2696, 'flop': 2697, 'dedic': 2698, 'happili': 2699, 'resolut': 2700, 'hammer': 2701, 'ensembl': 2702, 'wilder': 2703, 'helen': 2704, 'chaplin': 2705, 'pat': 2706, 'parallel': 2707, 'streisand': 2708, 'st': 2709, 'plastic': 2710, 'oil': 2711, 'triumph': 2712, 'mar': 2713, 'disagre': 2714, 'conclud': 2715, 'factori': 2716, 'broke': 2717, 'carter': 2718, 'cube': 2719, 'vega': 2720, 'weight': 2721, 'march': 2722, 'climb': 2723, 'fighter': 2724, 'row': 2725, 'own': 2726, 'rocket': 2727, 'bush': 2728, 'chuckl': 2729, 'dane': 2730, 'unforgett': 2731, 'spare': 2732, 'wherea': 2733, 'boot': 2734, 'meaning': 2735, 'lust': 2736, 'thug': 2737, 'enorm': 2738, 'sensibl': 2739, 'luca': 2740, 'dump': 2741, 'kurt': 2742, 'mst3k': 2743, 'threat': 2744, 'stress': 2745, 'caricatur': 2746, 'dear': 2747, 'butt': 2748, 'brand': 2749, 'fifti': 2750, 'engin': 2751, 'difficulti': 2752, 'adequ': 2753, 'arnold': 2754, 'rap': 2755, 'bobbi': 2756, 'karloff': 2757, 'ralph': 2758, 'hamlet': 2759, 'polish': 2760, 'elabor': 2761, 'arrog': 2762, 'fest': 2763, 'journalist': 2764, 'swing': 2765, 'ego': 2766, 'barri': 2767, 'flynn': 2768, 'homeless': 2769, 'secretari': 2770, 'fanci': 2771, 'grate': 2772, 'float': 2773, 'conspiraci': 2774, 'resort': 2775, 'unbear': 2776, 'simpson': 2777, 'tool': 2778, 'arrang': 2779, 'induc': 2780, 'puppet': 2781, 'spike': 2782, 'muppet': 2783, 'boll': 2784, 'exercis': 2785, 'pig': 2786, 'basement': 2787, 'tribut': 2788, 'choreograph': 2789, 'cruis': 2790, 'phillip': 2791, 'guilt': 2792, 'fianc': 2793, '24': 2794, 'ward': 2795, 'babe': 2796, 'item': 2797, 'korean': 2798, 'puzzl': 2799, 'file': 2800, 'tower': 2801, 'document': 2802, 'layer': 2803, 'editor': 2804, 'toilet': 2805, 'slip': 2806, 'stan': 2807, 'medium': 2808, 'ham': 2809, 'scarecrow': 2810, 'inexplic': 2811, 'transit': 2812, 'minim': 2813, 'assur': 2814, 'larger': 2815, 'orient': 2816, 'catherin': 2817, 'slaughter': 2818, 'territori': 2819, 'portion': 2820, 'persona': 2821, 'philosoph': 2822, 'doc': 2823, 'superfici': 2824, 'librari': 2825, 'spark': 2826, 'denzel': 2827, 'glover': 2828, 'pg': 2829, 'owe': 2830, 'shi': 2831, 'jet': 2832, 'wolf': 2833, 'dorothi': 2834, 'sneak': 2835, 'walken': 2836, 'jeremi': 2837, 'boredom': 2838, 'ban': 2839, 'curti': 2840, 'financi': 2841, 'whale': 2842, 'multi': 2843, 'metaphor': 2844, 'profound': 2845, 'hudson': 2846, 'eleph': 2847, 'backdrop': 2848, 'cusack': 2849, 'ambigu': 2850, 'implaus': 2851, 'birthday': 2852, 'ultra': 2853, 'notion': 2854, 'viru': 2855, '2005': 2856, 'union': 2857, 'elsewher': 2858, 'rave': 2859, 'hack': 2860, 'stiff': 2861, 'gadget': 2862, 'distanc': 2863, 'newspap': 2864, 'superhero': 2865, 'squar': 2866, '1st': 2867, 'hawk': 2868, 'afford': 2869, 'lloyd': 2870, 'canada': 2871, 'disc': 2872, 'eastwood': 2873, 'eva': 2874, 'pad': 2875, 'reader': 2876, 'deriv': 2877, 'slight': 2878, 'poison': 2879, 'bibl': 2880, 'urg': 2881, 'sadist': 2882, 'huh': 2883, 'montag': 2884, 'drown': 2885, 'spread': 2886, 'button': 2887, 'skit': 2888, 'charisma': 2889, 'essenc': 2890, 'restaur': 2891, 'health': 2892, 'cure': 2893, 'heston': 2894, 'invest': 2895, 'muslim': 2896, 'peak': 2897, 'lab': 2898, 'dealt': 2899, 'companion': 2900, 'gradual': 2901, 'fetch': 2902, 'scoobi': 2903, 'maniac': 2904, 'estat': 2905, 'godfath': 2906, 'servant': 2907, 'cup': 2908, 'tea': 2909, 'countless': 2910, 'miik': 2911, 'kane': 2912, 'gothic': 2913, 'ritter': 2914, 'subtleti': 2915, 'alli': 2916, 'elect': 2917, 'iii': 2918, 'charismat': 2919, 'briefli': 2920, 'electr': 2921, 'heroic': 2922, 'salli': 2923, 'reel': 2924, 'wannab': 2925, 'resourc': 2926, 'nuanc': 2927, 'admittedli': 2928, 'bud': 2929, 'ingredi': 2930, 'cole': 2931, 'toss': 2932, 'grandmoth': 2933, 'neil': 2934, 'tender': 2935, 'pit': 2936, 'shall': 2937, 'stronger': 2938, 'punk': 2939, 'label': 2940, 'mafia': 2941, 'dawson': 2942, 'stood': 2943, 'poverti': 2944, 'carrey': 2945, 'gate': 2946, 'kubrick': 2947, 'mild': 2948, 'reev': 2949, 'pauli': 2950, 'fond': 2951, 'smash': 2952, 'ian': 2953, 'assault': 2954, 'terri': 2955, 'smooth': 2956, 'outcom': 2957, 'tag': 2958, 'bakshi': 2959, 'useless': 2960, 'easier': 2961, 'burst': 2962, 'cox': 2963, 'astair': 2964, 'updat': 2965, 'cardboard': 2966, 'exchang': 2967, 'qualifi': 2968, 'divers': 2969, 'rex': 2970, 'resolv': 2971, 'coincid': 2972, 'fist': 2973, 'samurai': 2974, 'increasingli': 2975, 'vari': 2976, 'melodramat': 2977, '2002': 2978, 'vulner': 2979, 'sketch': 2980, 'templ': 2981, 'suspend': 2982, 'blast': 2983, 'conveni': 2984, 'brillianc': 2985, 'be': 2986, 'luckili': 2987, 'tame': 2988, 'insert': 2989, 'reynold': 2990, 'scratch': 2991, 'coach': 2992, 'ambiti': 2993, 'seventi': 2994, 'pin': 2995, 'farm': 2996, 'nuclear': 2997, 'fisher': 2998, 'matthew': 2999, 'meat': 3000, 'strictli': 3001, 'hamilton': 3002, 'gotta': 3003, 'walker': 3004, 'jami': 3005, 'soprano': 3006, 'kudo': 3007, 'convolut': 3008, 'revers': 3009, 'closet': 3010, 'grasp': 3011, 'butcher': 3012, 'worthless': 3013, 'spooki': 3014, 'monk': 3015, 'eccentr': 3016, 'clock': 3017, 'struck': 3018, 'discoveri': 3019, 'ninja': 3020, 'brosnan': 3021, 'empir': 3022, 'instantli': 3023, 'recreat': 3024, 'timeless': 3025, 'joey': 3026, 'cave': 3027, 'seller': 3028, 'sloppi': 3029, 'eighti': 3030, 'clown': 3031, 'mitchel': 3032, 'declar': 3033, 'wipe': 3034, 'partli': 3035, 'evok': 3036, 'importantli': 3037, 'sidekick': 3038, 'pal': 3039, 'gray': 3040, 'fifteen': 3041, 'inconsist': 3042, 'communist': 3043, 'bleak': 3044, 'cliff': 3045, 'norman': 3046, 'selfish': 3047, 'miracl': 3048, 'chew': 3049, 'psychiatrist': 3050, '45': 3051, 'australia': 3052, 'flawless': 3053, 'lifestyl': 3054, 'piano': 3055, 'debat': 3056, 'websit': 3057, 'destin': 3058, 'seed': 3059, 'ho': 3060, 'farc': 3061, 'stoog': 3062, 'enthusiast': 3063, 'cheek': 3064, 'aforement': 3065, 'superbl': 3066, 'soviet': 3067, 'abc': 3068, 'drivel': 3069, 'bash': 3070, 'wick': 3071, 'splatter': 3072, 'regardless': 3073, 'pressur': 3074, 'dash': 3075, 'akshay': 3076, 'incompet': 3077, 'anni': 3078, 'slice': 3079, 'wrestl': 3080, 'dire': 3081, 'directori': 3082, 'kitchen': 3083, 'emili': 3084, 'beaten': 3085, 'boil': 3086, 'flower': 3087, 'duo': 3088, 'cameron': 3089, 'pleasantli': 3090, 'artifici': 3091, 'seduc': 3092, 'prize': 3093, 'distant': 3094, 'curios': 3095, 'judi': 3096, 'cagney': 3097, 'suppli': 3098, 'increas': 3099, 'helicopt': 3100, 'cia': 3101, 'glow': 3102, 'blob': 3103, 'jar': 3104, 'recov': 3105, 'chapter': 3106, 'lou': 3107, 'ken': 3108, 'doo': 3109, 'dave': 3110, 'mann': 3111, 'perri': 3112, 'favour': 3113, 'combat': 3114, 'ranger': 3115, 'glenn': 3116, 'eleg': 3117, 'panic': 3118, 'drunken': 3119, 'splendid': 3120, 'psychot': 3121, 'goldberg': 3122, 'turner': 3123, 'laurel': 3124, 'francisco': 3125, 'craig': 3126, 'hop': 3127, 'web': 3128, 'craven': 3129, 'ellen': 3130, 'modesti': 3131, 'flip': 3132, 'fx': 3133, 'greek': 3134, 'rid': 3135, 'alexand': 3136, 'slightest': 3137, 'ruth': 3138, 'falk': 3139, '20th': 3140, 'graduat': 3141, 'shortli': 3142, 'wizard': 3143, 'gentl': 3144, 'plausibl': 3145, 'min': 3146, 'gandhi': 3147, 'philosophi': 3148, 'hatr': 3149, 'we': 3150, 'tall': 3151, 'preciou': 3152, 'jealou': 3153, 'legal': 3154, 'fund': 3155, 'ocean': 3156, 'manhattan': 3157, 'lend': 3158, 'knight': 3159, 'futurist': 3160, 'harm': 3161, 'dracula': 3162, 'unpleas': 3163, 'felix': 3164, 'holi': 3165, 'ami': 3166, 'tank': 3167, 'overdon': 3168, 'mock': 3169, 'scientif': 3170, 'reviv': 3171, 'explicit': 3172, 'nod': 3173, 'digniti': 3174, 'forbidden': 3175, 'bless': 3176, 'childish': 3177, 'thread': 3178, 'giallo': 3179, 'verhoeven': 3180, 'elderli': 3181, 'eve': 3182, 'unwatch': 3183, 'awe': 3184, '2004': 3185, 'nerv': 3186, 'awaken': 3187, 'torment': 3188, '99': 3189, 'fever': 3190, 'repeatedli': 3191, 'thick': 3192, 'margaret': 3193, 'mel': 3194, 'pirat': 3195, 'broad': 3196, 'yesterday': 3197, 'publish': 3198, 'automat': 3199, 'timothi': 3200, 'ah': 3201, 'launch': 3202, 'stiller': 3203, 'eas': 3204, 'custom': 3205, 'politician': 3206, 'bin': 3207, 'roman': 3208, 'kay': 3209, 'absenc': 3210, 'lean': 3211, 'uniform': 3212, 'griffith': 3213, 'rivet': 3214, 'romero': 3215, 'acclaim': 3216, 'royal': 3217, 'ambit': 3218, 'termin': 3219, 'warren': 3220, 'gabriel': 3221, 'antic': 3222, 'pulp': 3223, 'pierc': 3224, 'stinker': 3225, 'wallac': 3226, 'bathroom': 3227, 'foul': 3228, 'crook': 3229, 'transport': 3230, 'darker': 3231, 'phrase': 3232, 'sunshin': 3233, 'tomato': 3234, 'homicid': 3235, 'purpl': 3236, '2003': 3237, 'sixti': 3238, 'choreographi': 3239, 'marin': 3240, 'evolv': 3241, 'saint': 3242, 'karen': 3243, 'pray': 3244, 'li': 3245, 'eyr': 3246, 'prom': 3247, 'donna': 3248, 'album': 3249, 'brazil': 3250, 'coloni': 3251, 'ought': 3252, 'q': 3253, 'packag': 3254, 'awak': 3255, 'juvenil': 3256, 'horrid': 3257, 'hollow': 3258, 'revolutionari': 3259, 'rambo': 3260, 'contrari': 3261, 'kenneth': 3262, 'viciou': 3263, 'twelv': 3264, 'candid': 3265, 'ireland': 3266, 'ramon': 3267, 'defi': 3268, 'beatti': 3269, 'overr': 3270, 'boast': 3271, 'stole': 3272, 'conserv': 3273, 'nerd': 3274, 'dose': 3275, 'kapoor': 3276, 'option': 3277, 'blade': 3278, 'mummi': 3279, 'mildr': 3280, 'detract': 3281, 'flame': 3282, 'global': 3283, 'altman': 3284, 'astonish': 3285, 'kirk': 3286, 'collabor': 3287, 'confirm': 3288, 'natali': 3289, 'protest': 3290, 'funer': 3291, 'trio': 3292, 'jazz': 3293, 'fulci': 3294, 'yellow': 3295, 'bottl': 3296, 'blake': 3297, 'tommi': 3298, 'leap': 3299, 'spit': 3300, 'shade': 3301, 'audio': 3302, 'mystic': 3303, 'destini': 3304, 'enterpris': 3305, 'racial': 3306, 'whip': 3307, 'delici': 3308, 'nicholson': 3309, 'bull': 3310, 'inherit': 3311, 'merci': 3312, 'threw': 3313, 'staff': 3314, 'harder': 3315, 'todd': 3316, 'neo': 3317, 'enchant': 3318, 'meaningless': 3319, 'popcorn': 3320, 'altogeth': 3321, 'swedish': 3322, 'adolesc': 3323, 'pseudo': 3324, 'bedroom': 3325, 'reunit': 3326, 'visibl': 3327, 'vivid': 3328, 'fonda': 3329, 'befriend': 3330, 'suspici': 3331, 'uneven': 3332, 'exhibit': 3333, 'decor': 3334, 'tip': 3335, 'synopsi': 3336, 'kennedi': 3337, 'bust': 3338, 'ruthless': 3339, 'fanat': 3340, 'roommat': 3341, 'leonard': 3342, 'jew': 3343, 'reserv': 3344, 'moodi': 3345, 'respond': 3346, 'atlanti': 3347, 'wire': 3348, 'lawrenc': 3349, 'lemmon': 3350, 'voight': 3351, 'await': 3352, 'madonna': 3353, 'crocodil': 3354, 'edi': 3355, 'abysm': 3356, 'unsettl': 3357, 'dimens': 3358, 'clumsi': 3359, 'clint': 3360, 'carl': 3361, 'bold': 3362, 'centr': 3363, 'chao': 3364, 'bargain': 3365, 'bradi': 3366, 'voyag': 3367, 'rural': 3368, 'garner': 3369, 'ventur': 3370, 'audit': 3371, 'incident': 3372, '2007': 3373, 'palma': 3374, 'holli': 3375, 'mall': 3376, 'cd': 3377, '2nd': 3378, 'nearbi': 3379, 'daddi': 3380, 'poetic': 3381, 'neglect': 3382, 'imperson': 3383, 'timon': 3384, 'characterist': 3385, 'versu': 3386, 'lit': 3387, 'cari': 3388, 'acknowledg': 3389, 'humili': 3390, 'echo': 3391, 'wealth': 3392, 'ant': 3393, 'tiger': 3394, 'cuba': 3395, 'immigr': 3396, 'trail': 3397, 'troop': 3398, 'elimin': 3399, 'hart': 3400, 'jeffrey': 3401, 'repuls': 3402, 'mickey': 3403, 'homer': 3404, 'collaps': 3405, 'paus': 3406, 'saga': 3407, 'mistaken': 3408, 'prejudic': 3409, 'infect': 3410, 'solo': 3411, 'pun': 3412, 'marshal': 3413, 'celluloid': 3414, 'domest': 3415, 'inan': 3416, 'hbo': 3417, 'equip': 3418, '1996': 3419, 'coat': 3420, 'coffe': 3421, 'apolog': 3422, 'promin': 3423, 'undoubtedli': 3424, 'pant': 3425, 'harvey': 3426, 'milk': 3427, 'leon': 3428, 'gear': 3429, 'interrupt': 3430, 'inappropri': 3431, 'cake': 3432, 'chest': 3433, 'ginger': 3434, 'tribe': 3435, 'olivi': 3436, 'assembl': 3437, 'sore': 3438, 'humbl': 3439, 'airplan': 3440, 'institut': 3441, 'maggi': 3442, 'consum': 3443, 'vulgar': 3444, 'retain': 3445, 'exot': 3446, 'furthermor': 3447, 'trace': 3448, 'florida': 3449, 'embrac': 3450, 'primari': 3451, 'brooklyn': 3452, 'jenni': 3453, 'colleagu': 3454, 'aveng': 3455, 'pen': 3456, 'colonel': 3457, 'highest': 3458, 'devast': 3459, 'solut': 3460, 'pot': 3461, 'instant': 3462, 'polanski': 3463, 'linda': 3464, '1999': 3465, 'bowl': 3466, 'godzilla': 3467, 'sale': 3468, 'disabl': 3469, 'illog': 3470, 'ya': 3471, 'smaller': 3472, 'descend': 3473, 'strain': 3474, 'dian': 3475, 'wive': 3476, '3rd': 3477, 'principl': 3478, 'dutch': 3479, 'outer': 3480, 'poke': 3481, 'cope': 3482, 'gender': 3483, 'rick': 3484, 'seduct': 3485, 'inferior': 3486, 'devoid': 3487, 'predecessor': 3488, 'glamor': 3489, 'scope': 3490, 'lol': 3491, 'gloriou': 3492, 'mixtur': 3493, 'bubbl': 3494, 'beneath': 3495, 'dud': 3496, 'cue': 3497, 'vast': 3498, 'dive': 3499, 'yard': 3500, 'primarili': 3501, 'rabbit': 3502, 'blatant': 3503, 'secondli': 3504, 'gundam': 3505, 'hal': 3506, 'pearl': 3507, 'alert': 3508, 'breed': 3509, 'simplist': 3510, 'senseless': 3511, 'casual': 3512, 'alfr': 3513, 'aggress': 3514, 'trademark': 3515, 'talki': 3516, 'hideou': 3517, 'museum': 3518, 'et': 3519, 'invas': 3520, 'shelf': 3521, 'april': 3522, 'shirley': 3523, 'disjoint': 3524, 'myer': 3525, 'arab': 3526, 'streep': 3527, 'countrysid': 3528, 'z': 3529, 'grinch': 3530, 'garbo': 3531, 'domino': 3532, 'experiment': 3533, 'hardcor': 3534, 'robinson': 3535, 'obtain': 3536, 'maci': 3537, 'boom': 3538, 'loyal': 3539, 'stellar': 3540, 'uwe': 3541, 'defens': 3542, 'stack': 3543, 'rendit': 3544, 'stir': 3545, 'sh': 3546, 'slide': 3547, 'mail': 3548, 'disgrac': 3549, 'khan': 3550, 'oz': 3551, 'acid': 3552, 'robberi': 3553, 'illeg': 3554, 'mayor': 3555, 'hopeless': 3556, 'applaud': 3557, 'unhappi': 3558, 'vanish': 3559, 'rifl': 3560, 'wont': 3561, 'scroog': 3562, 'dicken': 3563, 'psychic': 3564, 'spider': 3565, 'berlin': 3566, 'span': 3567, 'tempt': 3568, 'fri': 3569, 'craze': 3570, 'soccer': 3571, 'dismiss': 3572, 'recruit': 3573, 'counter': 3574, 'incomprehens': 3575, 'diana': 3576, 'declin': 3577, 'emphasi': 3578, 'amanda': 3579, 'tenant': 3580, 'blew': 3581, 'topless': 3582, 'grandfath': 3583, 'hartley': 3584, 'resurrect': 3585, 'justin': 3586, 'shaw': 3587, 'wet': 3588, 'ration': 3589, 'faster': 3590, 'riot': 3591, 'parad': 3592, 'trashi': 3593, 'bitch': 3594, 'sibl': 3595, 'ethnic': 3596, 'revolt': 3597, 'intim': 3598, 'woo': 3599, 'shed': 3600, 'goer': 3601, 'sympath': 3602, 'niro': 3603, 'porno': 3604, 'lumet': 3605, 'ballet': 3606, 'lena': 3607, 'dealer': 3608, '00': 3609, 'rider': 3610, 'steam': 3611, 'choru': 3612, 'feminist': 3613, 'wheel': 3614, 'slick': 3615, 'biographi': 3616, 'ensur': 3617, 'commend': 3618, 'partial': 3619, 'region': 3620, 'honesti': 3621, 'gap': 3622, 'jonathan': 3623, 'eager': 3624, 'nephew': 3625, 'hesit': 3626, 'hopper': 3627, 'immort': 3628, 'farmer': 3629, 'patriot': 3630, 'weakest': 3631, 'enlighten': 3632, 'worm': 3633, 'unreal': 3634, 'mario': 3635, 'andr': 3636, 'wendi': 3637, 'charlott': 3638, 'properti': 3639, 'nostalg': 3640, 'psychopath': 3641, 'repress': 3642, 'safeti': 3643, 'wore': 3644, 'kingdom': 3645, 'hung': 3646, 'leo': 3647, 'sappi': 3648, 'sandra': 3649, 'vice': 3650, 'owen': 3651, 'victori': 3652, 'similarli': 3653, 'util': 3654, 'franco': 3655, 'confin': 3656, 'snap': 3657, 'mutant': 3658, 'blunt': 3659, 'morri': 3660, 'macarthur': 3661, 'skull': 3662, 'composit': 3663, 'prequel': 3664, 'rambl': 3665, 'kyle': 3666, 'nervou': 3667, 'repli': 3668, 'dust': 3669, 'bumbl': 3670, 'tail': 3671, 'valuabl': 3672, 'bow': 3673, 'bonu': 3674, 'despair': 3675, 'snl': 3676, 'exit': 3677, 'cg': 3678, 'latin': 3679, 'heartbreak': 3680, 'whoopi': 3681, 'pattern': 3682, 'strand': 3683, 'campbel': 3684, 'del': 3685, 'acquir': 3686, 'deed': 3687, 'recycl': 3688, 'drain': 3689, 'bergman': 3690, 'thru': 3691, '1972': 3692, 'emperor': 3693, 'hyde': 3694, 'speci': 3695, 'farrel': 3696, 'rocki': 3697, 'miseri': 3698, 'compens': 3699, 'drum': 3700, 'tad': 3701, 'rope': 3702, 'montana': 3703, 'compass': 3704, 'dalton': 3705, 'pour': 3706, '35': 3707, 'tonight': 3708, 'mistress': 3709, 'rapist': 3710, 'radic': 3711, 'romp': 3712, 'rotten': 3713, 'downhil': 3714, 'wacki': 3715, 'gimmick': 3716, 'da': 3717, 'orson': 3718, 'contempl': 3719, 'gal': 3720, 'carradin': 3721, 'oppress': 3722, 'airport': 3723, 'roth': 3724, 'percept': 3725, 'slug': 3726, 'bleed': 3727, 'martian': 3728, 'chess': 3729, 'olli': 3730, 'unpredict': 3731, 'edgar': 3732, 'stilt': 3733, 'pervert': 3734, 'programm': 3735, 'dazzl': 3736, 'melodi': 3737, 'attorney': 3738, 'belt': 3739, '1983': 3740, 'pursuit': 3741, 'taught': 3742, 'champion': 3743, 'tackl': 3744, 'banal': 3745, 'pervers': 3746, 'tooth': 3747, 'heal': 3748, 'shelley': 3749, 'arc': 3750, 'paltrow': 3751, 'slash': 3752, 'preach': 3753, 'mislead': 3754, 'arguabl': 3755, 'tiresom': 3756, 'closest': 3757, 'maid': 3758, 'poem': 3759, 'mesmer': 3760, 'graham': 3761, 'gambl': 3762, 'virginia': 3763, 'raymond': 3764, 'rubi': 3765, 'plight': 3766, 'conneri': 3767, 'sensat': 3768, 'duval': 3769, 'uplift': 3770, 'orang': 3771, 'bela': 3772, 'employe': 3773, 'vengeanc': 3774, 'passeng': 3775, 'chicken': 3776, 'dixon': 3777, 'franki': 3778, 'vocal': 3779, 'cleverli': 3780, 'marti': 3781, 'suffic': 3782, 'mute': 3783, 'amitabh': 3784, 'habit': 3785, 'convincingli': 3786, 'sirk': 3787, 'inject': 3788, 'tube': 3789, 'extens': 3790, 'iran': 3791, 'calm': 3792, 'bay': 3793, 'giggl': 3794, 'engross': 3795, 'quarter': 3796, 'crystal': 3797, 'secretli': 3798, '1968': 3799, 'whine': 3800, 'clone': 3801, 'swallow': 3802, 'yawn': 3803, 'climact': 3804, 'profan': 3805, 'paranoia': 3806, 'outing': 3807, 'scottish': 3808, 'numb': 3809, 'volum': 3810, 'abraham': 3811, 'gerard': 3812, 'monologu': 3813, 'pokemon': 3814, 'lundgren': 3815, 'frankenstein': 3816, 'abort': 3817, 'surpass': 3818, 'taxi': 3819, 'ethan': 3820, 'richardson': 3821, 'earl': 3822, 'im': 3823, 'poetri': 3824, 'trend': 3825, 'fed': 3826, 'meander': 3827, 'linger': 3828, 'plod': 3829, 'junior': 3830, 'backward': 3831, 'bend': 3832, 'dispos': 3833, 'franci': 3834, 'septemb': 3835, 'profess': 3836, 'underst': 3837, 'nichola': 3838, 'grotesqu': 3839, 'expand': 3840, 'spock': 3841, 'austen': 3842, 'lowest': 3843, 'chicago': 3844, 'waitress': 3845, 'myth': 3846, 'dysfunct': 3847, 'econom': 3848, 'instrument': 3849, 'descent': 3850, 'nostalgia': 3851, 'stallon': 3852, 'catchi': 3853, 'mundan': 3854, 'rubber': 3855, 'der': 3856, 'sue': 3857, 'spoke': 3858, 'hum': 3859, 'muddl': 3860, 'compliment': 3861, 'greedi': 3862, 'rant': 3863, 'simplic': 3864, 'tourist': 3865, 'household': 3866, 'eugen': 3867, 'literatur': 3868, 'lure': 3869, 'cannon': 3870, 'duck': 3871, 'cent': 3872, 'phoni': 3873, 'occupi': 3874, 'molli': 3875, 'mankind': 3876, 'equival': 3877, 'bacal': 3878, 'june': 3879, 'hello': 3880, 'furi': 3881, 'insur': 3882, 'dictat': 3883, 'flee': 3884, 'firstli': 3885, 'sissi': 3886, 'dement': 3887, 'recognis': 3888, 'recognit': 3889, 'omen': 3890, 'randi': 3891, 'lang': 3892, 'alongsid': 3893, 'deaf': 3894, 'phantom': 3895, 'coast': 3896, 'damon': 3897, 'stale': 3898, 'eaten': 3899, 'map': 3900, 'irrelev': 3901, 'crucial': 3902, 'louis': 3903, 'mortal': 3904, 'carel': 3905, 'damm': 3906, 'lengthi': 3907, 'daisi': 3908, 'blackmail': 3909, 'likewis': 3910, 'loyalti': 3911, '1973': 3912, 'bike': 3913, 'freez': 3914, 'buffalo': 3915, 'newli': 3916, 'onlin': 3917, 'twilight': 3918, 'labor': 3919, 'heel': 3920, 'drake': 3921, 'dreari': 3922, 'reign': 3923, 'ashley': 3924, 'wisdom': 3925, 'antwon': 3926, 'grayson': 3927, 'distinguish': 3928, 'bump': 3929, 'rude': 3930, 'cyborg': 3931, 'biko': 3932, 'rooney': 3933, 'pink': 3934, 'butler': 3935, 'attribut': 3936, 'emphas': 3937, 'exposur': 3938, 'analysi': 3939, 'baddi': 3940, 'nineti': 3941, 'boxer': 3942, 'prey': 3943, 'keith': 3944, 'startl': 3945, 'interior': 3946, 'proce': 3947, 'unorigin': 3948, 'vein': 3949, 'tunnel': 3950, 'provoc': 3951, 'approv': 3952, 'inher': 3953, 'sailor': 3954, 'worn': 3955, 'basketbal': 3956, 'ridden': 3957, 'incorpor': 3958, 'chronicl': 3959, 'barrymor': 3960, 'unrel': 3961, 'millionair': 3962, 'indiffer': 3963, 'condemn': 3964, 'undeni': 3965, 'meg': 3966, 'robbin': 3967, 'bunni': 3968, 'elm': 3969, 'er': 3970, 'simmon': 3971, 'nicol': 3972, 'underli': 3973, 'hypnot': 3974, 'carla': 3975, 'mormon': 3976, 'degrad': 3977, 'improvis': 3978, 'othello': 3979, 'fleet': 3980, 'barrel': 3981, 'predat': 3982, 'drift': 3983, 'substitut': 3984, 'julian': 3985, 'stalker': 3986, 'walsh': 3987, 'belushi': 3988, 'mighti': 3989, 'meyer': 3990, 'priceless': 3991, 'dolph': 3992, 'reid': 3993, 'palac': 3994, 'warmth': 3995, 'nyc': 3996, 'agenda': 3997, 'alison': 3998, 'mtv': 3999, 'vital': 4000, 'unawar': 4001, 'alarm': 4002, 'lampoon': 4003, 'novak': 4004, 'greed': 4005, 'roof': 4006, 'edgi': 4007, 'exquisit': 4008, 'shove': 4009, 'disord': 4010, 'errol': 4011, 'watson': 4012, 'hay': 4013, 'enthusiasm': 4014, 'firm': 4015, '3d': 4016, 'marion': 4017, 'rukh': 4018, 'thompson': 4019, 'eastern': 4020, 'iraq': 4021, 'unleash': 4022, 'crown': 4023, 'coup': 4024, 'pamela': 4025, 'beatl': 4026, 'campaign': 4027, 'drip': 4028, '13th': 4029, 'nun': 4030, 'petti': 4031, 'peril': 4032, 'what': 4033, 'israel': 4034, 'sergeant': 4035, 'glanc': 4036, 'testament': 4037, 'profit': 4038, 'preserv': 4039, 'simultan': 4040, 'minimum': 4041, 'orlean': 4042, 'spain': 4043, 'peck': 4044, 'cassidi': 4045, 'gestur': 4046, 'angela': 4047, 'ponder': 4048, 'session': 4049, 'randomli': 4050, 'championship': 4051, 'showdown': 4052, '1933': 4053, 'distort': 4054, 'zizek': 4055, 'valentin': 4056, 'climat': 4057, 'calib': 4058, 'restrain': 4059, 'wig': 4060, 'travesti': 4061, 'perpetu': 4062, 'bro': 4063, 'represent': 4064, 'unimagin': 4065, 'crawl': 4066, 'cream': 4067, 'din': 4068, 'stroke': 4069, 'gentleman': 4070, 'valley': 4071, 'exposit': 4072, 'realm': 4073, 'cooki': 4074, 'scotland': 4075, 'crow': 4076, 'brenda': 4077, 'mon': 4078, 'regist': 4079, '1984': 4080, 'shootout': 4081, 'kurosawa': 4082, 'contradict': 4083, 'reson': 4084, 'empathi': 4085, 'quinn': 4086, 'jan': 4087, 'sabrina': 4088, 'buster': 4089, 'stake': 4090, 'rout': 4091, 'han': 4092, 'fido': 4093, 'miyazaki': 4094, '1997': 4095, 'ross': 4096, 'greg': 4097, 'passabl': 4098, 'absent': 4099, 'businessman': 4100, 'demis': 4101, 'traumat': 4102, 'compromis': 4103, 'pole': 4104, 'mclaglen': 4105, 'femm': 4106, 'sammi': 4107, 'josh': 4108, 'crawford': 4109, 'abomin': 4110, '1987': 4111, 'unsatisfi': 4112, 'sucker': 4113, 'shaki': 4114, 'geek': 4115, 'tacki': 4116, 'perceiv': 4117, 'baldwin': 4118, 'derang': 4119, 'spacey': 4120, 'meryl': 4121, 'fuller': 4122, 'dana': 4123, 'darren': 4124, 'pretens': 4125, 'ustinov': 4126, 'censor': 4127, 'painter': 4128, 'shoddi': 4129, 'soderbergh': 4130, 'unseen': 4131, 'distress': 4132, 'delic': 4133, 'wax': 4134, 'stargat': 4135, 'warrant': 4136, 'monoton': 4137, 'cloud': 4138, 'wholli': 4139, 'furiou': 4140, 'unravel': 4141, '1993': 4142, 'antonioni': 4143, 'exclus': 4144, 'tech': 4145, 'primit': 4146, 'reluct': 4147, 'uncov': 4148, 'clash': 4149, 'norm': 4150, 'deceas': 4151, 'sid': 4152, 'verbal': 4153, 'accuraci': 4154, 'tarantino': 4155, 'fog': 4156, 'kumar': 4157, 'austin': 4158, 'dee': 4159, 'deniro': 4160, 'nathan': 4161, 'polici': 4162, 'click': 4163, 'judgment': 4164, 'expedit': 4165, 'seal': 4166, 'jewel': 4167, 'anchor': 4168, 'correctli': 4169, 'fenc': 4170, 'valid': 4171, 'fabric': 4172, 'fart': 4173, 'enforc': 4174, 'sheet': 4175, 'pocket': 4176, 'murray': 4177, 'dreck': 4178, 'malon': 4179, 'patienc': 4180, 'shanghai': 4181, 'wretch': 4182, '3000': 4183, 'slam': 4184, 'temper': 4185, 'tax': 4186, 'crippl': 4187, 'sand': 4188, 'seldom': 4189, 'fought': 4190, 'behold': 4191, 'roller': 4192, 'alec': 4193, 'unfair': 4194, '1971': 4195, 'joel': 4196, 'sunni': 4197, 'bake': 4198, 'conduct': 4199, 'ritual': 4200, '1995': 4201, 'clerk': 4202, 'hallucin': 4203, 'darn': 4204, 'mode': 4205, 'logan': 4206, 'vanc': 4207, '2008': 4208, 'sustain': 4209, 'nicola': 4210, 'debt': 4211, 'trait': 4212, 'wang': 4213, 'preston': 4214, 'bias': 4215, 'schedul': 4216, 'soup': 4217, 'canyon': 4218, 'clau': 4219, 'phil': 4220, 'rita': 4221, 'stark': 4222, 'legaci': 4223, 'squad': 4224, 'shell': 4225, 'preposter': 4226, 'critiqu': 4227, 'outlin': 4228, 'isabel': 4229, 'tactic': 4230, 'helpless': 4231, 'sweep': 4232, 'runner': 4233, 'fundament': 4234, 'guitar': 4235, 'robber': 4236, 'grief': 4237, 'despis': 4238, 'conscious': 4239, 'technicolor': 4240, 'exhaust': 4241, 'scriptwrit': 4242, 'stuart': 4243, 'divid': 4244, 'pete': 4245, 'penni': 4246, 'bridget': 4247, 'liberti': 4248, 'unexpectedli': 4249, 'flair': 4250, 'culmin': 4251, 'passag': 4252, 'marc': 4253, 'alicia': 4254, 'delv': 4255, 'vomit': 4256, 'jodi': 4257, 'russia': 4258, 'sniper': 4259, 'inabl': 4260, 'newman': 4261, 'boyl': 4262, 'implic': 4263, 'alley': 4264, 'agenc': 4265, 'palanc': 4266, 'drove': 4267, 'sugar': 4268, 'bloom': 4269, 'consciou': 4270, 'cigarett': 4271, 'lacklust': 4272, 'jacket': 4273, 'rear': 4274, 'kansa': 4275, 'sentinel': 4276, 'downey': 4277, 'gregori': 4278, 'restrict': 4279, 'rehash': 4280, 'propos': 4281, 'connor': 4282, 'invad': 4283, 'asylum': 4284, 'improb': 4285, 'rod': 4286, 'cap': 4287, 'yeti': 4288, 'horn': 4289, 'behaviour': 4290, 'wrench': 4291, 'tripe': 4292, 'pale': 4293, 'arrow': 4294, 'lush': 4295, 'chainsaw': 4296, 'feat': 4297, 'aesthet': 4298, 'rampag': 4299, 'tendenc': 4300, '22': 4301, 'awhil': 4302, 'vet': 4303, 'ladder': 4304, 'sharon': 4305, 'bacon': 4306, 'rehears': 4307, 'foxx': 4308, 'karl': 4309, 'mccoy': 4310, 'delet': 4311, '1936': 4312, 'kolchak': 4313, 'rumor': 4314, 'wildli': 4315, 'globe': 4316, 'hackney': 4317, 'coaster': 4318, 'minu': 4319, 'fright': 4320, 'paradis': 4321, '1920': 4322, 'weav': 4323, 'suspicion': 4324, 'hungri': 4325, 'loneli': 4326, 'wagner': 4327, 'tomorrow': 4328, 'spice': 4329, 'el': 4330, 'filler': 4331, 'sung': 4332, '1978': 4333, 'aristocrat': 4334, '1988': 4335, 'visitor': 4336, 'amazon': 4337, 'conscienc': 4338, 'thunderbird': 4339, 'rhythm': 4340, 'financ': 4341, 'elit': 4342, 'tasteless': 4343, 'newcom': 4344, 'suffici': 4345, '19th': 4346, 'underneath': 4347, 'shortcom': 4348, 'prank': 4349, 'basing': 4350, 'lurk': 4351, 'hulk': 4352, 'stream': 4353, 'paramount': 4354, 'scoop': 4355, 'hopkin': 4356, 'smell': 4357, 'grudg': 4358, 'abrupt': 4359, 'leigh': 4360, 'recogniz': 4361, 'springer': 4362, 'beverli': 4363, 'entranc': 4364, 'couch': 4365, 'choppi': 4366, 'inmat': 4367, 'lectur': 4368, 'bread': 4369, '1989': 4370, 'literari': 4371, 'minist': 4372, 'impos': 4373, 'dirt': 4374, 'penn': 4375, 'ram': 4376, 'secondari': 4377, 'curli': 4378, 'en': 4379, 'naughti': 4380, 'brit': 4381, 'iv': 4382, 'quietli': 4383, 'paxton': 4384, 'rub': 4385, 'tierney': 4386, '1939': 4387, 'chavez': 4388, 'straightforward': 4389, 'worship': 4390, 'teas': 4391, 'standout': 4392, 'heist': 4393, 'atroc': 4394, 'immers': 4395, 'counterpart': 4396, 'chamberlain': 4397, 'cancer': 4398, '75': 4399, 'ingeni': 4400, 'wwe': 4401, 'posey': 4402, 'convert': 4403, 'enthral': 4404, 'duel': 4405, 'quaid': 4406, 'geni': 4407, 'bernard': 4408, 'lindsay': 4409, 'moreov': 4410, 'clan': 4411, 'ace': 4412, 'variat': 4413, 'entitl': 4414, 'policeman': 4415, 'nolan': 4416, 'morbid': 4417, 'missil': 4418, '1986': 4419, 'skeptic': 4420, 'esther': 4421, 'sassi': 4422, 'nemesi': 4423, 'sublim': 4424, 'yearn': 4425, 'net': 4426, 'cattl': 4427, 'attenborough': 4428, 'injuri': 4429, 'transcend': 4430, 'watcher': 4431, 'laurenc': 4432, 'misguid': 4433, 'heartfelt': 4434, 'ratso': 4435, 'moder': 4436, 'enabl': 4437, '1979': 4438, 'out': 4439, 'poe': 4440, 'obstacl': 4441, 'graini': 4442, 'cruelti': 4443, 'carlito': 4444, 'grin': 4445, 'tyler': 4446, 'kitti': 4447, 'rosemari': 4448, 'steadi': 4449, 'youngest': 4450, 'puppi': 4451, 'artsi': 4452, 'egg': 4453, 'unexplain': 4454, 'spiral': 4455, 'reliabl': 4456, 'buzz': 4457, 'dont': 4458, 'facil': 4459, 'hopelessli': 4460, 'bye': 4461, 'brood': 4462, 'diari': 4463, 'setup': 4464, 'bean': 4465, 'characteris': 4466, 'kidman': 4467, 'mytholog': 4468, 'uncut': 4469, 'hk': 4470, 'vader': 4471, 'martha': 4472, 'bewar': 4473, 'narrow': 4474, 'underworld': 4475, 'oblig': 4476, 'niec': 4477, 'gina': 4478, 'acquaint': 4479, 'exterior': 4480, 'patricia': 4481, 'decept': 4482, 'baffl': 4483, 'effici': 4484, 'bronson': 4485, 'heap': 4486, 'brendan': 4487, 'bounc': 4488, 'fuel': 4489, 'despic': 4490, '1969': 4491, 'weather': 4492, 'sweat': 4493, 'athlet': 4494, 'hammi': 4495, 'disastr': 4496, 'clueless': 4497, 'preming': 4498, 'spontan': 4499, 'hain': 4500, 'kline': 4501, 'gillian': 4502, 'christin': 4503, 'enlist': 4504, 'injur': 4505, 'housewif': 4506, 'trigger': 4507, 'biker': 4508, 'outlaw': 4509, 'rome': 4510, 'suprem': 4511, 'mermaid': 4512, 'sleepwalk': 4513, '19': 4514, 'dandi': 4515, 'preachi': 4516, 'loath': 4517, 'taboo': 4518, 'sooner': 4519, 'analyz': 4520, 'harmless': 4521, 'headach': 4522, 'shatter': 4523, 'candl': 4524, 'insipid': 4525, 'goof': 4526, 'virtu': 4527, 'uh': 4528, 'loi': 4529, 'lester': 4530, 'tick': 4531, 'angst': 4532, 'astound': 4533, 'hepburn': 4534, '73': 4535, 'scar': 4536, 'viewpoint': 4537, 'fontain': 4538, 'renaiss': 4539, 'mayhem': 4540, 'dilemma': 4541, 'circu': 4542, 'hooker': 4543, 'salt': 4544, 'zoom': 4545, 'overlong': 4546, 'hostag': 4547, 'dismal': 4548, 'hokey': 4549, 'ariel': 4550, 'filth': 4551, 'redund': 4552, 'claustrophob': 4553, 'oldest': 4554, 'foolish': 4555, 'dish': 4556, 'whore': 4557, 'bent': 4558, 'surgeri': 4559, 'contempt': 4560, 'intric': 4561, 'tripl': 4562, 'slimi': 4563, 'fluff': 4564, 'stimul': 4565, 'ebert': 4566, 'phenomenon': 4567, 'cassavet': 4568, 'camcord': 4569, 'boston': 4570, 'glorifi': 4571, 'guin': 4572, 'macho': 4573, 'stair': 4574, 'spade': 4575, 'amor': 4576, 'corbett': 4577, 'steer': 4578, 'scorses': 4579, 'idol': 4580, 'immatur': 4581, 'gere': 4582, 'sox': 4583, 'antagonist': 4584, '1981': 4585, 'beard': 4586, 'schlock': 4587, '1976': 4588, 'flirt': 4589, 'margin': 4590, 'remad': 4591, 'harold': 4592, 'conquer': 4593, 'zane': 4594, 'flashi': 4595, 'cow': 4596, 'joker': 4597, 'radiat': 4598, 'frantic': 4599, 'muscl': 4600, 'spree': 4601, 'fascist': 4602, 'astronaut': 4603, 'mount': 4604, 'assert': 4605, 'shred': 4606, 'proport': 4607, 'widescreen': 4608, 'obligatori': 4609, 'mutual': 4610, 'rhyme': 4611, 'gabl': 4612, 'down': 4613, 'shield': 4614, 'dwarf': 4615, 'faint': 4616, 'keen': 4617, 'messi': 4618, 'flag': 4619, 'preced': 4620, 'strongest': 4621, 'perman': 4622, 'gasp': 4623, 'cohen': 4624, 'cush': 4625, 'corman': 4626, 'trivia': 4627, 'nolt': 4628, 'transplant': 4629, 'naschi': 4630, 'alvin': 4631, 'spinal': 4632, 'strive': 4633, 'vaniti': 4634, 'triangl': 4635, 'wield': 4636, 'brush': 4637, 'persuad': 4638, 'departur': 4639, 'mol': 4640, 'fishburn': 4641, 'hara': 4642, 'raj': 4643, 'www': 4644, 'divin': 4645, 'resum': 4646, '28': 4647, 'bitten': 4648, 'info': 4649, 'someday': 4650, 'mobil': 4651, 'inflict': 4652, 'aborigin': 4653, 'scandal': 4654, 'boob': 4655, '95': 4656, 'off': 4657, 'sensual': 4658, 'barn': 4659, 'deer': 4660, 'interestingli': 4661, 'danish': 4662, 'ritchi': 4663, 'bachelor': 4664, 'neurot': 4665, '1945': 4666, 'instruct': 4667, 'claud': 4668, 'discern': 4669, 'carey': 4670, 'repris': 4671, 'archiv': 4672, 'flock': 4673, 'heartwarm': 4674, 'clad': 4675, 'rot': 4676, 'earnest': 4677, 'hapless': 4678, 'cycl': 4679, 'fragil': 4680, 'recit': 4681, 'dame': 4682, 'vibrant': 4683, 'kathryn': 4684, 'cb': 4685, 'parson': 4686, 'ish': 4687, 'dim': 4688, 'mobster': 4689, 'anton': 4690, 'senior': 4691, 'harrison': 4692, 'hilar': 4693, 'helm': 4694, 'hug': 4695, 'submit': 4696, 'axe': 4697, 'carlo': 4698, 'biblic': 4699, 'prophet': 4700, 'cher': 4701, 'frontier': 4702, 'miracul': 4703, 'casino': 4704, 'loretta': 4705, 'proclaim': 4706, 'timberlak': 4707, 'dylan': 4708, 'undermin': 4709, 'luka': 4710, 'colin': 4711, 'pickford': 4712, 'neill': 4713, 'wendigo': 4714, 'melissa': 4715, 'banter': 4716, 'bate': 4717, 'pacif': 4718, 'artwork': 4719, 'jade': 4720, 'pixar': 4721, 'cliffhang': 4722, 'traffic': 4723, 'europa': 4724, 'nope': 4725, 'illus': 4726, 'milo': 4727, 'northern': 4728, 'seedi': 4729, 'vile': 4730, 'legitim': 4731, 'wardrob': 4732, 'choke': 4733, 'articl': 4734, 'lucil': 4735, 'electron': 4736, 'aris': 4737, 'foil': 4738, 'redneck': 4739, 'pc': 4740, 'alexandr': 4741, 'venom': 4742, 'cerebr': 4743, 'orphan': 4744, 'toronto': 4745, 'breakfast': 4746, 'sicken': 4747, 'http': 4748, 'estrang': 4749, 'holocaust': 4750, 'lui': 4751, 'uma': 4752, 'marlon': 4753, 'vanessa': 4754, 'rooki': 4755, 'isra': 4756, 'bondag': 4757, 'akin': 4758, 'jordan': 4759, 'jo': 4760, 'eli': 4761, 'feast': 4762, 'mason': 4763, 'static': 4764, 'token': 4765, 'misfortun': 4766, 'antholog': 4767, 'shepherd': 4768, 'razor': 4769, 'flavor': 4770, 'blatantli': 4771, 'bikini': 4772, 'mathieu': 4773, 'winchest': 4774, 'trier': 4775, 'outdat': 4776, 'comprehend': 4777, 'dudley': 4778, 'magician': 4779, 'peer': 4780, 'smack': 4781, 'psych': 4782, 'fifth': 4783, 'nightclub': 4784, 'linear': 4785, 'feminin': 4786, 'huston': 4787, 'leather': 4788, 'gunga': 4789, 'frog': 4790, 'oppon': 4791, 'ceremoni': 4792, 'styliz': 4793, 'abund': 4794, 'gilbert': 4795, 'swept': 4796, 'highway': 4797, 'howl': 4798, 'knightley': 4799, 'ideolog': 4800, 'shorter': 4801, 'clinic': 4802, 'charlton': 4803, 'retriev': 4804, 'wrestler': 4805, 'deem': 4806, 'tack': 4807, 'disregard': 4808, 'audrey': 4809, 'cartoonish': 4810, 'turd': 4811, 'glare': 4812, 'affleck': 4813, 'boyer': 4814, 'durat': 4815, 'goldsworthi': 4816, 'spine': 4817, 'chip': 4818, 'conrad': 4819, 'newer': 4820, 'bastard': 4821, 'einstein': 4822, 'btw': 4823, 'monument': 4824, 'greet': 4825, 'lighter': 4826, 'corn': 4827, 'sleaz': 4828, 'collector': 4829, 'mitch': 4830, 'tara': 4831, 'summar': 4832, 'toe': 4833, 'evolut': 4834, 'spawn': 4835, 'plate': 4836, 'whack': 4837, 'compris': 4838, 'deliver': 4839, 'moe': 4840, 'braveheart': 4841, 'uniformli': 4842, 'lavish': 4843, 'snatch': 4844, '1994': 4845, 'client': 4846, 'lifeless': 4847, '1991': 4848, 'boo': 4849, 'phenomen': 4850, '4th': 4851, 'breakdown': 4852, 'bogu': 4853, 'cemeteri': 4854, 'potter': 4855, 'senat': 4856, 'cuban': 4857, 'salman': 4858, 'energet': 4859, 'alleg': 4860, 'jare': 4861, 'constitut': 4862, 'bulk': 4863, 'replay': 4864, 'capot': 4865, 'jam': 4866, 'undead': 4867, 'appl': 4868, 'nina': 4869, 'liu': 4870, 'armstrong': 4871, 'gilliam': 4872, 'occup': 4873, 'mcqueen': 4874, 'randolph': 4875, 'jule': 4876, '1974': 4877, 'trauma': 4878, 'lex': 4879, 'ol': 4880, '1977': 4881, 'sorrow': 4882, 'embark': 4883, 'spectacl': 4884, 'historian': 4885, 'firmli': 4886, 'undertak': 4887, 'ie': 4888, 'clara': 4889, 'wtf': 4890, 'fluid': 4891, 'outright': 4892, 'belli': 4893, 'pronounc': 4894, 'cecil': 4895, 'judd': 4896, 'creek': 4897, 'kazan': 4898, 'kent': 4899, 'inaccuraci': 4900, 'neatli': 4901, 'signal': 4902, 'healthi': 4903, 'eleven': 4904, 'jedi': 4905, 'luxuri': 4906, 'evelyn': 4907, 'bori': 4908, 'carmen': 4909, 'vain': 4910, 'spray': 4911, 'propheci': 4912, 'truman': 4913, 'groan': 4914, 'lauren': 4915, 'subtli': 4916, 'curtain': 4917, 'miami': 4918, 'kiddi': 4919, 'inaccur': 4920, 'aussi': 4921, 'pioneer': 4922, 'roar': 4923, 'bait': 4924, 'porter': 4925, 'comprehens': 4926, 'sacrif': 4927, 'genet': 4928, 'palm': 4929, 'tokyo': 4930, 'rosario': 4931, '1985': 4932, 'knee': 4933, 'basket': 4934, 'galaxi': 4935, 'comb': 4936, 'sidewalk': 4937, 'id': 4938, 'meal': 4939, 'conan': 4940, 'inclus': 4941, 'pepper': 4942, 'poker': 4943, 'walt': 4944, 'antonio': 4945, 'unattract': 4946, 'mum': 4947, 'forgiven': 4948, 'fruit': 4949, 'vignett': 4950, 'goldblum': 4951, 'blur': 4952, 'congratul': 4953, 'cape': 4954, 'ash': 4955, 'relentless': 4956, 'abound': 4957, 'miniseri': 4958, 'lanc': 4959, 'decapit': 4960, 'bsg': 4961, 'unsuspect': 4962, 'paula': 4963, 'bach': 4964, 'jill': 4965, 'evan': 4966, 'bravo': 4967, 'sophi': 4968, 'assort': 4969, 'mice': 4970, 'hostil': 4971, 'sparkl': 4972, 'asset': 4973, 'profil': 4974, 'playboy': 4975, 'motorcycl': 4976, 'growth': 4977, 'handicap': 4978, 'incorrect': 4979, 'epitom': 4980, 'drone': 4981, 'ghetto': 4982, 'cypher': 4983, 'modest': 4984, 'scariest': 4985, 'weari': 4986, 'dubiou': 4987, 'orchestr': 4988, 'omin': 4989, 'reincarn': 4990, 'substanti': 4991, 'spill': 4992, 'scarfac': 4993, '21st': 4994, 'monti': 4995, 'detach': 4996, 'optimist': 4997, 'macabr': 4998, 'frontal': 4999}\n"
     ]
    }
   ],
   "source": [
    "word_dict = build_dict(train_X)\n",
    "print(word_dict)"
   ]
  },
  {
   "cell_type": "markdown",
   "metadata": {},
   "source": [
    "**Question:** What are the five most frequently appearing (tokenized) words in the training set? Does it makes sense that these words appear frequently in the training set?"
   ]
  },
  {
   "cell_type": "markdown",
   "metadata": {},
   "source": [
    "**Answer:** movi, film, one, like, time"
   ]
  },
  {
   "cell_type": "code",
   "execution_count": 58,
   "metadata": {},
   "outputs": [
    {
     "data": {
      "text/plain": [
       "['movi', 'film', 'one', 'like', 'time']"
      ]
     },
     "execution_count": 58,
     "metadata": {},
     "output_type": "execute_result"
    }
   ],
   "source": [
    "# TODO: Use this space to determine the five most frequently appearing words in the training set.\n",
    "#The top five most frequent words: \n",
    "list(word_dict)[:5]"
   ]
  },
  {
   "cell_type": "markdown",
   "metadata": {},
   "source": [
    "### Save `word_dict`\n",
    "\n",
    "Later on when we construct an endpoint which processes a submitted review we will need to make use of the `word_dict` which we have created. As such, we will save it to a file now for future use."
   ]
  },
  {
   "cell_type": "code",
   "execution_count": 59,
   "metadata": {},
   "outputs": [],
   "source": [
    "data_dir = '../data/pytorch' # The folder we will use for storing data\n",
    "if not os.path.exists(data_dir): # Make sure that the folder exists\n",
    "    os.makedirs(data_dir)"
   ]
  },
  {
   "cell_type": "code",
   "execution_count": 60,
   "metadata": {},
   "outputs": [],
   "source": [
    "with open(os.path.join(data_dir, 'word_dict.pkl'), \"wb\") as f:\n",
    "    pickle.dump(word_dict, f)"
   ]
  },
  {
   "cell_type": "markdown",
   "metadata": {},
   "source": [
    "### Transform the reviews\n",
    "\n",
    "Now that we have our word dictionary which allows us to transform the words appearing in the reviews into integers, it is time to make use of it and convert our reviews to their integer sequence representation, making sure to pad or truncate to a fixed length, which in our case is `500`."
   ]
  },
  {
   "cell_type": "code",
   "execution_count": 61,
   "metadata": {},
   "outputs": [],
   "source": [
    "def convert_and_pad(word_dict, sentence, pad=500):\n",
    "    NOWORD = 0 # We will use 0 to represent the 'no word' category\n",
    "    INFREQ = 1 # and we use 1 to represent the infrequent words, i.e., words not appearing in word_dict\n",
    "    \n",
    "    working_sentence = [NOWORD] * pad\n",
    "    \n",
    "    for word_index, word in enumerate(sentence[:pad]):\n",
    "        if word in word_dict:\n",
    "            working_sentence[word_index] = word_dict[word]\n",
    "        else:\n",
    "            working_sentence[word_index] = INFREQ\n",
    "            \n",
    "    return working_sentence, min(len(sentence), pad)\n",
    "\n",
    "def convert_and_pad_data(word_dict, data, pad=500):\n",
    "    result = []\n",
    "    lengths = []\n",
    "    \n",
    "    for sentence in data:\n",
    "        converted, leng = convert_and_pad(word_dict, sentence, pad)\n",
    "        result.append(converted)\n",
    "        lengths.append(leng)\n",
    "        \n",
    "    return np.array(result), np.array(lengths)"
   ]
  },
  {
   "cell_type": "code",
   "execution_count": 62,
   "metadata": {},
   "outputs": [],
   "source": [
    "train_X, train_X_len = convert_and_pad_data(word_dict, train_X)\n",
    "test_X, test_X_len = convert_and_pad_data(word_dict, test_X)"
   ]
  },
  {
   "cell_type": "markdown",
   "metadata": {},
   "source": [
    "As a quick check to make sure that things are working as intended, check to see what one of the reviews in the training set looks like after having been processeed. Does this look reasonable? What is the length of a review in the training set?"
   ]
  },
  {
   "cell_type": "code",
   "execution_count": 63,
   "metadata": {},
   "outputs": [
    {
     "data": {
      "text/plain": [
       "array([ 254,   54,  101,    3,  259,   12,   67, 1094, 1848,    3,   97,\n",
       "        262,  328, 1664,  392, 1361, 4964, 1820, 4316,  551,  553, 1239,\n",
       "       4778, 1910,  475, 1562, 3962,  207,   36,   49, 2492, 3935,    1,\n",
       "        553, 1820, 4316,  551,    1, 1239, 2325,  227,    1,  857,    1,\n",
       "       3311,    1, 1616, 1616,  610,  423, 1280, 3962, 2520, 2226, 1465,\n",
       "          1,  162,  118, 1980, 2336, 4965,    1,  235, 1361,   61,  263,\n",
       "       1324, 3845, 3464,    1, 1820, 4316, 1239,    1,    1,  190, 1665,\n",
       "       3311,  288,  407,  118, 1363,  230,    1, 1845,    1, 2162, 4472,\n",
       "          1,    1,  248,    1, 1361,   91, 1480,    1,  118,  426, 2162,\n",
       "       4472,   59,   57, 1361, 3311,   75, 2699,   56,  205,   29, 3464,\n",
       "         27,   76, 2220, 4096,    1,    1, 1349, 2758,    1,  997,  708,\n",
       "          1,    1, 4543,    1,    1, 1445,  658, 4964, 3586,    1, 2162,\n",
       "       3507, 4964,    1,    1,  325,    1,    1,    1,    1, 4472, 3758,\n",
       "        227,    1, 3112,  658, 4966, 4214,    1,  835, 2150, 1910,  108,\n",
       "         84,   52, 2447,  139,  131, 1562, 3962,    1, 1296,  162,   29,\n",
       "          1,  190,    8,   26,  553,  551,  386, 1910,  351, 3439,    1,\n",
       "       2907, 1161,    1,  105,  553,   53,  282, 1361,  430,   53,   27,\n",
       "       1820, 4316,  398,    1, 1144,   44, 1144,  282, 1239,   53,  251,\n",
       "        766,  343, 2266,  166, 1239,    1, 1799,    1,  788,    3,   85,\n",
       "       2520,    1, 1820, 4316,   53, 1063,  269,  105,   85, 2325,  227,\n",
       "          1,  398, 3707,  922,  755,  627,   43,    3,  398,    1, 1144,\n",
       "         44, 1144,  155,    7,    0,    0,    0,    0,    0,    0,    0,\n",
       "          0,    0,    0,    0,    0,    0,    0,    0,    0,    0,    0,\n",
       "          0,    0,    0,    0,    0,    0,    0,    0,    0,    0,    0,\n",
       "          0,    0,    0,    0,    0,    0,    0,    0,    0,    0,    0,\n",
       "          0,    0,    0,    0,    0,    0,    0,    0,    0,    0,    0,\n",
       "          0,    0,    0,    0,    0,    0,    0,    0,    0,    0,    0,\n",
       "          0,    0,    0,    0,    0,    0,    0,    0,    0,    0,    0,\n",
       "          0,    0,    0,    0,    0,    0,    0,    0,    0,    0,    0,\n",
       "          0,    0,    0,    0,    0,    0,    0,    0,    0,    0,    0,\n",
       "          0,    0,    0,    0,    0,    0,    0,    0,    0,    0,    0,\n",
       "          0,    0,    0,    0,    0,    0,    0,    0,    0,    0,    0,\n",
       "          0,    0,    0,    0,    0,    0,    0,    0,    0,    0,    0,\n",
       "          0,    0,    0,    0,    0,    0,    0,    0,    0,    0,    0,\n",
       "          0,    0,    0,    0,    0,    0,    0,    0,    0,    0,    0,\n",
       "          0,    0,    0,    0,    0,    0,    0,    0,    0,    0,    0,\n",
       "          0,    0,    0,    0,    0,    0,    0,    0,    0,    0,    0,\n",
       "          0,    0,    0,    0,    0,    0,    0,    0,    0,    0,    0,\n",
       "          0,    0,    0,    0,    0,    0,    0,    0,    0,    0,    0,\n",
       "          0,    0,    0,    0,    0,    0,    0,    0,    0,    0,    0,\n",
       "          0,    0,    0,    0,    0,    0,    0,    0,    0,    0,    0,\n",
       "          0,    0,    0,    0,    0,    0,    0,    0,    0,    0,    0,\n",
       "          0,    0,    0,    0,    0,    0,    0,    0,    0,    0,    0,\n",
       "          0,    0,    0,    0,    0,    0,    0,    0,    0,    0,    0,\n",
       "          0,    0,    0,    0,    0,    0,    0,    0,    0,    0,    0,\n",
       "          0,    0,    0,    0,    0])"
      ]
     },
     "execution_count": 63,
     "metadata": {},
     "output_type": "execute_result"
    }
   ],
   "source": [
    "# Use this cell to examine one of the processed reviews to make sure everything is working as intended.\n",
    "train_X[10]"
   ]
  },
  {
   "cell_type": "markdown",
   "metadata": {},
   "source": [
    "**Question:** In the cells above we use the `preprocess_data` and `convert_and_pad_data` methods to process both the training and testing set. Why or why not might this be a problem?"
   ]
  },
  {
   "cell_type": "markdown",
   "metadata": {},
   "source": [
    "**Answer:** In preprocess_data, the reviews are converted to list of words / tokens. These will be fed later to build_dict fucntion in order to create our words dictionary. While in convert_and_pad_data, each sentence in the review is converted to a numby array to specify the weight or index of that word in the dictionary. If the word is not used, it will either get infrequent = 1 or noword = 0. The conver_and_pad function takes parameters: the word_dict (which was created earlier from the tokens) and tne sentence itself. The function preprocess_data takes more time since it will convert all words to tokens. "
   ]
  },
  {
   "cell_type": "markdown",
   "metadata": {},
   "source": [
    "## Step 3: Upload the data to S3\n",
    "\n",
    "As in the XGBoost notebook, we will need to upload the training dataset to S3 in order for our training code to access it. For now we will save it locally and we will upload to S3 later on.\n",
    "\n",
    "### Save the processed training dataset locally\n",
    "\n",
    "It is important to note the format of the data that we are saving as we will need to know it when we write the training code. In our case, each row of the dataset has the form `label`, `length`, `review[500]` where `review[500]` is a sequence of `500` integers representing the words in the review."
   ]
  },
  {
   "cell_type": "code",
   "execution_count": 64,
   "metadata": {},
   "outputs": [],
   "source": [
    "import pandas as pd\n",
    "    \n",
    "pd.concat([pd.DataFrame(train_y), pd.DataFrame(train_X_len), pd.DataFrame(train_X)], axis=1) \\\n",
    "        .to_csv(os.path.join(data_dir, 'train.csv'), header=False, index=False)"
   ]
  },
  {
   "cell_type": "code",
   "execution_count": null,
   "metadata": {},
   "outputs": [],
   "source": []
  },
  {
   "cell_type": "markdown",
   "metadata": {},
   "source": [
    "### Uploading the training data\n",
    "\n",
    "\n",
    "Next, we need to upload the training data to the SageMaker default S3 bucket so that we can provide access to it while training our model."
   ]
  },
  {
   "cell_type": "code",
   "execution_count": 65,
   "metadata": {},
   "outputs": [],
   "source": [
    "import sagemaker\n",
    "\n",
    "sagemaker_session = sagemaker.Session()\n",
    "\n",
    "bucket = sagemaker_session.default_bucket()\n",
    "prefix = 'sagemaker/sentiment_rnn'\n",
    "\n",
    "role = sagemaker.get_execution_role()"
   ]
  },
  {
   "cell_type": "code",
   "execution_count": 66,
   "metadata": {},
   "outputs": [],
   "source": [
    "input_data = sagemaker_session.upload_data(path=data_dir, bucket=bucket, key_prefix=prefix)"
   ]
  },
  {
   "cell_type": "markdown",
   "metadata": {},
   "source": [
    "**NOTE:** The cell above uploads the entire contents of our data directory. This includes the `word_dict.pkl` file. This is fortunate as we will need this later on when we create an endpoint that accepts an arbitrary review. For now, we will just take note of the fact that it resides in the data directory (and so also in the S3 training bucket) and that we will need to make sure it gets saved in the model directory."
   ]
  },
  {
   "cell_type": "markdown",
   "metadata": {},
   "source": [
    "## Step 4: Build and Train the PyTorch Model\n",
    "\n",
    "In the XGBoost notebook we discussed what a model is in the SageMaker framework. In particular, a model comprises three objects\n",
    "\n",
    " - Model Artifacts,\n",
    " - Training Code, and\n",
    " - Inference Code,\n",
    " \n",
    "each of which interact with one another. In the XGBoost example we used training and inference code that was provided by Amazon. Here we will still be using containers provided by Amazon with the added benefit of being able to include our own custom code.\n",
    "\n",
    "We will start by implementing our own neural network in PyTorch along with a training script. For the purposes of this project we have provided the necessary model object in the `model.py` file, inside of the `train` folder. You can see the provided implementation by running the cell below."
   ]
  },
  {
   "cell_type": "code",
   "execution_count": 67,
   "metadata": {},
   "outputs": [
    {
     "name": "stdout",
     "output_type": "stream",
     "text": [
      "\u001b[34mimport\u001b[39;49;00m \u001b[04m\u001b[36mtorch\u001b[39;49;00m\u001b[04m\u001b[36m.\u001b[39;49;00m\u001b[04m\u001b[36mnn\u001b[39;49;00m \u001b[34mas\u001b[39;49;00m \u001b[04m\u001b[36mnn\u001b[39;49;00m\n",
      "\n",
      "\u001b[34mclass\u001b[39;49;00m \u001b[04m\u001b[32mLSTMClassifier\u001b[39;49;00m(nn.Module):\n",
      "    \u001b[33m\"\"\"\u001b[39;49;00m\n",
      "\u001b[33m    This is the simple RNN model we will be using to perform Sentiment Analysis.\u001b[39;49;00m\n",
      "\u001b[33m    \"\"\"\u001b[39;49;00m\n",
      "\n",
      "    \u001b[34mdef\u001b[39;49;00m \u001b[32m__init__\u001b[39;49;00m(\u001b[36mself\u001b[39;49;00m, embedding_dim, hidden_dim, vocab_size):\n",
      "        \u001b[33m\"\"\"\u001b[39;49;00m\n",
      "\u001b[33m        Initialize the model by settingg up the various layers.\u001b[39;49;00m\n",
      "\u001b[33m        \"\"\"\u001b[39;49;00m\n",
      "        \u001b[36msuper\u001b[39;49;00m(LSTMClassifier, \u001b[36mself\u001b[39;49;00m).\u001b[32m__init__\u001b[39;49;00m()\n",
      "\n",
      "        \u001b[36mself\u001b[39;49;00m.embedding = nn.Embedding(vocab_size, embedding_dim, padding_idx=\u001b[34m0\u001b[39;49;00m)\n",
      "        \u001b[36mself\u001b[39;49;00m.lstm = nn.LSTM(embedding_dim, hidden_dim)\n",
      "        \u001b[36mself\u001b[39;49;00m.dense = nn.Linear(in_features=hidden_dim, out_features=\u001b[34m1\u001b[39;49;00m)\n",
      "        \u001b[36mself\u001b[39;49;00m.sig = nn.Sigmoid()\n",
      "        \n",
      "        \u001b[36mself\u001b[39;49;00m.word_dict = \u001b[34mNone\u001b[39;49;00m\n",
      "\n",
      "    \u001b[34mdef\u001b[39;49;00m \u001b[32mforward\u001b[39;49;00m(\u001b[36mself\u001b[39;49;00m, x):\n",
      "        \u001b[33m\"\"\"\u001b[39;49;00m\n",
      "\u001b[33m        Perform a forward pass of our model on some input.\u001b[39;49;00m\n",
      "\u001b[33m        \"\"\"\u001b[39;49;00m\n",
      "        x = x.t()\n",
      "        lengths = x[\u001b[34m0\u001b[39;49;00m,:]\n",
      "        reviews = x[\u001b[34m1\u001b[39;49;00m:,:]\n",
      "        embeds = \u001b[36mself\u001b[39;49;00m.embedding(reviews)\n",
      "        lstm_out, _ = \u001b[36mself\u001b[39;49;00m.lstm(embeds)\n",
      "        out = \u001b[36mself\u001b[39;49;00m.dense(lstm_out)\n",
      "        out = out[lengths - \u001b[34m1\u001b[39;49;00m, \u001b[36mrange\u001b[39;49;00m(\u001b[36mlen\u001b[39;49;00m(lengths))]\n",
      "        \u001b[34mreturn\u001b[39;49;00m \u001b[36mself\u001b[39;49;00m.sig(out.squeeze())\n"
     ]
    }
   ],
   "source": [
    "!pygmentize train/model.py"
   ]
  },
  {
   "cell_type": "markdown",
   "metadata": {},
   "source": [
    "The important takeaway from the implementation provided is that there are three parameters that we may wish to tweak to improve the performance of our model. These are the embedding dimension, the hidden dimension and the size of the vocabulary. We will likely want to make these parameters configurable in the training script so that if we wish to modify them we do not need to modify the script itself. We will see how to do this later on. To start we will write some of the training code in the notebook so that we can more easily diagnose any issues that arise.\n",
    "\n",
    "First we will load a small portion of the training data set to use as a sample. It would be very time consuming to try and train the model completely in the notebook as we do not have access to a gpu and the compute instance that we are using is not particularly powerful. However, we can work on a small bit of the data to get a feel for how our training script is behaving."
   ]
  },
  {
   "cell_type": "code",
   "execution_count": 68,
   "metadata": {},
   "outputs": [],
   "source": [
    "import torch\n",
    "import torch.utils.data\n",
    "\n",
    "# Read in only the first 250 rows\n",
    "train_sample = pd.read_csv(os.path.join(data_dir, 'train.csv'), header=None, names=None, nrows=250)\n",
    "\n",
    "# Turn the input pandas dataframe into tensors\n",
    "train_sample_y = torch.from_numpy(train_sample[[0]].values).float().squeeze()\n",
    "train_sample_X = torch.from_numpy(train_sample.drop([0], axis=1).values).long()\n",
    "\n",
    "# Build the dataset\n",
    "train_sample_ds = torch.utils.data.TensorDataset(train_sample_X, train_sample_y)\n",
    "# Build the dataloader\n",
    "train_sample_dl = torch.utils.data.DataLoader(train_sample_ds, batch_size=50)"
   ]
  },
  {
   "cell_type": "markdown",
   "metadata": {},
   "source": [
    "### (TODO) Writing the training method\n",
    "\n",
    "Next we need to write the training code itself. This should be very similar to training methods that you have written before to train PyTorch models. We will leave any difficult aspects such as model saving / loading and parameter loading until a little later."
   ]
  },
  {
   "cell_type": "code",
   "execution_count": 69,
   "metadata": {},
   "outputs": [],
   "source": [
    "def train(model, train_loader, epochs, optimizer, loss_fn, device):\n",
    "    for epoch in range(1, epochs + 1):\n",
    "        model.train()\n",
    "        total_loss = 0\n",
    "        for batch in train_loader:         \n",
    "            batch_X, batch_y = batch\n",
    "            \n",
    "            batch_X = batch_X.to(device)\n",
    "            batch_y = batch_y.to(device)\n",
    "            \n",
    "            # DONE: Complete this train method to train the model provided.\n",
    "            \n",
    "            # zero the parameter gradients\n",
    "            optimizer.zero_grad()\n",
    "\n",
    "            # forward + backward + optimize\n",
    "            output = model.forward(batch_X)\n",
    "            loss = loss_fn(output, batch_y)\n",
    "            loss.backward()\n",
    "            optimizer.step()\n",
    "            \n",
    "            total_loss += loss.data.item()\n",
    "        print(\"Epoch: {}, BCELoss: {}\".format(epoch, total_loss / len(train_loader)))"
   ]
  },
  {
   "cell_type": "markdown",
   "metadata": {},
   "source": [
    "Supposing we have the training method above, we will test that it is working by writing a bit of code in the notebook that executes our training method on the small sample training set that we loaded earlier. The reason for doing this in the notebook is so that we have an opportunity to fix any errors that arise early when they are easier to diagnose."
   ]
  },
  {
   "cell_type": "code",
   "execution_count": 70,
   "metadata": {},
   "outputs": [
    {
     "name": "stdout",
     "output_type": "stream",
     "text": [
      "Epoch: 1, BCELoss: 0.6939979195594788\n",
      "Epoch: 2, BCELoss: 0.6809996366500854\n",
      "Epoch: 3, BCELoss: 0.6702564597129822\n",
      "Epoch: 4, BCELoss: 0.6595354199409484\n",
      "Epoch: 5, BCELoss: 0.647624158859253\n"
     ]
    }
   ],
   "source": [
    "import torch.optim as optim\n",
    "from train.model import LSTMClassifier\n",
    "\n",
    "device = torch.device(\"cuda\" if torch.cuda.is_available() else \"cpu\")\n",
    "model = LSTMClassifier(32, 100, 5000).to(device)\n",
    "optimizer = optim.Adam(model.parameters())\n",
    "loss_fn = torch.nn.BCELoss()\n",
    "\n",
    "train(model, train_sample_dl, 5, optimizer, loss_fn, device)"
   ]
  },
  {
   "cell_type": "markdown",
   "metadata": {},
   "source": [
    "In order to construct a PyTorch model using SageMaker we must provide SageMaker with a training script. We may optionally include a directory which will be copied to the container and from which our training code will be run. When the training container is executed it will check the uploaded directory (if there is one) for a `requirements.txt` file and install any required Python libraries, after which the training script will be run."
   ]
  },
  {
   "cell_type": "markdown",
   "metadata": {},
   "source": [
    "### (TODO) Training the model\n",
    "\n",
    "When a PyTorch model is constructed in SageMaker, an entry point must be specified. This is the Python file which will be executed when the model is trained. Inside of the `train` directory is a file called `train.py` which has been provided and which contains most of the necessary code to train our model. The only thing that is missing is the implementation of the `train()` method which you wrote earlier in this notebook.\n",
    "\n",
    "**TODO**: Copy the `train()` method written above and paste it into the `train/train.py` file where required.\n",
    "\n",
    "The way that SageMaker passes hyperparameters to the training script is by way of arguments. These arguments can then be parsed and used in the training script. To see how this is done take a look at the provided `train/train.py` file."
   ]
  },
  {
   "cell_type": "code",
   "execution_count": 73,
   "metadata": {},
   "outputs": [],
   "source": [
    "from sagemaker.pytorch import PyTorch\n",
    "\n",
    "estimator = PyTorch(entry_point=\"train.py\",\n",
    "                    source_dir=\"train\",\n",
    "                    role=role,\n",
    "                    framework_version='0.4.0',\n",
    "                    py_version ='py3',\n",
    "                    train_instance_count=1,\n",
    "                    train_instance_type='ml.p2.xlarge',\n",
    "                    hyperparameters={\n",
    "                        'epochs': 10,\n",
    "                        'hidden_dim': 200,\n",
    "                    })"
   ]
  },
  {
   "cell_type": "code",
   "execution_count": 74,
   "metadata": {},
   "outputs": [
    {
     "name": "stderr",
     "output_type": "stream",
     "text": [
      "'create_image_uri' will be deprecated in favor of 'ImageURIProvider' class in SageMaker Python SDK v2.\n",
      "'s3_input' class will be renamed to 'TrainingInput' in SageMaker Python SDK v2.\n",
      "'create_image_uri' will be deprecated in favor of 'ImageURIProvider' class in SageMaker Python SDK v2.\n"
     ]
    },
    {
     "name": "stdout",
     "output_type": "stream",
     "text": [
      "2021-03-17 16:28:51 Starting - Starting the training job...\n",
      "2021-03-17 16:29:07 Starting - Launching requested ML instances......\n",
      "2021-03-17 16:30:21 Starting - Preparing the instances for training.........\n",
      "2021-03-17 16:31:45 Downloading - Downloading input data......\n",
      "2021-03-17 16:32:46 Training - Downloading the training image...\n",
      "2021-03-17 16:33:10 Training - Training image download completed. Training in progress.\u001b[34mbash: cannot set terminal process group (-1): Inappropriate ioctl for device\u001b[0m\n",
      "\u001b[34mbash: no job control in this shell\u001b[0m\n",
      "\u001b[34m2021-03-17 16:33:11,430 sagemaker-containers INFO     Imported framework sagemaker_pytorch_container.training\u001b[0m\n",
      "\u001b[34m2021-03-17 16:33:11,457 sagemaker_pytorch_container.training INFO     Block until all host DNS lookups succeed.\u001b[0m\n",
      "\u001b[34m2021-03-17 16:33:11,463 sagemaker_pytorch_container.training INFO     Invoking user training script.\u001b[0m\n",
      "\u001b[34m2021-03-17 16:33:19,655 sagemaker-containers INFO     Module train does not provide a setup.py. \u001b[0m\n",
      "\u001b[34mGenerating setup.py\u001b[0m\n",
      "\u001b[34m2021-03-17 16:33:19,655 sagemaker-containers INFO     Generating setup.cfg\u001b[0m\n",
      "\u001b[34m2021-03-17 16:33:19,656 sagemaker-containers INFO     Generating MANIFEST.in\u001b[0m\n",
      "\u001b[34m2021-03-17 16:33:19,656 sagemaker-containers INFO     Installing module with the following command:\u001b[0m\n",
      "\u001b[34m/usr/bin/python -m pip install -U . -r requirements.txt\u001b[0m\n",
      "\u001b[34mProcessing /opt/ml/code\u001b[0m\n",
      "\u001b[34mCollecting pandas (from -r requirements.txt (line 1))\n",
      "  Downloading https://files.pythonhosted.org/packages/74/24/0cdbf8907e1e3bc5a8da03345c23cbed7044330bb8f73bb12e711a640a00/pandas-0.24.2-cp35-cp35m-manylinux1_x86_64.whl (10.0MB)\u001b[0m\n",
      "\u001b[34mCollecting numpy (from -r requirements.txt (line 2))\u001b[0m\n",
      "\u001b[34m  Downloading https://files.pythonhosted.org/packages/b5/36/88723426b4ff576809fec7d73594fe17a35c27f8d01f93637637a29ae25b/numpy-1.18.5-cp35-cp35m-manylinux1_x86_64.whl (19.9MB)\u001b[0m\n",
      "\u001b[34mCollecting nltk (from -r requirements.txt (line 3))\n",
      "  Downloading https://files.pythonhosted.org/packages/92/75/ce35194d8e3022203cca0d2f896dbb88689f9b3fce8e9f9cff942913519d/nltk-3.5.zip (1.4MB)\u001b[0m\n",
      "\u001b[34mCollecting beautifulsoup4 (from -r requirements.txt (line 4))\n",
      "  Downloading https://files.pythonhosted.org/packages/d1/41/e6495bd7d3781cee623ce23ea6ac73282a373088fcd0ddc809a047b18eae/beautifulsoup4-4.9.3-py3-none-any.whl (115kB)\u001b[0m\n",
      "\u001b[34mCollecting html5lib (from -r requirements.txt (line 5))\n",
      "  Downloading https://files.pythonhosted.org/packages/6c/dd/a834df6482147d48e225a49515aabc28974ad5a4ca3215c18a882565b028/html5lib-1.1-py2.py3-none-any.whl (112kB)\u001b[0m\n",
      "\u001b[34mCollecting scipy (from -r requirements.txt (line 6))\u001b[0m\n",
      "\u001b[34m  Downloading https://files.pythonhosted.org/packages/c1/60/8cbf00c0deb50a971e6e3a015fb32513960a92867df979870a454481817c/scipy-1.4.1-cp35-cp35m-manylinux1_x86_64.whl (26.0MB)\u001b[0m\n",
      "\u001b[34mCollecting pytz>=2011k (from pandas->-r requirements.txt (line 1))\n",
      "  Downloading https://files.pythonhosted.org/packages/70/94/784178ca5dd892a98f113cdd923372024dc04b8d40abe77ca76b5fb90ca6/pytz-2021.1-py2.py3-none-any.whl (510kB)\u001b[0m\n",
      "\u001b[34mRequirement already satisfied, skipping upgrade: python-dateutil>=2.5.0 in /usr/local/lib/python3.5/dist-packages (from pandas->-r requirements.txt (line 1)) (2.7.5)\u001b[0m\n",
      "\u001b[34mRequirement already satisfied, skipping upgrade: click in /usr/local/lib/python3.5/dist-packages (from nltk->-r requirements.txt (line 3)) (7.0)\u001b[0m\n",
      "\u001b[34mCollecting joblib (from nltk->-r requirements.txt (line 3))\n",
      "  Downloading https://files.pythonhosted.org/packages/28/5c/cf6a2b65a321c4a209efcdf64c2689efae2cb62661f8f6f4bb28547cf1bf/joblib-0.14.1-py2.py3-none-any.whl (294kB)\u001b[0m\n",
      "\u001b[34mCollecting regex (from nltk->-r requirements.txt (line 3))\u001b[0m\n",
      "\u001b[34m  Downloading https://files.pythonhosted.org/packages/2e/e4/3447fed9ab29944333f48730ecff4dca92f0868c5b188d6ab2b2078e32c2/regex-2020.11.13.tar.gz (694kB)\u001b[0m\n",
      "\u001b[34mCollecting tqdm (from nltk->-r requirements.txt (line 3))\n",
      "  Downloading https://files.pythonhosted.org/packages/f8/3e/2730d0effc282960dbff3cf91599ad0d8f3faedc8e75720fdf224b31ab24/tqdm-4.59.0-py2.py3-none-any.whl (74kB)\u001b[0m\n",
      "\u001b[34mCollecting soupsieve>1.2; python_version >= \"3.0\" (from beautifulsoup4->-r requirements.txt (line 4))\n",
      "  Downloading https://files.pythonhosted.org/packages/02/fb/1c65691a9aeb7bd6ac2aa505b84cb8b49ac29c976411c6ab3659425e045f/soupsieve-2.1-py3-none-any.whl\u001b[0m\n",
      "\u001b[34mRequirement already satisfied, skipping upgrade: six>=1.9 in /usr/local/lib/python3.5/dist-packages (from html5lib->-r requirements.txt (line 5)) (1.11.0)\u001b[0m\n",
      "\u001b[34mCollecting webencodings (from html5lib->-r requirements.txt (line 5))\n",
      "  Downloading https://files.pythonhosted.org/packages/f4/24/2a3e3df732393fed8b3ebf2ec078f05546de641fe1b667ee316ec1dcf3b7/webencodings-0.5.1-py2.py3-none-any.whl\u001b[0m\n",
      "\u001b[34mBuilding wheels for collected packages: nltk, train, regex\n",
      "  Running setup.py bdist_wheel for nltk: started\u001b[0m\n",
      "\u001b[34m  Running setup.py bdist_wheel for nltk: finished with status 'done'\n",
      "  Stored in directory: /root/.cache/pip/wheels/ae/8c/3f/b1fe0ba04555b08b57ab52ab7f86023639a526d8bc8d384306\n",
      "  Running setup.py bdist_wheel for train: started\u001b[0m\n",
      "\u001b[34m  Running setup.py bdist_wheel for train: finished with status 'done'\n",
      "  Stored in directory: /tmp/pip-ephem-wheel-cache-e4wjusvz/wheels/35/24/16/37574d11bf9bde50616c67372a334f94fa8356bc7164af8ca3\n",
      "  Running setup.py bdist_wheel for regex: started\u001b[0m\n",
      "\u001b[34m  Running setup.py bdist_wheel for regex: finished with status 'done'\n",
      "  Stored in directory: /root/.cache/pip/wheels/27/f6/66/a4243e485a0ebc73dc59033ae26c48e82526f77dbfe158ac59\u001b[0m\n",
      "\u001b[34mSuccessfully built nltk train regex\u001b[0m\n",
      "\u001b[34mInstalling collected packages: numpy, pytz, pandas, joblib, regex, tqdm, nltk, soupsieve, beautifulsoup4, webencodings, html5lib, scipy, train\n",
      "  Found existing installation: numpy 1.15.4\u001b[0m\n",
      "\u001b[34m    Uninstalling numpy-1.15.4:\u001b[0m\n",
      "\u001b[34m      Successfully uninstalled numpy-1.15.4\u001b[0m\n",
      "\u001b[34mSuccessfully installed beautifulsoup4-4.9.3 html5lib-1.1 joblib-0.14.1 nltk-3.5 numpy-1.18.5 pandas-0.24.2 pytz-2021.1 regex-2020.11.13 scipy-1.4.1 soupsieve-2.1 tqdm-4.59.0 train-1.0.0 webencodings-0.5.1\u001b[0m\n",
      "\u001b[34mYou are using pip version 18.1, however version 20.3.4 is available.\u001b[0m\n",
      "\u001b[34mYou should consider upgrading via the 'pip install --upgrade pip' command.\u001b[0m\n",
      "\u001b[34m2021-03-17 16:33:48,194 sagemaker-containers INFO     Invoking user script\n",
      "\u001b[0m\n",
      "\u001b[34mTraining Env:\n",
      "\u001b[0m\n",
      "\u001b[34m{\n",
      "    \"module_dir\": \"s3://sagemaker-us-east-1-663821446974/sagemaker-pytorch-2021-03-17-16-28-51-189/source/sourcedir.tar.gz\",\n",
      "    \"job_name\": \"sagemaker-pytorch-2021-03-17-16-28-51-189\",\n",
      "    \"current_host\": \"algo-1\",\n",
      "    \"num_gpus\": 1,\n",
      "    \"input_dir\": \"/opt/ml/input\",\n",
      "    \"hyperparameters\": {\n",
      "        \"epochs\": 10,\n",
      "        \"hidden_dim\": 200\n",
      "    },\n",
      "    \"output_data_dir\": \"/opt/ml/output/data\",\n",
      "    \"channel_input_dirs\": {\n",
      "        \"training\": \"/opt/ml/input/data/training\"\n",
      "    },\n",
      "    \"framework_module\": \"sagemaker_pytorch_container.training:main\",\n",
      "    \"log_level\": 20,\n",
      "    \"hosts\": [\n",
      "        \"algo-1\"\n",
      "    ],\n",
      "    \"model_dir\": \"/opt/ml/model\",\n",
      "    \"resource_config\": {\n",
      "        \"hosts\": [\n",
      "            \"algo-1\"\n",
      "        ],\n",
      "        \"network_interface_name\": \"eth0\",\n",
      "        \"current_host\": \"algo-1\"\n",
      "    },\n",
      "    \"additional_framework_parameters\": {},\n",
      "    \"module_name\": \"train\",\n",
      "    \"input_config_dir\": \"/opt/ml/input/config\",\n",
      "    \"user_entry_point\": \"train.py\",\n",
      "    \"output_dir\": \"/opt/ml/output\",\n",
      "    \"num_cpus\": 4,\n",
      "    \"input_data_config\": {\n",
      "        \"training\": {\n",
      "            \"S3DistributionType\": \"FullyReplicated\",\n",
      "            \"RecordWrapperType\": \"None\",\n",
      "            \"TrainingInputMode\": \"File\"\n",
      "        }\n",
      "    },\n",
      "    \"output_intermediate_dir\": \"/opt/ml/output/intermediate\",\n",
      "    \"network_interface_name\": \"eth0\"\u001b[0m\n",
      "\u001b[34m}\n",
      "\u001b[0m\n",
      "\u001b[34mEnvironment variables:\n",
      "\u001b[0m\n",
      "\u001b[34mSM_OUTPUT_INTERMEDIATE_DIR=/opt/ml/output/intermediate\u001b[0m\n",
      "\u001b[34mSM_CURRENT_HOST=algo-1\u001b[0m\n",
      "\u001b[34mSM_NUM_CPUS=4\u001b[0m\n",
      "\u001b[34mSM_USER_ENTRY_POINT=train.py\u001b[0m\n",
      "\u001b[34mSM_HPS={\"epochs\":10,\"hidden_dim\":200}\u001b[0m\n",
      "\u001b[34mSM_HOSTS=[\"algo-1\"]\u001b[0m\n",
      "\u001b[34mSM_CHANNEL_TRAINING=/opt/ml/input/data/training\u001b[0m\n",
      "\u001b[34mSM_MODEL_DIR=/opt/ml/model\u001b[0m\n",
      "\u001b[34mSM_TRAINING_ENV={\"additional_framework_parameters\":{},\"channel_input_dirs\":{\"training\":\"/opt/ml/input/data/training\"},\"current_host\":\"algo-1\",\"framework_module\":\"sagemaker_pytorch_container.training:main\",\"hosts\":[\"algo-1\"],\"hyperparameters\":{\"epochs\":10,\"hidden_dim\":200},\"input_config_dir\":\"/opt/ml/input/config\",\"input_data_config\":{\"training\":{\"RecordWrapperType\":\"None\",\"S3DistributionType\":\"FullyReplicated\",\"TrainingInputMode\":\"File\"}},\"input_dir\":\"/opt/ml/input\",\"job_name\":\"sagemaker-pytorch-2021-03-17-16-28-51-189\",\"log_level\":20,\"model_dir\":\"/opt/ml/model\",\"module_dir\":\"s3://sagemaker-us-east-1-663821446974/sagemaker-pytorch-2021-03-17-16-28-51-189/source/sourcedir.tar.gz\",\"module_name\":\"train\",\"network_interface_name\":\"eth0\",\"num_cpus\":4,\"num_gpus\":1,\"output_data_dir\":\"/opt/ml/output/data\",\"output_dir\":\"/opt/ml/output\",\"output_intermediate_dir\":\"/opt/ml/output/intermediate\",\"resource_config\":{\"current_host\":\"algo-1\",\"hosts\":[\"algo-1\"],\"network_interface_name\":\"eth0\"},\"user_entry_point\":\"train.py\"}\u001b[0m\n",
      "\u001b[34mSM_RESOURCE_CONFIG={\"current_host\":\"algo-1\",\"hosts\":[\"algo-1\"],\"network_interface_name\":\"eth0\"}\u001b[0m\n",
      "\u001b[34mSM_INPUT_DIR=/opt/ml/input\u001b[0m\n",
      "\u001b[34mSM_FRAMEWORK_PARAMS={}\u001b[0m\n",
      "\u001b[34mSM_NUM_GPUS=1\u001b[0m\n",
      "\u001b[34mSM_OUTPUT_DIR=/opt/ml/output\u001b[0m\n",
      "\u001b[34mSM_LOG_LEVEL=20\u001b[0m\n",
      "\u001b[34mSM_INPUT_DATA_CONFIG={\"training\":{\"RecordWrapperType\":\"None\",\"S3DistributionType\":\"FullyReplicated\",\"TrainingInputMode\":\"File\"}}\u001b[0m\n",
      "\u001b[34mPYTHONPATH=/usr/local/bin:/usr/lib/python35.zip:/usr/lib/python3.5:/usr/lib/python3.5/plat-x86_64-linux-gnu:/usr/lib/python3.5/lib-dynload:/usr/local/lib/python3.5/dist-packages:/usr/lib/python3/dist-packages\u001b[0m\n",
      "\u001b[34mSM_HP_HIDDEN_DIM=200\u001b[0m\n",
      "\u001b[34mSM_OUTPUT_DATA_DIR=/opt/ml/output/data\u001b[0m\n",
      "\u001b[34mSM_MODULE_NAME=train\u001b[0m\n",
      "\u001b[34mSM_USER_ARGS=[\"--epochs\",\"10\",\"--hidden_dim\",\"200\"]\u001b[0m\n",
      "\u001b[34mSM_CHANNELS=[\"training\"]\u001b[0m\n",
      "\u001b[34mSM_NETWORK_INTERFACE_NAME=eth0\u001b[0m\n",
      "\u001b[34mSM_MODULE_DIR=s3://sagemaker-us-east-1-663821446974/sagemaker-pytorch-2021-03-17-16-28-51-189/source/sourcedir.tar.gz\u001b[0m\n",
      "\u001b[34mSM_INPUT_CONFIG_DIR=/opt/ml/input/config\u001b[0m\n",
      "\u001b[34mSM_HP_EPOCHS=10\u001b[0m\n",
      "\u001b[34mSM_FRAMEWORK_MODULE=sagemaker_pytorch_container.training:main\n",
      "\u001b[0m\n",
      "\u001b[34mInvoking script with the following command:\n",
      "\u001b[0m\n",
      "\u001b[34m/usr/bin/python -m train --epochs 10 --hidden_dim 200\n",
      "\n",
      "\u001b[0m\n",
      "\u001b[34mUsing device cuda.\u001b[0m\n",
      "\u001b[34mGet train data loader.\u001b[0m\n",
      "\u001b[34mModel loaded with embedding_dim 32, hidden_dim 200, vocab_size 5000.\u001b[0m\n",
      "\u001b[34mEpoch: 1, BCELoss: 0.6719414178205996\u001b[0m\n",
      "\u001b[34mEpoch: 2, BCELoss: 0.5971502904989281\u001b[0m\n",
      "\u001b[34mEpoch: 3, BCELoss: 0.5124892215339505\u001b[0m\n",
      "\u001b[34mEpoch: 4, BCELoss: 0.4479154141581788\u001b[0m\n",
      "\u001b[34mEpoch: 5, BCELoss: 0.39610646269759353\u001b[0m\n",
      "\u001b[34mEpoch: 6, BCELoss: 0.3633051672760321\u001b[0m\n",
      "\u001b[34mEpoch: 7, BCELoss: 0.34418114776514014\u001b[0m\n",
      "\u001b[34mEpoch: 8, BCELoss: 0.32567357834504573\u001b[0m\n",
      "\u001b[34mEpoch: 9, BCELoss: 0.2979553874049868\u001b[0m\n",
      "\n",
      "2021-03-17 16:36:55 Uploading - Uploading generated training model\u001b[34mEpoch: 10, BCELoss: 0.3006008644493259\u001b[0m\n",
      "\u001b[34m2021-03-17 16:36:52,988 sagemaker-containers INFO     Reporting training SUCCESS\u001b[0m\n",
      "\n",
      "2021-03-17 16:37:02 Completed - Training job completed\n",
      "Training seconds: 317\n",
      "Billable seconds: 317\n"
     ]
    }
   ],
   "source": [
    "estimator.fit({'training': input_data})"
   ]
  },
  {
   "cell_type": "markdown",
   "metadata": {},
   "source": [
    "## Step 5: Testing the model\n",
    "\n",
    "As mentioned at the top of this notebook, we will be testing this model by first deploying it and then sending the testing data to the deployed endpoint. We will do this so that we can make sure that the deployed model is working correctly.\n",
    "\n",
    "## Step 6: Deploy the model for testing\n",
    "\n",
    "Now that we have trained our model, we would like to test it to see how it performs. Currently our model takes input of the form `review_length, review[500]` where `review[500]` is a sequence of `500` integers which describe the words present in the review, encoded using `word_dict`. Fortunately for us, SageMaker provides built-in inference code for models with simple inputs such as this.\n",
    "\n",
    "There is one thing that we need to provide, however, and that is a function which loads the saved model. This function must be called `model_fn()` and takes as its only parameter a path to the directory where the model artifacts are stored. This function must also be present in the python file which we specified as the entry point. In our case the model loading function has been provided and so no changes need to be made.\n",
    "\n",
    "**NOTE**: When the built-in inference code is run it must import the `model_fn()` method from the `train.py` file. This is why the training code is wrapped in a main guard ( ie, `if __name__ == '__main__':` )\n",
    "\n",
    "Since we don't need to change anything in the code that was uploaded during training, we can simply deploy the current model as-is.\n",
    "\n",
    "**NOTE:** When deploying a model you are asking SageMaker to launch an compute instance that will wait for data to be sent to it. As a result, this compute instance will continue to run until *you* shut it down. This is important to know since the cost of a deployed endpoint depends on how long it has been running for.\n",
    "\n",
    "In other words **If you are no longer using a deployed endpoint, shut it down!**\n",
    "\n",
    "**TODO:** Deploy the trained model."
   ]
  },
  {
   "cell_type": "code",
   "execution_count": 75,
   "metadata": {},
   "outputs": [
    {
     "name": "stderr",
     "output_type": "stream",
     "text": [
      "Parameter image will be renamed to image_uri in SageMaker Python SDK v2.\n",
      "'create_image_uri' will be deprecated in favor of 'ImageURIProvider' class in SageMaker Python SDK v2.\n"
     ]
    }
   ],
   "source": [
    "# TODO: Deploy the trained model\n",
    "transformer = estimator.transformer(instance_count = 1, instance_type = 'ml.m4.xlarge')"
   ]
  },
  {
   "cell_type": "code",
   "execution_count": 76,
   "metadata": {},
   "outputs": [
    {
     "name": "stderr",
     "output_type": "stream",
     "text": [
      "Parameter image will be renamed to image_uri in SageMaker Python SDK v2.\n",
      "'create_image_uri' will be deprecated in favor of 'ImageURIProvider' class in SageMaker Python SDK v2.\n"
     ]
    },
    {
     "name": "stdout",
     "output_type": "stream",
     "text": [
      "-------------------!"
     ]
    }
   ],
   "source": [
    "predictor = estimator.deploy(initial_instance_count=1, instance_type='ml.m4.xlarge')"
   ]
  },
  {
   "cell_type": "markdown",
   "metadata": {},
   "source": [
    "## Step 7 - Use the model for testing\n",
    "\n",
    "Once deployed, we can read in the test data and send it off to our deployed model to get some results. Once we collect all of the results we can determine how accurate our model is."
   ]
  },
  {
   "cell_type": "code",
   "execution_count": 77,
   "metadata": {},
   "outputs": [],
   "source": [
    "test_X = pd.concat([pd.DataFrame(test_X_len), pd.DataFrame(test_X)], axis=1)"
   ]
  },
  {
   "cell_type": "code",
   "execution_count": 78,
   "metadata": {},
   "outputs": [],
   "source": [
    "# We split the data into chunks and send each chunk seperately, accumulating the results.\n",
    "\n",
    "def predict(data, rows=512):\n",
    "    split_array = np.array_split(data, int(data.shape[0] / float(rows) + 1))\n",
    "    predictions = np.array([])\n",
    "    for array in split_array:\n",
    "        predictions = np.append(predictions, predictor.predict(array))\n",
    "    \n",
    "    return predictions"
   ]
  },
  {
   "cell_type": "code",
   "execution_count": 79,
   "metadata": {},
   "outputs": [],
   "source": [
    "predictions = predict(test_X.values)\n",
    "predictions = [round(num) for num in predictions]"
   ]
  },
  {
   "cell_type": "code",
   "execution_count": 80,
   "metadata": {},
   "outputs": [
    {
     "data": {
      "text/plain": [
       "0.85272"
      ]
     },
     "execution_count": 80,
     "metadata": {},
     "output_type": "execute_result"
    }
   ],
   "source": [
    "from sklearn.metrics import accuracy_score\n",
    "accuracy_score(test_y, predictions)"
   ]
  },
  {
   "cell_type": "markdown",
   "metadata": {},
   "source": [
    "**Question:** How does this model compare to the XGBoost model you created earlier? Why might these two models perform differently on this dataset? Which do *you* think is better for sentiment analysis?"
   ]
  },
  {
   "cell_type": "markdown",
   "metadata": {},
   "source": [
    "**Answer:** XGBoost and LSTM Classifier both worked well for the sentiment analysis task. While XGBoost is a strong classfifier, the LSTM classififer (based on RNN) provided somehow better accuracy on the same dataset (the IMDB reviews). In general, I think LSTM classifier works better for this type of problems, because it is commonly used for text classification and sentiment analysis. Where the classififer in its strcture uses RNN which provides a mechanism to memorize / remember  words in the text which supposed to provide better performance. "
   ]
  },
  {
   "cell_type": "markdown",
   "metadata": {},
   "source": [
    "### (TODO) More testing\n",
    "\n",
    "We now have a trained model which has been deployed and which we can send processed reviews to and which returns the predicted sentiment. However, ultimately we would like to be able to send our model an unprocessed review. That is, we would like to send the review itself as a string. For example, suppose we wish to send the following review to our model."
   ]
  },
  {
   "cell_type": "code",
   "execution_count": 81,
   "metadata": {},
   "outputs": [],
   "source": [
    "test_review = 'The simplest pleasures in life are the best, and this film is one of them. Combining a rather basic storyline of love and adventure this movie transcends the usual weekend fair with wit and unmitigated charm.'"
   ]
  },
  {
   "cell_type": "markdown",
   "metadata": {},
   "source": [
    "The question we now need to answer is, how do we send this review to our model?\n",
    "\n",
    "Recall in the first section of this notebook we did a bunch of data processing to the IMDb dataset. In particular, we did two specific things to the provided reviews.\n",
    " - Removed any html tags and stemmed the input\n",
    " - Encoded the review as a sequence of integers using `word_dict`\n",
    " \n",
    "In order process the review we will need to repeat these two steps.\n",
    "\n",
    "**TODO**: Using the `review_to_words` and `convert_and_pad` methods from section one, convert `test_review` into a numpy array `test_data` suitable to send to our model. Remember that our model expects input of the form `review_length, review[500]`."
   ]
  },
  {
   "cell_type": "code",
   "execution_count": 82,
   "metadata": {},
   "outputs": [],
   "source": [
    "# TODO: Convert test_review into a form usable by the model and save the results in test_data\n",
    "words = review_to_words(test_review)\n",
    "test_rev_data, test_rev_data_len = convert_and_pad_data(word_dict, words)\n",
    "test_data = pd.concat([pd.DataFrame(test_rev_data_len), pd.DataFrame(test_rev_data)], axis=1)"
   ]
  },
  {
   "cell_type": "markdown",
   "metadata": {},
   "source": [
    "Now that we have processed the review, we can send the resulting array to our model to predict the sentiment of the review."
   ]
  },
  {
   "cell_type": "code",
   "execution_count": 83,
   "metadata": {},
   "outputs": [
    {
     "name": "stdout",
     "output_type": "stream",
     "text": [
      "[1, 1, 0, 1, 1, 1, 1, 1, 1, 1, 0, 1, 0, 1, 1, 1, 1, 1, 0, 1]\n"
     ]
    }
   ],
   "source": [
    "test_predictions = predictor.predict(test_data.values)\n",
    "num_predictions = [round(num) for num in test_predictions]\n",
    "print (num_predictions)"
   ]
  },
  {
   "cell_type": "markdown",
   "metadata": {},
   "source": [
    "Since the return value of our model is close to `1`, we can be certain that the review we submitted is positive."
   ]
  },
  {
   "cell_type": "markdown",
   "metadata": {},
   "source": [
    "### Delete the endpoint\n",
    "\n",
    "Of course, just like in the XGBoost notebook, once we've deployed an endpoint it continues to run until we tell it to shut down. Since we are done using our endpoint for now, we can delete it."
   ]
  },
  {
   "cell_type": "code",
   "execution_count": 84,
   "metadata": {},
   "outputs": [
    {
     "name": "stderr",
     "output_type": "stream",
     "text": [
      "estimator.delete_endpoint() will be deprecated in SageMaker Python SDK v2. Please use the delete_endpoint() function on your predictor instead.\n"
     ]
    }
   ],
   "source": [
    "estimator.delete_endpoint()"
   ]
  },
  {
   "cell_type": "markdown",
   "metadata": {},
   "source": [
    "## Step 6 (again) - Deploy the model for the web app\n",
    "\n",
    "Now that we know that our model is working, it's time to create some custom inference code so that we can send the model a review which has not been processed and have it determine the sentiment of the review.\n",
    "\n",
    "As we saw above, by default the estimator which we created, when deployed, will use the entry script and directory which we provided when creating the model. However, since we now wish to accept a string as input and our model expects a processed review, we need to write some custom inference code.\n",
    "\n",
    "We will store the code that we write in the `serve` directory. Provided in this directory is the `model.py` file that we used to construct our model, a `utils.py` file which contains the `review_to_words` and `convert_and_pad` pre-processing functions which we used during the initial data processing, and `predict.py`, the file which will contain our custom inference code. Note also that `requirements.txt` is present which will tell SageMaker what Python libraries are required by our custom inference code.\n",
    "\n",
    "When deploying a PyTorch model in SageMaker, you are expected to provide four functions which the SageMaker inference container will use.\n",
    " - `model_fn`: This function is the same function that we used in the training script and it tells SageMaker how to load our model.\n",
    " - `input_fn`: This function receives the raw serialized input that has been sent to the model's endpoint and its job is to de-serialize and make the input available for the inference code.\n",
    " - `output_fn`: This function takes the output of the inference code and its job is to serialize this output and return it to the caller of the model's endpoint.\n",
    " - `predict_fn`: The heart of the inference script, this is where the actual prediction is done and is the function which you will need to complete.\n",
    "\n",
    "For the simple website that we are constructing during this project, the `input_fn` and `output_fn` methods are relatively straightforward. We only require being able to accept a string as input and we expect to return a single value as output. You might imagine though that in a more complex application the input or output may be image data or some other binary data which would require some effort to serialize.\n",
    "\n",
    "### (TODO) Writing inference code\n",
    "\n",
    "Before writing our custom inference code, we will begin by taking a look at the code which has been provided."
   ]
  },
  {
   "cell_type": "code",
   "execution_count": 85,
   "metadata": {},
   "outputs": [
    {
     "name": "stdout",
     "output_type": "stream",
     "text": [
      "\u001b[34mimport\u001b[39;49;00m \u001b[04m\u001b[36margparse\u001b[39;49;00m\r\n",
      "\u001b[34mimport\u001b[39;49;00m \u001b[04m\u001b[36mjson\u001b[39;49;00m\r\n",
      "\u001b[34mimport\u001b[39;49;00m \u001b[04m\u001b[36mos\u001b[39;49;00m\r\n",
      "\u001b[34mimport\u001b[39;49;00m \u001b[04m\u001b[36mpickle\u001b[39;49;00m\r\n",
      "\u001b[34mimport\u001b[39;49;00m \u001b[04m\u001b[36msys\u001b[39;49;00m\r\n",
      "\u001b[34mimport\u001b[39;49;00m \u001b[04m\u001b[36msagemaker_containers\u001b[39;49;00m\r\n",
      "\u001b[34mimport\u001b[39;49;00m \u001b[04m\u001b[36mpandas\u001b[39;49;00m \u001b[34mas\u001b[39;49;00m \u001b[04m\u001b[36mpd\u001b[39;49;00m\r\n",
      "\u001b[34mimport\u001b[39;49;00m \u001b[04m\u001b[36mnumpy\u001b[39;49;00m \u001b[34mas\u001b[39;49;00m \u001b[04m\u001b[36mnp\u001b[39;49;00m\r\n",
      "\u001b[34mimport\u001b[39;49;00m \u001b[04m\u001b[36mtorch\u001b[39;49;00m\r\n",
      "\u001b[34mimport\u001b[39;49;00m \u001b[04m\u001b[36mtorch\u001b[39;49;00m\u001b[04m\u001b[36m.\u001b[39;49;00m\u001b[04m\u001b[36mnn\u001b[39;49;00m \u001b[34mas\u001b[39;49;00m \u001b[04m\u001b[36mnn\u001b[39;49;00m\r\n",
      "\u001b[34mimport\u001b[39;49;00m \u001b[04m\u001b[36mtorch\u001b[39;49;00m\u001b[04m\u001b[36m.\u001b[39;49;00m\u001b[04m\u001b[36moptim\u001b[39;49;00m \u001b[34mas\u001b[39;49;00m \u001b[04m\u001b[36moptim\u001b[39;49;00m\r\n",
      "\u001b[34mimport\u001b[39;49;00m \u001b[04m\u001b[36mtorch\u001b[39;49;00m\u001b[04m\u001b[36m.\u001b[39;49;00m\u001b[04m\u001b[36mutils\u001b[39;49;00m\u001b[04m\u001b[36m.\u001b[39;49;00m\u001b[04m\u001b[36mdata\u001b[39;49;00m\r\n",
      "\r\n",
      "\u001b[34mfrom\u001b[39;49;00m \u001b[04m\u001b[36mmodel\u001b[39;49;00m \u001b[34mimport\u001b[39;49;00m LSTMClassifier\r\n",
      "\r\n",
      "\u001b[34mfrom\u001b[39;49;00m \u001b[04m\u001b[36mutils\u001b[39;49;00m \u001b[34mimport\u001b[39;49;00m review_to_words, convert_and_pad\r\n",
      "\r\n",
      "\u001b[34mdef\u001b[39;49;00m \u001b[32mmodel_fn\u001b[39;49;00m(model_dir):\r\n",
      "    \u001b[33m\"\"\"Load the PyTorch model from the `model_dir` directory.\"\"\"\u001b[39;49;00m\r\n",
      "    \u001b[36mprint\u001b[39;49;00m(\u001b[33m\"\u001b[39;49;00m\u001b[33mLoading model.\u001b[39;49;00m\u001b[33m\"\u001b[39;49;00m)\r\n",
      "\r\n",
      "    \u001b[37m# First, load the parameters used to create the model.\u001b[39;49;00m\r\n",
      "    model_info = {}\r\n",
      "    model_info_path = os.path.join(model_dir, \u001b[33m'\u001b[39;49;00m\u001b[33mmodel_info.pth\u001b[39;49;00m\u001b[33m'\u001b[39;49;00m)\r\n",
      "    \u001b[34mwith\u001b[39;49;00m \u001b[36mopen\u001b[39;49;00m(model_info_path, \u001b[33m'\u001b[39;49;00m\u001b[33mrb\u001b[39;49;00m\u001b[33m'\u001b[39;49;00m) \u001b[34mas\u001b[39;49;00m f:\r\n",
      "        model_info = torch.load(f)\r\n",
      "\r\n",
      "    \u001b[36mprint\u001b[39;49;00m(\u001b[33m\"\u001b[39;49;00m\u001b[33mmodel_info: \u001b[39;49;00m\u001b[33m{}\u001b[39;49;00m\u001b[33m\"\u001b[39;49;00m.format(model_info))\r\n",
      "\r\n",
      "    \u001b[37m# Determine the device and construct the model.\u001b[39;49;00m\r\n",
      "    device = torch.device(\u001b[33m\"\u001b[39;49;00m\u001b[33mcuda\u001b[39;49;00m\u001b[33m\"\u001b[39;49;00m \u001b[34mif\u001b[39;49;00m torch.cuda.is_available() \u001b[34melse\u001b[39;49;00m \u001b[33m\"\u001b[39;49;00m\u001b[33mcpu\u001b[39;49;00m\u001b[33m\"\u001b[39;49;00m)\r\n",
      "    model = LSTMClassifier(model_info[\u001b[33m'\u001b[39;49;00m\u001b[33membedding_dim\u001b[39;49;00m\u001b[33m'\u001b[39;49;00m], model_info[\u001b[33m'\u001b[39;49;00m\u001b[33mhidden_dim\u001b[39;49;00m\u001b[33m'\u001b[39;49;00m], model_info[\u001b[33m'\u001b[39;49;00m\u001b[33mvocab_size\u001b[39;49;00m\u001b[33m'\u001b[39;49;00m])\r\n",
      "\r\n",
      "    \u001b[37m# Load the store model parameters.\u001b[39;49;00m\r\n",
      "    model_path = os.path.join(model_dir, \u001b[33m'\u001b[39;49;00m\u001b[33mmodel.pth\u001b[39;49;00m\u001b[33m'\u001b[39;49;00m)\r\n",
      "    \u001b[34mwith\u001b[39;49;00m \u001b[36mopen\u001b[39;49;00m(model_path, \u001b[33m'\u001b[39;49;00m\u001b[33mrb\u001b[39;49;00m\u001b[33m'\u001b[39;49;00m) \u001b[34mas\u001b[39;49;00m f:\r\n",
      "        model.load_state_dict(torch.load(f))\r\n",
      "\r\n",
      "    \u001b[37m# Load the saved word_dict.\u001b[39;49;00m\r\n",
      "    word_dict_path = os.path.join(model_dir, \u001b[33m'\u001b[39;49;00m\u001b[33mword_dict.pkl\u001b[39;49;00m\u001b[33m'\u001b[39;49;00m)\r\n",
      "    \u001b[34mwith\u001b[39;49;00m \u001b[36mopen\u001b[39;49;00m(word_dict_path, \u001b[33m'\u001b[39;49;00m\u001b[33mrb\u001b[39;49;00m\u001b[33m'\u001b[39;49;00m) \u001b[34mas\u001b[39;49;00m f:\r\n",
      "        model.word_dict = pickle.load(f)\r\n",
      "\r\n",
      "    model.to(device).eval()\r\n",
      "\r\n",
      "    \u001b[36mprint\u001b[39;49;00m(\u001b[33m\"\u001b[39;49;00m\u001b[33mDone loading model.\u001b[39;49;00m\u001b[33m\"\u001b[39;49;00m)\r\n",
      "    \u001b[34mreturn\u001b[39;49;00m model\r\n",
      "\r\n",
      "\u001b[34mdef\u001b[39;49;00m \u001b[32minput_fn\u001b[39;49;00m(serialized_input_data, content_type):\r\n",
      "    \u001b[36mprint\u001b[39;49;00m(\u001b[33m'\u001b[39;49;00m\u001b[33mDeserializing the input data.\u001b[39;49;00m\u001b[33m'\u001b[39;49;00m)\r\n",
      "    \u001b[34mif\u001b[39;49;00m content_type == \u001b[33m'\u001b[39;49;00m\u001b[33mtext/plain\u001b[39;49;00m\u001b[33m'\u001b[39;49;00m:\r\n",
      "        data = serialized_input_data.decode(\u001b[33m'\u001b[39;49;00m\u001b[33mutf-8\u001b[39;49;00m\u001b[33m'\u001b[39;49;00m)\r\n",
      "        \u001b[34mreturn\u001b[39;49;00m data\r\n",
      "    \u001b[34mraise\u001b[39;49;00m \u001b[36mException\u001b[39;49;00m(\u001b[33m'\u001b[39;49;00m\u001b[33mRequested unsupported ContentType in content_type: \u001b[39;49;00m\u001b[33m'\u001b[39;49;00m + content_type)\r\n",
      "\r\n",
      "\u001b[34mdef\u001b[39;49;00m \u001b[32moutput_fn\u001b[39;49;00m(prediction_output, accept):\r\n",
      "    \u001b[36mprint\u001b[39;49;00m(\u001b[33m'\u001b[39;49;00m\u001b[33mSerializing the generated output.\u001b[39;49;00m\u001b[33m'\u001b[39;49;00m)\r\n",
      "    \u001b[34mreturn\u001b[39;49;00m \u001b[36mstr\u001b[39;49;00m(prediction_output)\r\n",
      "\r\n",
      "\u001b[34mdef\u001b[39;49;00m \u001b[32mpredict_fn\u001b[39;49;00m(input_data, model):\r\n",
      "    \u001b[36mprint\u001b[39;49;00m(\u001b[33m'\u001b[39;49;00m\u001b[33mInferring sentiment of input data.\u001b[39;49;00m\u001b[33m'\u001b[39;49;00m)\r\n",
      "\r\n",
      "    device = torch.device(\u001b[33m\"\u001b[39;49;00m\u001b[33mcuda\u001b[39;49;00m\u001b[33m\"\u001b[39;49;00m \u001b[34mif\u001b[39;49;00m torch.cuda.is_available() \u001b[34melse\u001b[39;49;00m \u001b[33m\"\u001b[39;49;00m\u001b[33mcpu\u001b[39;49;00m\u001b[33m\"\u001b[39;49;00m)\r\n",
      "    \r\n",
      "    \u001b[34mif\u001b[39;49;00m model.word_dict \u001b[35mis\u001b[39;49;00m \u001b[34mNone\u001b[39;49;00m:\r\n",
      "        \u001b[34mraise\u001b[39;49;00m \u001b[36mException\u001b[39;49;00m(\u001b[33m'\u001b[39;49;00m\u001b[33mModel has not been loaded properly, no word_dict.\u001b[39;49;00m\u001b[33m'\u001b[39;49;00m)\r\n",
      "    \r\n",
      "    \u001b[37m# TODO: Process input_data so that it is ready to be sent to our model.\u001b[39;49;00m\r\n",
      "    \u001b[37m#       You should produce two variables:\u001b[39;49;00m\r\n",
      "    \u001b[37m#         data_X   - A sequence of length 500 which represents the converted review\u001b[39;49;00m\r\n",
      "    \u001b[37m#         data_len - The length of the review\u001b[39;49;00m\r\n",
      "\r\n",
      "    words = review_to_words(input_data)\r\n",
      "    data_X, data_len = convert_and_pad(model.word_dict, words)\r\n",
      "\r\n",
      "    \u001b[37m# Using data_X and data_len we construct an appropriate input tensor. Remember\u001b[39;49;00m\r\n",
      "    \u001b[37m# that our model expects input data of the form 'len, review[500]'.\u001b[39;49;00m\r\n",
      "    data_pack = np.hstack((data_len, data_X))\r\n",
      "    data_pack = data_pack.reshape(\u001b[34m1\u001b[39;49;00m, -\u001b[34m1\u001b[39;49;00m)\r\n",
      "    \r\n",
      "    data = torch.from_numpy(data_pack)\r\n",
      "    data = data.to(device)\r\n",
      "\r\n",
      "    \u001b[37m# Make sure to put the model into evaluation mode\u001b[39;49;00m\r\n",
      "    model.eval()\r\n",
      "\r\n",
      "    \u001b[37m# TODO: Compute the result of applying the model to the input data. The variable `result` should\u001b[39;49;00m\r\n",
      "    \u001b[37m#       be a numpy array which contains a single integer which is either 1 or 0\u001b[39;49;00m\r\n",
      "\r\n",
      "    result = (model(data).data).cpu().numpy().round()\r\n",
      "\r\n",
      "\r\n",
      "    \u001b[34mreturn\u001b[39;49;00m result\r\n"
     ]
    }
   ],
   "source": [
    "!pygmentize serve/predict.py"
   ]
  },
  {
   "cell_type": "markdown",
   "metadata": {},
   "source": [
    "As mentioned earlier, the `model_fn` method is the same as the one provided in the training code and the `input_fn` and `output_fn` methods are very simple and your task will be to complete the `predict_fn` method. Make sure that you save the completed file as `predict.py` in the `serve` directory.\n",
    "\n",
    "**TODO**: Complete the `predict_fn()` method in the `serve/predict.py` file."
   ]
  },
  {
   "cell_type": "markdown",
   "metadata": {},
   "source": [
    "### Deploying the model\n",
    "\n",
    "Now that the custom inference code has been written, we will create and deploy our model. To begin with, we need to construct a new PyTorchModel object which points to the model artifacts created during training and also points to the inference code that we wish to use. Then we can call the deploy method to launch the deployment container.\n",
    "\n",
    "**NOTE**: The default behaviour for a deployed PyTorch model is to assume that any input passed to the predictor is a `numpy` array. In our case we want to send a string so we need to construct a simple wrapper around the `RealTimePredictor` class to accomodate simple strings. In a more complicated situation you may want to provide a serialization object, for example if you wanted to sent image data."
   ]
  },
  {
   "cell_type": "code",
   "execution_count": 86,
   "metadata": {},
   "outputs": [
    {
     "name": "stderr",
     "output_type": "stream",
     "text": [
      "Parameter image will be renamed to image_uri in SageMaker Python SDK v2.\n",
      "'create_image_uri' will be deprecated in favor of 'ImageURIProvider' class in SageMaker Python SDK v2.\n"
     ]
    },
    {
     "name": "stdout",
     "output_type": "stream",
     "text": [
      "-----------------!"
     ]
    }
   ],
   "source": [
    "from sagemaker.predictor import RealTimePredictor\n",
    "from sagemaker.pytorch import PyTorchModel\n",
    "\n",
    "class StringPredictor(RealTimePredictor):\n",
    "    def __init__(self, endpoint_name, sagemaker_session):\n",
    "        super(StringPredictor, self).__init__(endpoint_name, sagemaker_session, content_type='text/plain')\n",
    "\n",
    "model = PyTorchModel(model_data=estimator.model_data,\n",
    "                     role = role,\n",
    "                     framework_version='0.4.0',\n",
    "                     py_version ='py3',\n",
    "                     entry_point='predict.py',\n",
    "                     source_dir='serve',\n",
    "                     predictor_cls=StringPredictor)\n",
    "predictor = model.deploy(initial_instance_count=1, instance_type='ml.m4.xlarge')"
   ]
  },
  {
   "cell_type": "markdown",
   "metadata": {},
   "source": [
    "### Testing the model\n",
    "\n",
    "Now that we have deployed our model with the custom inference code, we should test to see if everything is working. Here we test our model by loading the first `250` positive and negative reviews and send them to the endpoint, then collect the results. The reason for only sending some of the data is that the amount of time it takes for our model to process the input and then perform inference is quite long and so testing the entire data set would be prohibitive."
   ]
  },
  {
   "cell_type": "code",
   "execution_count": 87,
   "metadata": {},
   "outputs": [],
   "source": [
    "import glob\n",
    "\n",
    "def test_reviews(data_dir='../data/aclImdb', stop=250):\n",
    "    \n",
    "    results = []\n",
    "    ground = []\n",
    "    \n",
    "    # We make sure to test both positive and negative reviews    \n",
    "    for sentiment in ['pos', 'neg']:\n",
    "        \n",
    "        path = os.path.join(data_dir, 'test', sentiment, '*.txt')\n",
    "        files = glob.glob(path)\n",
    "        \n",
    "        files_read = 0\n",
    "        \n",
    "        print('Starting ', sentiment, ' files')\n",
    "        \n",
    "        # Iterate through the files and send them to the predictor\n",
    "        for f in files:\n",
    "            with open(f) as review:\n",
    "                # First, we store the ground truth (was the review positive or negative)\n",
    "                if sentiment == 'pos':\n",
    "                    ground.append(1)\n",
    "                else:\n",
    "                    ground.append(0)\n",
    "                # Read in the review and convert to 'utf-8' for transmission via HTTP\n",
    "                review_input = review.read().encode('utf-8')\n",
    "                # Send the review to the predictor and store the results\n",
    "                results.append(float(predictor.predict(review_input)))\n",
    "                \n",
    "            # Sending reviews to our endpoint one at a time takes a while so we\n",
    "            # only send a small number of reviews\n",
    "            files_read += 1\n",
    "            if files_read == stop:\n",
    "                break\n",
    "            \n",
    "    return ground, results"
   ]
  },
  {
   "cell_type": "code",
   "execution_count": 88,
   "metadata": {},
   "outputs": [
    {
     "name": "stdout",
     "output_type": "stream",
     "text": [
      "Starting  pos  files\n",
      "Starting  neg  files\n"
     ]
    }
   ],
   "source": [
    "ground, results = test_reviews()"
   ]
  },
  {
   "cell_type": "code",
   "execution_count": null,
   "metadata": {},
   "outputs": [],
   "source": []
  },
  {
   "cell_type": "code",
   "execution_count": 89,
   "metadata": {},
   "outputs": [
    {
     "data": {
      "text/plain": [
       "0.816"
      ]
     },
     "execution_count": 89,
     "metadata": {},
     "output_type": "execute_result"
    }
   ],
   "source": [
    "from sklearn.metrics import accuracy_score\n",
    "accuracy_score(ground, results)"
   ]
  },
  {
   "cell_type": "markdown",
   "metadata": {},
   "source": [
    "As an additional test, we can try sending the `test_review` that we looked at earlier."
   ]
  },
  {
   "cell_type": "code",
   "execution_count": 90,
   "metadata": {},
   "outputs": [
    {
     "data": {
      "text/plain": [
       "b'1.0'"
      ]
     },
     "execution_count": 90,
     "metadata": {},
     "output_type": "execute_result"
    }
   ],
   "source": [
    "predictor.predict(test_review)"
   ]
  },
  {
   "cell_type": "markdown",
   "metadata": {},
   "source": [
    "Now that we know our endpoint is working as expected, we can set up the web page that will interact with it. If you don't have time to finish the project now, make sure to skip down to the end of this notebook and shut down your endpoint. You can deploy it again when you come back."
   ]
  },
  {
   "cell_type": "markdown",
   "metadata": {},
   "source": [
    "## Step 7 (again): Use the model for the web app\n",
    "\n",
    "> **TODO:** This entire section and the next contain tasks for you to complete, mostly using the AWS console.\n",
    "\n",
    "So far we have been accessing our model endpoint by constructing a predictor object which uses the endpoint and then just using the predictor object to perform inference. What if we wanted to create a web app which accessed our model? The way things are set up currently makes that not possible since in order to access a SageMaker endpoint the app would first have to authenticate with AWS using an IAM role which included access to SageMaker endpoints. However, there is an easier way! We just need to use some additional AWS services.\n",
    "\n",
    "<img src=\"Web App Diagram.svg\">\n",
    "\n",
    "The diagram above gives an overview of how the various services will work together. On the far right is the model which we trained above and which is deployed using SageMaker. On the far left is our web app that collects a user's movie review, sends it off and expects a positive or negative sentiment in return.\n",
    "\n",
    "In the middle is where some of the magic happens. We will construct a Lambda function, which you can think of as a straightforward Python function that can be executed whenever a specified event occurs. We will give this function permission to send and recieve data from a SageMaker endpoint.\n",
    "\n",
    "Lastly, the method we will use to execute the Lambda function is a new endpoint that we will create using API Gateway. This endpoint will be a url that listens for data to be sent to it. Once it gets some data it will pass that data on to the Lambda function and then return whatever the Lambda function returns. Essentially it will act as an interface that lets our web app communicate with the Lambda function.\n",
    "\n",
    "### Setting up a Lambda function\n",
    "\n",
    "The first thing we are going to do is set up a Lambda function. This Lambda function will be executed whenever our public API has data sent to it. When it is executed it will receive the data, perform any sort of processing that is required, send the data (the review) to the SageMaker endpoint we've created and then return the result.\n",
    "\n",
    "#### Part A: Create an IAM Role for the Lambda function\n",
    "\n",
    "Since we want the Lambda function to call a SageMaker endpoint, we need to make sure that it has permission to do so. To do this, we will construct a role that we can later give the Lambda function.\n",
    "\n",
    "Using the AWS Console, navigate to the **IAM** page and click on **Roles**. Then, click on **Create role**. Make sure that the **AWS service** is the type of trusted entity selected and choose **Lambda** as the service that will use this role, then click **Next: Permissions**.\n",
    "\n",
    "In the search box type `sagemaker` and select the check box next to the **AmazonSageMakerFullAccess** policy. Then, click on **Next: Review**.\n",
    "\n",
    "Lastly, give this role a name. Make sure you use a name that you will remember later on, for example `LambdaSageMakerRole`. Then, click on **Create role**.\n",
    "\n",
    "#### Part B: Create a Lambda function\n",
    "\n",
    "Now it is time to actually create the Lambda function.\n",
    "\n",
    "Using the AWS Console, navigate to the AWS Lambda page and click on **Create a function**. When you get to the next page, make sure that **Author from scratch** is selected. Now, name your Lambda function, using a name that you will remember later on, for example `sentiment_analysis_func`. Make sure that the **Python 3.6** runtime is selected and then choose the role that you created in the previous part. Then, click on **Create Function**.\n",
    "\n",
    "On the next page you will see some information about the Lambda function you've just created. If you scroll down you should see an editor in which you can write the code that will be executed when your Lambda function is triggered. In our example, we will use the code below. \n",
    "\n",
    "```python\n",
    "# We need to use the low-level library to interact with SageMaker since the SageMaker API\n",
    "# is not available natively through Lambda.\n",
    "import boto3\n",
    "\n",
    "def lambda_handler(event, context):\n",
    "\n",
    "    # The SageMaker runtime is what allows us to invoke the endpoint that we've created.\n",
    "    runtime = boto3.Session().client('sagemaker-runtime')\n",
    "\n",
    "    # Now we use the SageMaker runtime to invoke our endpoint, sending the review we were given\n",
    "    response = runtime.invoke_endpoint(EndpointName = '**ENDPOINT NAME HERE**',    # The name of the endpoint we created\n",
    "                                       ContentType = 'text/plain',                 # The data format that is expected\n",
    "                                       Body = event['body'])                       # The actual review\n",
    "\n",
    "    # The response is an HTTP response whose body contains the result of our inference\n",
    "    result = response['Body'].read().decode('utf-8')\n",
    "\n",
    "    return {\n",
    "        'statusCode' : 200,\n",
    "        'headers' : { 'Content-Type' : 'text/plain', 'Access-Control-Allow-Origin' : '*' },\n",
    "        'body' : result\n",
    "    }\n",
    "```\n",
    "\n",
    "Once you have copy and pasted the code above into the Lambda code editor, replace the `**ENDPOINT NAME HERE**` portion with the name of the endpoint that we deployed earlier. You can determine the name of the endpoint using the code cell below."
   ]
  },
  {
   "cell_type": "code",
   "execution_count": 91,
   "metadata": {},
   "outputs": [
    {
     "data": {
      "text/plain": [
       "'sagemaker-pytorch-2021-03-17-16-54-47-016'"
      ]
     },
     "execution_count": 91,
     "metadata": {},
     "output_type": "execute_result"
    }
   ],
   "source": [
    "predictor.endpoint"
   ]
  },
  {
   "cell_type": "markdown",
   "metadata": {},
   "source": [
    "Once you have added the endpoint name to the Lambda function, click on **Save**. Your Lambda function is now up and running. Next we need to create a way for our web app to execute the Lambda function.\n",
    "\n",
    "### Setting up API Gateway\n",
    "\n",
    "Now that our Lambda function is set up, it is time to create a new API using API Gateway that will trigger the Lambda function we have just created.\n",
    "\n",
    "Using AWS Console, navigate to **Amazon API Gateway** and then click on **Get started**.\n",
    "\n",
    "On the next page, make sure that **New API** is selected and give the new api a name, for example, `sentiment_analysis_api`. Then, click on **Create API**.\n",
    "\n",
    "Now we have created an API, however it doesn't currently do anything. What we want it to do is to trigger the Lambda function that we created earlier.\n",
    "\n",
    "Select the **Actions** dropdown menu and click **Create Method**. A new blank method will be created, select its dropdown menu and select **POST**, then click on the check mark beside it.\n",
    "\n",
    "For the integration point, make sure that **Lambda Function** is selected and click on the **Use Lambda Proxy integration**. This option makes sure that the data that is sent to the API is then sent directly to the Lambda function with no processing. It also means that the return value must be a proper response object as it will also not be processed by API Gateway.\n",
    "\n",
    "Type the name of the Lambda function you created earlier into the **Lambda Function** text entry box and then click on **Save**. Click on **OK** in the pop-up box that then appears, giving permission to API Gateway to invoke the Lambda function you created.\n",
    "\n",
    "The last step in creating the API Gateway is to select the **Actions** dropdown and click on **Deploy API**. You will need to create a new Deployment stage and name it anything you like, for example `prod`.\n",
    "\n",
    "You have now successfully set up a public API to access your SageMaker model. Make sure to copy or write down the URL provided to invoke your newly created public API as this will be needed in the next step. This URL can be found at the top of the page, highlighted in blue next to the text **Invoke URL**."
   ]
  },
  {
   "cell_type": "markdown",
   "metadata": {},
   "source": [
    "## Step 4: Deploying our web app\n",
    "\n",
    "Now that we have a publicly available API, we can start using it in a web app. For our purposes, we have provided a simple static html file which can make use of the public api you created earlier.\n",
    "\n",
    "In the `website` folder there should be a file called `index.html`. Download the file to your computer and open that file up in a text editor of your choice. There should be a line which contains **\\*\\*REPLACE WITH PUBLIC API URL\\*\\***. Replace this string with the url that you wrote down in the last step and then save the file.\n",
    "\n",
    "Now, if you open `index.html` on your local computer, your browser will behave as a local web server and you can use the provided site to interact with your SageMaker model.\n",
    "\n",
    "If you'd like to go further, you can host this html file anywhere you'd like, for example using github or hosting a static site on Amazon's S3. Once you have done this you can share the link with anyone you'd like and have them play with it too!\n",
    "\n",
    "> **Important Note** In order for the web app to communicate with the SageMaker endpoint, the endpoint has to actually be deployed and running. This means that you are paying for it. Make sure that the endpoint is running when you want to use the web app but that you shut it down when you don't need it, otherwise you will end up with a surprisingly large AWS bill.\n",
    "\n",
    "**TODO:** Make sure that you include the edited `index.html` file in your project submission."
   ]
  },
  {
   "cell_type": "markdown",
   "metadata": {},
   "source": [
    "Now that your web app is working, trying playing around with it and see how well it works.\n",
    "\n",
    "**Question**: Give an example of a review that you entered into your web app. What was the predicted sentiment of your example review?"
   ]
  },
  {
   "cell_type": "markdown",
   "metadata": {},
   "source": [
    "**Answer:** \n",
    "I tested first with some samples from the test data set. Such as the below reviews: \n",
    "1. \"Thanks to Warner Archive, I can once again see this mammoth variety show which throws in everything but the kitchen sink. (The bathtub, however is present.) This film gives screen time to every person who was under contract to Warners at the time. If some of the artists seem unfamiliar to some, it is because they were big in the silent days, and most faded with the popularity of the talkies. There are some truly remarkable artists from the vaudeville era as well. You will be most impressed with Winnie Lightner, who performs two numbers. Also there is that French star, Irene Bordoni who croons a love song in a sexy manner. Perhaps one of the biggest highlights is the two-strip Technicolor \"Chinese Fantasy,\" which has been restored for this version. It is truly beautiful and it stars Myrna Loy and Nick Lucas. Finally, there is the massive \"Lady Luck\" finale which goes on for nearly a quarter of an hour. This is truly an epic of the early-talkie era. Any old-movie buff will love this.\"\n",
    "\n",
    "The Answer is: Positive. \n",
    "2. \"How do you spell washed up fat Italian who can barely pull off a martial arts move without needing some heart medication? In this movie we see Steven Seagal at his lowest level of accomplishment- since his career started it has been a steady decline into pathetic over indulgent behavior that has scuttled his career. In this movie it looks like most of his training consisted of ordering the fetuccini alfredo at his restaurant every day.<br /><br />He is fat, slow and very old looking in this movie, hardly a martial arts action hero, more like a laughing stock clown.<br /><br />It's time for Steven Seagal to retire- this movie is about 2 hours of reasons why.<br /><br />Plot: fat Italian guy with a big reputation on the force gets wind that a crime group may be playing around with a drug designed by the military to create the ultimate warrior response. This pretense, although pathetic and laughable, gives opportunity for some over the top fight scenes that include blasting through walls like a comic book.<br /><br />Did I mention this movie totally sucks and Steven Seagal is a complete joke? yeah. I did.\"\n",
    "\n",
    "The Answer is: Negative. \n",
    "\n",
    "I also entered some random reviews, such as: \n",
    "1. \"I love this movie, it really turns out what I was expecting. Great act and beautiful story.\"  \n",
    "\n",
    "The Answer is: Positive. \n",
    "2. \"I didn't like this movie at all. It started with nice story, but after half an hour it really gets boring and the end is to what I expected. Unfortunately it turns out to be frustrating experience. \" \n",
    "\n",
    "The answer is: Negative."
   ]
  },
  {
   "cell_type": "markdown",
   "metadata": {},
   "source": [
    "### Delete the endpoint\n",
    "\n",
    "Remember to always shut down your endpoint if you are no longer using it. You are charged for the length of time that the endpoint is running so if you forget and leave it on you could end up with an unexpectedly large bill."
   ]
  },
  {
   "cell_type": "code",
   "execution_count": 92,
   "metadata": {},
   "outputs": [],
   "source": [
    "predictor.delete_endpoint()"
   ]
  },
  {
   "cell_type": "code",
   "execution_count": null,
   "metadata": {},
   "outputs": [],
   "source": []
  }
 ],
 "metadata": {
  "kernelspec": {
   "display_name": "conda_pytorch_p36",
   "language": "python",
   "name": "conda_pytorch_p36"
  },
  "language_info": {
   "codemirror_mode": {
    "name": "ipython",
    "version": 3
   },
   "file_extension": ".py",
   "mimetype": "text/x-python",
   "name": "python",
   "nbconvert_exporter": "python",
   "pygments_lexer": "ipython3",
   "version": "3.6.13"
  }
 },
 "nbformat": 4,
 "nbformat_minor": 2
}
